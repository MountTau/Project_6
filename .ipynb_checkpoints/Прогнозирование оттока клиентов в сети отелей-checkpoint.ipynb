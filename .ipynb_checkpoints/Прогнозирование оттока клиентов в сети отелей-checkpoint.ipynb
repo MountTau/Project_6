{
 "cells": [
  {
   "cell_type": "markdown",
   "metadata": {},
   "source": [
    "# Прогнозирование оттока клиентов в сети отелей «***»"
   ]
  },
  {
   "cell_type": "markdown",
   "metadata": {},
   "source": [
    "Заказчик этого исследования — сеть отелей «***».\n",
    "    Чтобы привлечь клиентов, эта сеть отелей добавила на свой сайт возможность забронировать номер без предоплаты. Однако если клиент отменял бронирование, то компания терпела убытки. Сотрудники отеля могли, например, закупить продукты к приезду гостя или просто не успеть найти другого клиента.\n",
    "    Чтобы решить эту проблему, вам нужно разработать систему, которая предсказывает отказ от брони. Если модель покажет, что бронь будет отменена, то клиенту предлагается внести депозит. Размер депозита — 80% от стоимости номера за одни сутки и затрат на разовую уборку. Деньги будут списаны со счёта клиента, если он всё же отменит бронь.\n"
   ]
  },
  {
   "cell_type": "markdown",
   "metadata": {},
   "source": [
    "\n",
    "Основная бизнес-метрика для любой сети отелей — её прибыль. Прибыль отеля — это разница между стоимостью номера за все ночи и затраты на обслуживание: как при подготовке номера, так и при проживании постояльца.\n",
    "В отеле есть несколько типов номеров. В зависимости от типа номера назначается стоимость за одну ночь. Есть также затраты на уборку. Если клиент снял номер надолго, то убираются каждые два дня.\n",
    "Стоимость номеров отеля:\n",
    "- категория A: за ночь — 1 000, разовое обслуживание — 400;\n",
    "- категория B: за ночь — 800, разовое обслуживание — 350;\n",
    "- категория C: за ночь — 600, разовое обслуживание — 350;\n",
    "- категория D: за ночь — 550, разовое обслуживание — 150;\n",
    "- категория E: за ночь — 500, разовое обслуживание — 150;\n",
    "- категория F: за ночь — 450, разовое обслуживание — 150;\n",
    "- категория G: за ночь — 350, разовое обслуживание — 150.\n",
    "В ценовой политике отеля используются сезонные коэффициенты: \n",
    "- весной и осенью цены повышаются на 20%;\n",
    "- летом — на 40%.\n"
   ]
  },
  {
   "cell_type": "markdown",
   "metadata": {},
   "source": [
    "На разработку системы прогнозирования заложен бюджет — 400 000. При этом необходимо учесть, что внедрение модели должно окупиться за год. Затраты на разработку должны быть меньше той выручки, которую система принесёт компании."
   ]
  },
  {
   "cell_type": "markdown",
   "metadata": {},
   "source": [
    "### Открытие файлы с данными"
   ]
  },
  {
   "cell_type": "code",
   "execution_count": 1,
   "metadata": {},
   "outputs": [],
   "source": [
    "# Импорт библиотек.\n",
    "import pandas as pd\n",
    "import numpy as np\n",
    "import matplotlib.pyplot as plt\n",
    "import seaborn as sns\n",
    "\n",
    "from sklearn.model_selection import train_test_split\n",
    "\n",
    "from sklearn.preprocessing import OneHotEncoder\n",
    "from sklearn.preprocessing import StandardScaler\n",
    "\n",
    "from sklearn.tree import DecisionTreeClassifier\n",
    "from sklearn.ensemble import RandomForestClassifier\n",
    "from sklearn.linear_model import LogisticRegression\n",
    "\n",
    "from sklearn.metrics import roc_auc_score\n",
    "from sklearn.metrics import f1_score\n",
    "\n",
    "from sklearn.model_selection import cross_val_score \n",
    "from sklearn.preprocessing import StandardScaler\n"
   ]
  },
  {
   "cell_type": "code",
   "execution_count": 7,
   "metadata": {
    "scrolled": false
   },
   "outputs": [
    {
     "data": {
      "text/html": [
       "<div>\n",
       "<style scoped>\n",
       "    .dataframe tbody tr th:only-of-type {\n",
       "        vertical-align: middle;\n",
       "    }\n",
       "\n",
       "    .dataframe tbody tr th {\n",
       "        vertical-align: top;\n",
       "    }\n",
       "\n",
       "    .dataframe thead th {\n",
       "        text-align: right;\n",
       "    }\n",
       "</style>\n",
       "<table border=\"1\" class=\"dataframe\">\n",
       "  <thead>\n",
       "    <tr style=\"text-align: right;\">\n",
       "      <th></th>\n",
       "      <th>id</th>\n",
       "      <th>is_canceled</th>\n",
       "      <th>lead_time</th>\n",
       "      <th>arrival_date_year</th>\n",
       "      <th>arrival_date_month</th>\n",
       "      <th>arrival_date_week_number</th>\n",
       "      <th>arrival_date_day_of_month</th>\n",
       "      <th>stays_in_weekend_nights</th>\n",
       "      <th>stays_in_week_nights</th>\n",
       "      <th>adults</th>\n",
       "      <th>...</th>\n",
       "      <th>is_repeated_guest</th>\n",
       "      <th>previous_cancellations</th>\n",
       "      <th>previous_bookings_not_canceled</th>\n",
       "      <th>reserved_room_type</th>\n",
       "      <th>booking_changes</th>\n",
       "      <th>days_in_waiting_list</th>\n",
       "      <th>customer_type</th>\n",
       "      <th>required_car_parking_spaces</th>\n",
       "      <th>total_of_special_requests</th>\n",
       "      <th>total_nights</th>\n",
       "    </tr>\n",
       "  </thead>\n",
       "  <tbody>\n",
       "    <tr>\n",
       "      <th>0</th>\n",
       "      <td>0</td>\n",
       "      <td>0</td>\n",
       "      <td>7.0</td>\n",
       "      <td>2015</td>\n",
       "      <td>July</td>\n",
       "      <td>27</td>\n",
       "      <td>1</td>\n",
       "      <td>0</td>\n",
       "      <td>1</td>\n",
       "      <td>1.0</td>\n",
       "      <td>...</td>\n",
       "      <td>0</td>\n",
       "      <td>0</td>\n",
       "      <td>0</td>\n",
       "      <td>A</td>\n",
       "      <td>0</td>\n",
       "      <td>0</td>\n",
       "      <td>Transient</td>\n",
       "      <td>0</td>\n",
       "      <td>0</td>\n",
       "      <td>1</td>\n",
       "    </tr>\n",
       "    <tr>\n",
       "      <th>1</th>\n",
       "      <td>1</td>\n",
       "      <td>0</td>\n",
       "      <td>14.0</td>\n",
       "      <td>2015</td>\n",
       "      <td>July</td>\n",
       "      <td>27</td>\n",
       "      <td>1</td>\n",
       "      <td>0</td>\n",
       "      <td>2</td>\n",
       "      <td>2.0</td>\n",
       "      <td>...</td>\n",
       "      <td>0</td>\n",
       "      <td>0</td>\n",
       "      <td>0</td>\n",
       "      <td>A</td>\n",
       "      <td>0</td>\n",
       "      <td>0</td>\n",
       "      <td>Transient</td>\n",
       "      <td>0</td>\n",
       "      <td>1</td>\n",
       "      <td>2</td>\n",
       "    </tr>\n",
       "    <tr>\n",
       "      <th>2</th>\n",
       "      <td>2</td>\n",
       "      <td>0</td>\n",
       "      <td>0.0</td>\n",
       "      <td>2015</td>\n",
       "      <td>July</td>\n",
       "      <td>27</td>\n",
       "      <td>1</td>\n",
       "      <td>0</td>\n",
       "      <td>2</td>\n",
       "      <td>2.0</td>\n",
       "      <td>...</td>\n",
       "      <td>0</td>\n",
       "      <td>0</td>\n",
       "      <td>0</td>\n",
       "      <td>C</td>\n",
       "      <td>0</td>\n",
       "      <td>0</td>\n",
       "      <td>Transient</td>\n",
       "      <td>0</td>\n",
       "      <td>0</td>\n",
       "      <td>2</td>\n",
       "    </tr>\n",
       "  </tbody>\n",
       "</table>\n",
       "<p>3 rows × 25 columns</p>\n",
       "</div>"
      ],
      "text/plain": [
       "   id  is_canceled  lead_time  arrival_date_year arrival_date_month  \\\n",
       "0   0            0        7.0               2015               July   \n",
       "1   1            0       14.0               2015               July   \n",
       "2   2            0        0.0               2015               July   \n",
       "\n",
       "   arrival_date_week_number  arrival_date_day_of_month  \\\n",
       "0                        27                          1   \n",
       "1                        27                          1   \n",
       "2                        27                          1   \n",
       "\n",
       "   stays_in_weekend_nights  stays_in_week_nights  adults  ...  \\\n",
       "0                        0                     1     1.0  ...   \n",
       "1                        0                     2     2.0  ...   \n",
       "2                        0                     2     2.0  ...   \n",
       "\n",
       "   is_repeated_guest  previous_cancellations previous_bookings_not_canceled  \\\n",
       "0                  0                       0                              0   \n",
       "1                  0                       0                              0   \n",
       "2                  0                       0                              0   \n",
       "\n",
       "  reserved_room_type booking_changes  days_in_waiting_list  customer_type  \\\n",
       "0   A                              0                     0      Transient   \n",
       "1   A                              0                     0      Transient   \n",
       "2   C                              0                     0      Transient   \n",
       "\n",
       "   required_car_parking_spaces total_of_special_requests  total_nights  \n",
       "0                            0                         0             1  \n",
       "1                            0                         1             2  \n",
       "2                            0                         0             2  \n",
       "\n",
       "[3 rows x 25 columns]"
      ]
     },
     "metadata": {},
     "output_type": "display_data"
    },
    {
     "data": {
      "text/html": [
       "<div>\n",
       "<style scoped>\n",
       "    .dataframe tbody tr th:only-of-type {\n",
       "        vertical-align: middle;\n",
       "    }\n",
       "\n",
       "    .dataframe tbody tr th {\n",
       "        vertical-align: top;\n",
       "    }\n",
       "\n",
       "    .dataframe thead th {\n",
       "        text-align: right;\n",
       "    }\n",
       "</style>\n",
       "<table border=\"1\" class=\"dataframe\">\n",
       "  <thead>\n",
       "    <tr style=\"text-align: right;\">\n",
       "      <th></th>\n",
       "      <th>id</th>\n",
       "      <th>is_canceled</th>\n",
       "      <th>lead_time</th>\n",
       "      <th>arrival_date_year</th>\n",
       "      <th>arrival_date_month</th>\n",
       "      <th>arrival_date_week_number</th>\n",
       "      <th>arrival_date_day_of_month</th>\n",
       "      <th>stays_in_weekend_nights</th>\n",
       "      <th>stays_in_week_nights</th>\n",
       "      <th>adults</th>\n",
       "      <th>...</th>\n",
       "      <th>is_repeated_guest</th>\n",
       "      <th>previous_cancellations</th>\n",
       "      <th>previous_bookings_not_canceled</th>\n",
       "      <th>reserved_room_type</th>\n",
       "      <th>booking_changes</th>\n",
       "      <th>days_in_waiting_list</th>\n",
       "      <th>customer_type</th>\n",
       "      <th>required_car_parking_spaces</th>\n",
       "      <th>total_of_special_requests</th>\n",
       "      <th>total_nights</th>\n",
       "    </tr>\n",
       "  </thead>\n",
       "  <tbody>\n",
       "    <tr>\n",
       "      <th>0</th>\n",
       "      <td>6086</td>\n",
       "      <td>1</td>\n",
       "      <td>74.0</td>\n",
       "      <td>2017</td>\n",
       "      <td>January</td>\n",
       "      <td>1</td>\n",
       "      <td>1</td>\n",
       "      <td>1</td>\n",
       "      <td>0</td>\n",
       "      <td>2.0</td>\n",
       "      <td>...</td>\n",
       "      <td>0</td>\n",
       "      <td>0</td>\n",
       "      <td>0</td>\n",
       "      <td>A</td>\n",
       "      <td>0</td>\n",
       "      <td>0</td>\n",
       "      <td>Transient</td>\n",
       "      <td>0</td>\n",
       "      <td>0</td>\n",
       "      <td>1</td>\n",
       "    </tr>\n",
       "    <tr>\n",
       "      <th>1</th>\n",
       "      <td>6087</td>\n",
       "      <td>1</td>\n",
       "      <td>62.0</td>\n",
       "      <td>2017</td>\n",
       "      <td>January</td>\n",
       "      <td>1</td>\n",
       "      <td>1</td>\n",
       "      <td>2</td>\n",
       "      <td>2</td>\n",
       "      <td>2.0</td>\n",
       "      <td>...</td>\n",
       "      <td>0</td>\n",
       "      <td>0</td>\n",
       "      <td>0</td>\n",
       "      <td>A</td>\n",
       "      <td>0</td>\n",
       "      <td>0</td>\n",
       "      <td>Transient</td>\n",
       "      <td>0</td>\n",
       "      <td>1</td>\n",
       "      <td>4</td>\n",
       "    </tr>\n",
       "    <tr>\n",
       "      <th>2</th>\n",
       "      <td>6088</td>\n",
       "      <td>1</td>\n",
       "      <td>62.0</td>\n",
       "      <td>2017</td>\n",
       "      <td>January</td>\n",
       "      <td>1</td>\n",
       "      <td>1</td>\n",
       "      <td>2</td>\n",
       "      <td>2</td>\n",
       "      <td>2.0</td>\n",
       "      <td>...</td>\n",
       "      <td>0</td>\n",
       "      <td>0</td>\n",
       "      <td>0</td>\n",
       "      <td>A</td>\n",
       "      <td>0</td>\n",
       "      <td>0</td>\n",
       "      <td>Transient</td>\n",
       "      <td>0</td>\n",
       "      <td>1</td>\n",
       "      <td>4</td>\n",
       "    </tr>\n",
       "  </tbody>\n",
       "</table>\n",
       "<p>3 rows × 25 columns</p>\n",
       "</div>"
      ],
      "text/plain": [
       "     id  is_canceled  lead_time  arrival_date_year arrival_date_month  \\\n",
       "0  6086            1       74.0               2017            January   \n",
       "1  6087            1       62.0               2017            January   \n",
       "2  6088            1       62.0               2017            January   \n",
       "\n",
       "   arrival_date_week_number  arrival_date_day_of_month  \\\n",
       "0                         1                          1   \n",
       "1                         1                          1   \n",
       "2                         1                          1   \n",
       "\n",
       "   stays_in_weekend_nights  stays_in_week_nights  adults  ...  \\\n",
       "0                        1                     0     2.0  ...   \n",
       "1                        2                     2     2.0  ...   \n",
       "2                        2                     2     2.0  ...   \n",
       "\n",
       "   is_repeated_guest  previous_cancellations previous_bookings_not_canceled  \\\n",
       "0                  0                       0                              0   \n",
       "1                  0                       0                              0   \n",
       "2                  0                       0                              0   \n",
       "\n",
       "  reserved_room_type booking_changes  days_in_waiting_list  customer_type  \\\n",
       "0   A                              0                     0      Transient   \n",
       "1   A                              0                     0      Transient   \n",
       "2   A                              0                     0      Transient   \n",
       "\n",
       "   required_car_parking_spaces total_of_special_requests  total_nights  \n",
       "0                            0                         0             1  \n",
       "1                            0                         1             4  \n",
       "2                            0                         1             4  \n",
       "\n",
       "[3 rows x 25 columns]"
      ]
     },
     "metadata": {},
     "output_type": "display_data"
    }
   ],
   "source": [
    "# Чтение файлов с данными и сохранение в датасеты.\n",
    "hotel_train = pd.read_csv('/Users/user/Desktop/Project/Project_6/hotel_train.csv')\n",
    "hotel_test = pd.read_csv('/Users/user/Desktop/Project/Project_6/hotel_test.csv')\n",
    "\n",
    "# Получение первых 5 строк датасетов\n",
    "display(hotel_train.head(3))\n",
    "display(hotel_test.head(3))\n"
   ]
  },
  {
   "cell_type": "code",
   "execution_count": null,
   "metadata": {
    "scrolled": false
   },
   "outputs": [],
   "source": [
    "# Получение общей информации о данных в датасетах\n",
    "print(hotel_train.info())\n",
    "print(hotel_test.info())"
   ]
  },
  {
   "cell_type": "code",
   "execution_count": null,
   "metadata": {},
   "outputs": [],
   "source": [
    "# Проверка наличия пропусков в датасетах\n",
    "print(hotel_train.isna().sum())\n",
    "print(hotel_test.isna().sum())"
   ]
  },
  {
   "cell_type": "code",
   "execution_count": null,
   "metadata": {
    "scrolled": false
   },
   "outputs": [],
   "source": [
    "# Проверим на наличие явных дубликатов\n",
    "print(hotel_train.duplicated().sum())\n",
    "print(hotel_test.duplicated().sum())"
   ]
  },
  {
   "cell_type": "code",
   "execution_count": null,
   "metadata": {
    "scrolled": false
   },
   "outputs": [],
   "source": [
    "# общие характеристики и проверка на наличие выбивающихся значений\n",
    "display(hotel_train.describe())\n",
    "display(hotel_test.describe())"
   ]
  },
  {
   "cell_type": "code",
   "execution_count": null,
   "metadata": {
    "scrolled": false
   },
   "outputs": [],
   "source": [
    "# оценка корреляций признаков\n",
    "display(hotel_train.corr())\n",
    "plt.rcParams['figure.figsize'] = (12.0, 12.0)\n",
    "sns.heatmap(hotel_train.corr(), annot=True, linewidths=3, linecolor='white')"
   ]
  },
  {
   "cell_type": "code",
   "execution_count": null,
   "metadata": {},
   "outputs": [],
   "source": [
    "# Смотрим уникальные значения и их количество в столбце отмена заказа\n",
    "\n",
    "hotel_train['is_canceled'].value_counts() \n",
    "# Строим гистограмму распределния фактов отмены заказа.\n",
    "hotel_train['is_canceled'].value_counts().plot(kind='pie', figsize=(9, 9), autopct='%1.1f%%')\n",
    "plt.title('Отмена заказа')"
   ]
  },
  {
   "cell_type": "code",
   "execution_count": null,
   "metadata": {},
   "outputs": [],
   "source": [
    "# Смотрим уникальные значения и их количество в столбце месяц заезда\n",
    "print(hotel_train['arrival_date_month'].value_counts())\n",
    "\n",
    "# Строим гистограмму количество заездов в каждый месяц.\n",
    "hotel_train['arrival_date_month'].value_counts().plot(kind='bar', figsize=(9, 9))\n",
    "plt.title('Количество заездов в каждый месяц')\n",
    "plt.xlabel('Месяц')\n",
    "plt.ylabel('Количество')\n",
    "plt.legend([])"
   ]
  },
  {
   "cell_type": "code",
   "execution_count": null,
   "metadata": {
    "scrolled": false
   },
   "outputs": [],
   "source": [
    "# Смотрим уникальные значения и их количество в столбце тип забронированной комнаты\n",
    "hotel_train['reserved_room_type'].value_counts() \n",
    "# Строим гистограмму распределния типа забронированных комнат.\n",
    "hotel_train['reserved_room_type'].value_counts().plot(kind='pie', figsize=(9, 9), autopct='%1.1f%%')\n",
    "plt.title('Тип забронированных комнат')"
   ]
  },
  {
   "cell_type": "markdown",
   "metadata": {},
   "source": [
    "В датафреймах hotel_train и hotel_test содержатся одинаковые столбцы, в которых имеются категориальные и количественные даные. В каждом фрейме содержится по 25 столбцов. Изучив данные, можно сделать следующие выводы:\n",
    "- в таблицах содержится 25 столбцов, тип данных столбцов - float64(4), int64(15), object(6). Тип данных float64 необходимо заменить на int64;\n",
    "- дубликаты отсутсвуют;\n",
    "- пропуски не обнаружены;\n",
    "- данные распределены нормально, выбросы не обнаружены. Так, в столбце lead_time содержится количество дней между датой бронирования и датой прибытияминимальное, при этом минимальное значение 0, а максимальное 374, что вполне может быть - бронирование и заселение день в день, и бронирование более чем за год;\n",
    "- в столбце reserved_room_type содержится тип забронированной комнаты, данные соответствуют условиям задачи;\n",
    "- в обучающей выборке содержатся данные за 2015-2016 год, а в тестовой за 2017 год;\n",
    "- больше всего заездов в октябре, сентябре и августе, меньше всего в январе., феврале, марте;\n",
    "- 37% клиетов отменяют бронь или не заезжают в номер;\n",
    "- 77% из всех забронированных комнатах составляеют номера категории А (самые дорогие);\n",
    "- в основном данные коррелируют слабо между собой."
   ]
  },
  {
   "cell_type": "markdown",
   "metadata": {},
   "source": [
    "Согласно документации, в таблицах hotel_train и hotel_test содержатся одинаковые столбцы:\n",
    "- id — номер записи;\n",
    "- adults — количество взрослых постояльцев;\n",
    "- arrival_date_year — год заезда;\n",
    "- arrival_date_month — месяц заезда;\n",
    "- arrival_date_week_number — неделя заезда;\n",
    "- arrival_date_day_of_month — день заезда;\n",
    "- babies — количество младенцев;\n",
    "- booking_changes — количество изменений параметров заказа;\n",
    "- children — количество детей от 3 до 14 лет;\n",
    "- country — гражданство постояльца;\n",
    "- customer_type — тип заказчика:\n",
    " - Contract — договор с юридическим лицом;\n",
    " - Group — групповой заезд;\n",
    " - Transient — не связано с договором или групповым заездом;\n",
    " - Transient-party — не связано с договором или групповым заездом, но связано с бронированием типа Transient.\n",
    "- days_in_waiting_list — сколько дней заказ ожидал подтверждения;\n",
    "- distribution_channel — канал дистрибуции заказа;\n",
    "- is_canceled — отмена заказа;\n",
    "- is_repeated_guest — признак того, что гость бронирует номер второй раз;\n",
    "- lead_time — количество дней между датой бронирования и датой прибытия;\n",
    "- meal — опции заказа:\n",
    " - SC — нет дополнительных опций;\n",
    " - BB — включён завтрак;\n",
    " - HB — включён завтрак и обед;\n",
    " - FB — включён завтрак, обед и ужин.\n",
    "- previous_bookings_not_canceled — количество подтверждённых заказов у клиента;\n",
    "- previous_cancellations — количество отменённых заказов у клиента;\n",
    "- required_car_parking_spaces — необходимость места для автомобиля;\n",
    "- reserved_room_type — тип забронированной комнаты;\n",
    "- stays_in_weekend_nights — количество ночей в выходные дни;\n",
    "- stays_in_week_nights — количество ночей в будние дни;\n",
    "- total_nights — общее количество ночей;\n",
    "- total_of_special_requests — количество специальных отметок."
   ]
  },
  {
   "cell_type": "markdown",
   "metadata": {},
   "source": [
    "### Предобработка и исследовательский анализ данных"
   ]
  },
  {
   "cell_type": "markdown",
   "metadata": {},
   "source": [
    "В столбцах lead_time, adults, children, babies тип данных float64, заменим на int64."
   ]
  },
  {
   "cell_type": "code",
   "execution_count": null,
   "metadata": {
    "scrolled": false
   },
   "outputs": [],
   "source": [
    "# Меняем тип данных на целоцисленный.\n",
    "hotel_train, hotel_test = hotel_train, hotel_test.astype(\n",
    "    {'lead_time': 'int64', 'adults': 'int64', 'children':'int64',\n",
    "     'babies': 'int64'}    \n",
    ")\n",
    "# Проверяем изменение данных\n",
    "hotel_train.info()\n",
    "hotel_test.info()"
   ]
  },
  {
   "cell_type": "markdown",
   "metadata": {},
   "source": [
    "В столбцах lead_time, adults, children, babies тип данных float64 заменили на int64."
   ]
  },
  {
   "cell_type": "markdown",
   "metadata": {},
   "source": [
    "Расчитаем прибыль отеля до внедрения машинного обучения. Прибыль отеля — это разница между стоимостью номера за все ночи и затраты на обслуживание: как при подготовке номера, так и при проживании постояльца.В отеле есть несколько типов номеров. В зависимости от типа номера назначается стоимость за одну ночь. Есть также затраты на уборку. Если клиент снял номер надолго, то убираются каждые два дня."
   ]
  },
  {
   "cell_type": "code",
   "execution_count": null,
   "metadata": {},
   "outputs": [],
   "source": [
    "# Удаляем пробелы в строках в столбце reserved_room_type и meal.\n",
    "hotel_train['reserved_room_type'] = hotel_train['reserved_room_type'].str.strip() \n",
    "hotel_test['reserved_room_type'] = hotel_test['reserved_room_type'].str.strip() \n",
    "\n",
    "hotel_train['meal'] = hotel_train['meal'].str.strip() \n",
    "hotel_test['meal'] = hotel_test['meal'].str.strip() \n"
   ]
  },
  {
   "cell_type": "code",
   "execution_count": null,
   "metadata": {},
   "outputs": [],
   "source": [
    "# Удалим столбцы id\n",
    "hotel_train = hotel_train.drop(['id'], axis=1)\n",
    "hotel_test = hotel_test.drop(['id'], axis=1)"
   ]
  },
  {
   "cell_type": "code",
   "execution_count": null,
   "metadata": {},
   "outputs": [],
   "source": [
    "hotel_train.head(3)"
   ]
  },
  {
   "cell_type": "code",
   "execution_count": null,
   "metadata": {
    "scrolled": true
   },
   "outputs": [],
   "source": [
    "# Создадим копию hotel_test\n",
    "hotel_profit = hotel_test.copy(deep=True)\n",
    "\n",
    "# Оставим те столбцы, которые пригодятся для расчета прибыли\n",
    "hotel_profit = hotel_profit[['is_canceled', 'arrival_date_year', 'arrival_date_month', 'arrival_date_week_number', \n",
    "                             'arrival_date_day_of_month', 'reserved_room_type', 'total_nights']]\n",
    "hotel_profit.head(3)"
   ]
  },
  {
   "cell_type": "code",
   "execution_count": null,
   "metadata": {},
   "outputs": [],
   "source": [
    "# Создаем функцию для сезонного коэффицента \n",
    "def coef(row):\n",
    "    arrival_date_month = row['arrival_date_month']\n",
    "    if arrival_date_month == 'December' or arrival_date_month == 'January' or arrival_date_month == 'February':\n",
    "        return 1.0\n",
    "    if arrival_date_month == 'June' or arrival_date_month == 'July' or arrival_date_month =='August':\n",
    "        return 1.4\n",
    "    else:\n",
    "        return 1.2\n",
    "\n",
    "# Создаем функцию для определения стоимости номера     \n",
    "def price_room(row):\n",
    "    reserved_room_type = row['reserved_room_type']\n",
    "    if reserved_room_type == 'A':\n",
    "        return 1000 \n",
    "    elif reserved_room_type == 'B':\n",
    "        return 800\n",
    "    elif reserved_room_type == 'C':\n",
    "        return 600\n",
    "    elif reserved_room_type == 'D':\n",
    "        return 550\n",
    "    elif reserved_room_type == 'E':\n",
    "        return 500\n",
    "    elif reserved_room_type == 'F':\n",
    "        return 450\n",
    "    else: \n",
    "        return 350\n",
    "\n",
    "# Создаем функцию для определения стоимости обслуживания номера    \n",
    "def price_service(row):\n",
    "    reserved_room_type = row['reserved_room_type']\n",
    "    if reserved_room_type == 'A':\n",
    "        return 400 \n",
    "    elif reserved_room_type == 'B' or reserved_room_type == 'C':\n",
    "        return 350\n",
    "    else: \n",
    "        return 150"
   ]
  },
  {
   "cell_type": "code",
   "execution_count": null,
   "metadata": {
    "scrolled": true
   },
   "outputs": [],
   "source": [
    "# Применяем функции\n",
    "hotel_profit['seas_coef'] = hotel_profit.apply(coef, axis=1)\n",
    "hotel_profit['price_room'] = hotel_profit.apply(price_room, axis=1)\n",
    "hotel_profit['price_service'] = hotel_profit.apply(price_service, axis=1)\n",
    "hotel_profit.head(2)"
   ]
  },
  {
   "cell_type": "code",
   "execution_count": null,
   "metadata": {
    "scrolled": false
   },
   "outputs": [],
   "source": [
    "# Проверяем применение функций\n",
    "display(hotel_profit['seas_coef'].value_counts().to_frame())\n",
    "display(hotel_profit['price_room'].value_counts().to_frame())\n",
    "display(hotel_profit['price_service'].value_counts().to_frame())"
   ]
  },
  {
   "cell_type": "markdown",
   "metadata": {},
   "source": [
    "is_canceled == 0 значит, что клиент воспользовался забронированным номером и заселился, и is_canceled == 1 - клиент снял бронь или не заселился. "
   ]
  },
  {
   "cell_type": "code",
   "execution_count": null,
   "metadata": {},
   "outputs": [],
   "source": [
    "# создаем функцию для подсчета прибыли с каждого клиента\n",
    "def profit(row):\n",
    "    if row['is_canceled'] == 0:\n",
    "        if row['total_nights'] > 2: \n",
    "            return row['price_room'] * row['seas_coef'] * row['total_nights'] - row['price_service'] - int(row['total_nights']/2)*row['price_service']\n",
    "        else:\n",
    "            return row['price_room'] * row['seas_coef'] * row['total_nights'] - row['price_service']\n",
    "    else:\n",
    "        return - row['price_room'] * row['seas_coef']\n",
    "            "
   ]
  },
  {
   "cell_type": "code",
   "execution_count": null,
   "metadata": {},
   "outputs": [],
   "source": [
    "# Применяем функцию для подсчета прибыли с каждого клиента\n",
    "hotel_profit['profit'] = hotel_profit.apply(profit, axis=1)"
   ]
  },
  {
   "cell_type": "code",
   "execution_count": null,
   "metadata": {
    "scrolled": true
   },
   "outputs": [],
   "source": [
    "hotel_profit.head(2)"
   ]
  },
  {
   "cell_type": "code",
   "execution_count": null,
   "metadata": {},
   "outputs": [],
   "source": [
    "print('Суммарна прибыль отеля до внедрения депозитов', hotel_profit['profit'].sum())"
   ]
  },
  {
   "cell_type": "markdown",
   "metadata": {},
   "source": [
    "### Формулировка ML-задачи на основе бизнес-задачи"
   ]
  },
  {
   "cell_type": "markdown",
   "metadata": {},
   "source": [
    "Сеть отелей «Как в гостях» добавила на свой сайт новую услугу - бронирование номеров без предоплаты. Однако если клиент отменял бронирование (а таких 37%), то компания терпела убытки. Сотрудники отеля могли, например, закупить продукты к приезду гостя или просто не успеть найти другого клиента. Компания хочет защить себя от таких убытков. В данной работе мы будем учитывать убыток только ввиде разового обслуживания.\n",
    "\n",
    "Наша задача: на основе тренировочных данных предсказать на тестовых данных отказ клиента от брони. Тем клиентам, кому мы предсказали высокую вероятность отказа от брони выставляется счет на оплату 80% от стоимости номера за одни сутки и затрат на разовую уборку. Деньги будут списаны со счёта клиента, если он всё же отменит бронь. \n",
    "Модель может допустить  ошибки. Они могут быть:\n",
    "- FP - мы забронировали номер Надежному клиенту с внесением депозита (Надежный клиент - это клиент, уверенный в своем выборе, то есть не будет изменять параметры бронирования и уверен, что его поездка состоится, и он не планирует отменять бронь). В этом случае мы предполагаем, что предложение Надежному клиенту о внесении депозита не повлечет за собой его отказ от услуг бронирования номера. Так как, если его поездка состоится - он ничего не потеряет.\n",
    "- FN - мы забронировали номер без внесения депозита Ненадежному клиенту (Ненадежный клиент - это клиент, который не уверен, что его поездка состоится, или он бронирует несколько номеров в разных гостиницах, чтобы выбрать в последствии один из них, ввиду новых условий, открывшихся для него). В этом случае мы терпим убыток в размере суммы разового обслуживания.\n",
    "\n",
    "\n",
    "Верные предсказания:\n",
    "- TP - истинно-положительные - мы забронировали номер Ненадежному клиенту с выставлением счета на оплату 80% от стоимости номера за одни сутки и затрат на разовую уборку. В этом случае, если клиент откажется - у нас не будет убытка, а даже небольшая прибыль в размере: 80% от стоимости номера за одни сутки (с учетом сезонного коэффицента) за вычетом затрат на разовую уборку.\n",
    "- TN - истинно-отрицательные - мы забронировали номер Надежному клиенту без выставления счета на оплату. В этом случае мы ничего не теряем, так как Надежный клиент воспользуется забронированным номером с высокой вероятностью.\n",
    "\n",
    "На разработку системы прогнозирования заложен бюджет — 400 000. При этом необходимо учесть, что внедрение модели должно окупиться за год. Затраты на разработку должны быть меньше той выручки, которую система принесёт компании.\n",
    "\n",
    "Рассмотрим два варианта рассчета экономической эффективности системы прогнозирования(ML):\n",
    "- Положительный - предложение внесения депозита не влияет на отток клиентов.\n",
    "- Отрицательный - предложение внесения депозита влечёт отток 75% клиентов."
   ]
  },
  {
   "cell_type": "markdown",
   "metadata": {},
   "source": [
    "### Разработка модели ML"
   ]
  },
  {
   "cell_type": "code",
   "execution_count": null,
   "metadata": {},
   "outputs": [],
   "source": [
    "# Создадим признаки и целевой признак\n",
    "features_train = hotel_train.drop(['is_canceled'], axis=1)\n",
    "target_train = hotel_train['is_canceled']\n",
    "\n",
    "features_test = hotel_test.drop(['is_canceled'], axis=1)\n",
    "target_test = hotel_test['is_canceled']"
   ]
  },
  {
   "cell_type": "code",
   "execution_count": null,
   "metadata": {},
   "outputs": [],
   "source": [
    "# Прповерим соотношение выборок\n",
    "display(features_train.shape, features_test.shape)\n",
    "display(target_train.shape,  target_test.shape)"
   ]
  },
  {
   "cell_type": "code",
   "execution_count": null,
   "metadata": {},
   "outputs": [],
   "source": [
    "# оценим баланс классов\n",
    "target_train.value_counts(normalize=True)"
   ]
  },
  {
   "cell_type": "code",
   "execution_count": null,
   "metadata": {},
   "outputs": [],
   "source": [
    "# Преобразуем категориальный признак 'country' техникой TargetEncoder()\n",
    "from category_encoders.target_encoder import TargetEncoder\n",
    "target_encoder = TargetEncoder() \n",
    "target_encoder.fit(features_train['country'], target_train)\n",
    "features_train['country'] = target_encoder.transform(features_train['country'], target_train)\n",
    "features_test['country'] = target_encoder.transform(features_test['country'], target_test)"
   ]
  },
  {
   "cell_type": "code",
   "execution_count": null,
   "metadata": {},
   "outputs": [],
   "source": [
    "features_train.info()"
   ]
  },
  {
   "cell_type": "markdown",
   "metadata": {},
   "source": [
    "Преобразуем категориальные признаки техникой One-Hot Encoding (OHE)."
   ]
  },
  {
   "cell_type": "code",
   "execution_count": null,
   "metadata": {},
   "outputs": [],
   "source": [
    "# Кодируем категориальные признаки \n",
    "ohe = ['arrival_date_month', 'meal', 'distribution_channel', 'reserved_room_type', 'customer_type']\n",
    "encoder = OneHotEncoder(handle_unknown='ignore', sparse=False)\n",
    "encoder.fit(features_train[ohe])\n",
    "features_train_ohe = pd.DataFrame(encoder.transform(features_train[ohe]), columns = encoder.get_feature_names(ohe))\n",
    "features_test_ohe = pd.DataFrame(encoder.transform(features_test[ohe]), columns = encoder.get_feature_names(ohe))"
   ]
  },
  {
   "cell_type": "code",
   "execution_count": null,
   "metadata": {},
   "outputs": [],
   "source": [
    "# Масштабируем численные признаки\n",
    "numeric = ['lead_time', 'arrival_date_year', 'arrival_date_week_number', 'arrival_date_day_of_month', 'stays_in_weekend_nights',\n",
    "           'stays_in_week_nights', 'adults', 'children', 'babies','previous_cancellations', 'previous_bookings_not_canceled',\n",
    "           'booking_changes', 'days_in_waiting_list','required_car_parking_spaces', 'total_of_special_requests', 'total_nights']\n",
    "\n",
    "scaler = StandardScaler()\n",
    "scaler.fit(features_train[numeric])\n",
    "\n",
    "features_train[numeric] = scaler.transform(features_train[numeric])\n",
    "features_test[numeric] = scaler.transform(features_test[numeric])\n",
    "\n"
   ]
  },
  {
   "cell_type": "code",
   "execution_count": null,
   "metadata": {},
   "outputs": [],
   "source": [
    "features_train.info()"
   ]
  },
  {
   "cell_type": "code",
   "execution_count": null,
   "metadata": {},
   "outputs": [],
   "source": [
    "# Удаляем столбцы с категориальными признаками\n",
    "features_train = features_train.drop(['arrival_date_month', 'meal', 'distribution_channel', 'reserved_room_type', 'customer_type'], axis=1)\n",
    "features_test = features_test.drop(['arrival_date_month', 'meal', 'distribution_channel', 'reserved_room_type', 'customer_type'], axis=1)"
   ]
  },
  {
   "cell_type": "code",
   "execution_count": null,
   "metadata": {},
   "outputs": [],
   "source": [
    "features_train = pd.concat([features_train_ohe.reset_index(drop=True), features_train.reset_index(drop=True)], axis=1, ignore_index=False)\n",
    "features_test = pd.concat([features_test_ohe.reset_index(drop=True), features_test.reset_index(drop=True)], axis=1, ignore_index=False)"
   ]
  },
  {
   "cell_type": "code",
   "execution_count": null,
   "metadata": {},
   "outputs": [],
   "source": [
    "features_train.head(3)"
   ]
  },
  {
   "cell_type": "code",
   "execution_count": null,
   "metadata": {},
   "outputs": [],
   "source": [
    "features_test.head(3)"
   ]
  },
  {
   "cell_type": "code",
   "execution_count": null,
   "metadata": {},
   "outputs": [],
   "source": [
    "# Подбираем лучшую модель с помощью кросс-валидации\n",
    "final_score_best = 0\n",
    "depth_best = 0\n",
    "\n",
    "for depth in range(1, 5):\n",
    "    model = DecisionTreeClassifier(random_state=12345, max_depth=depth, class_weight='balanced')\n",
    "    scores = cross_val_score(model, features_train, target_train)\n",
    "    final_score = sum(scores) / len(scores)\n",
    "    if final_score > final_score_best:\n",
    "        final_score_best = final_score\n",
    "        depth_best = depth\n",
    "print('Оценка модели решающего дерева кросс-валидацией:', final_score_best, 'при max_depth =', depth_best)"
   ]
  },
  {
   "cell_type": "code",
   "execution_count": null,
   "metadata": {
    "scrolled": true
   },
   "outputs": [],
   "source": [
    "# Подбираем лучшую модель с помощью кросс-валидации\n",
    "final_score_best = 0\n",
    "depth_best = 0\n",
    "est_best = 0\n",
    "\n",
    "for est in range(96, 98):\n",
    "    for depth in range(2, 5):\n",
    "        model = RandomForestClassifier(random_state=12345, n_estimators=est, max_depth=depth, class_weight='balanced')\n",
    "        scores = cross_val_score(model, features_train, target_train)\n",
    "        final_score = sum(scores) / len(scores)\n",
    "        if final_score > final_score_best:\n",
    "            final_score_best = final_score\n",
    "            depth_best = depth\n",
    "            est_best = est\n",
    "print('Оценка кросс-валидацией:', final_score_best, 'при n_estimators =', est_best, 'при max_depth =', depth_best)\n"
   ]
  },
  {
   "cell_type": "code",
   "execution_count": null,
   "metadata": {},
   "outputs": [],
   "source": [
    "# Измерим качество модели случайного леса на тесте\n",
    "model = RandomForestClassifier(random_state=12345, n_estimators=97, max_depth=3, class_weight='balanced')\n",
    "model.fit(features_train, target_train)\n",
    "prediction_test = model.predict(features_test)\n",
    "probabilities_test = model.predict_proba(features_test)[:, 1]\n",
    "f1 = f1_score(target_test, prediction_test)\n",
    "auc_roc = roc_auc_score(target_test, probabilities_test)\n",
    "       \n",
    "print('F-1 модели случайного леса на тестовой выборке:', f1, 'при n_estimators = 97, при max_depth = 3')\n",
    "print('AUC-ROC модели случайного леса на тестовой выборке:', auc_roc, 'при n_estimators = 97, при max_depth = 3')"
   ]
  },
  {
   "cell_type": "code",
   "execution_count": null,
   "metadata": {
    "scrolled": true
   },
   "outputs": [],
   "source": [
    "# Измерим качество модели решающего дерева на тесте\n",
    "model = DecisionTreeClassifier(random_state=12345, max_depth=2, class_weight='balanced')\n",
    "model.fit(features_train, target_train)\n",
    "prediction_test_tree = model.predict(features_test)\n",
    "probabilities_test = model.predict_proba(features_test)[:, 1]\n",
    "f1 = f1_score(target_test, prediction_test_tree)\n",
    "auc_roc = roc_auc_score(target_test, probabilities_test)\n",
    "       \n",
    "print('F-1 модели решающего дерева  на тестовой выборке:', f1, 'при max_depth = 2')\n",
    "print('AUC-ROC модели решающего дерева  на тестовой выборке:', auc_roc, 'при max_depth = 2')"
   ]
  },
  {
   "cell_type": "markdown",
   "metadata": {},
   "source": [
    "В датафрейме hotel_profit создадим столбец с предсказаниями модели."
   ]
  },
  {
   "cell_type": "code",
   "execution_count": null,
   "metadata": {},
   "outputs": [],
   "source": [
    "# Создадим столбец с предсказаниями в hotel_profit\n",
    "predict = prediction_test.astype('int64')\n",
    "hotel_profit['predict'] = prediction_test\n",
    "hotel_profit.head(2)\n"
   ]
  },
  {
   "cell_type": "code",
   "execution_count": null,
   "metadata": {},
   "outputs": [],
   "source": [
    "# Изучим предсказания\n",
    "hotel_profit['predict'].value_counts()"
   ]
  },
  {
   "cell_type": "markdown",
   "metadata": {},
   "source": [
    "#### Расчет прибыли отеля при положительном сценарии"
   ]
  },
  {
   "cell_type": "code",
   "execution_count": null,
   "metadata": {},
   "outputs": [],
   "source": [
    "# создаем функцию для подсчета прибыли с каждого клиента после внедрения модели\n",
    "def profit_after_ml(row):\n",
    "    if row['is_canceled'] == 0 and row['predict'] == 1:\n",
    "        if row['total_nights'] > 2: \n",
    "            return row['price_room'] * row['seas_coef'] * row['total_nights'] - row['price_service'] - int(row['total_nights']/2)*row['price_service']\n",
    "        else:\n",
    "            return row['price_room'] * row['seas_coef'] * row['total_nights'] - row['price_service']\n",
    "    elif row['is_canceled'] == 1 and row['predict'] == 0:   \n",
    "        return - row['price_room'] * row['seas_coef']\n",
    "    elif row['is_canceled'] == 1 and row['predict'] == 1:\n",
    "        return row['price_room'] * row['seas_coef'] * 0.8 + row['price_service']\n",
    "    else:\n",
    "        if row['total_nights'] > 2: \n",
    "            return row['price_room'] * row['seas_coef'] * row['total_nights'] - row['price_service'] - int(row['total_nights']/2)*row['price_service']\n",
    "        else:\n",
    "            return row['price_room'] * row['seas_coef'] * row['total_nights'] - row['price_service']"
   ]
  },
  {
   "cell_type": "code",
   "execution_count": null,
   "metadata": {
    "scrolled": true
   },
   "outputs": [],
   "source": [
    "# Применяем функцию для подсчета прибыли с каждого клиента после внедрения модели\n",
    "hotel_profit['profit_after_ml'] = hotel_profit.apply(profit_after_ml, axis=1)\n",
    "print('Суммарна прибыль отеля после внедрения депозитов', hotel_profit['profit_after_ml'].sum())\n",
    "print('Разница в прибыли отеля до и после внедрения депозитов', hotel_profit['profit_after_ml'].sum() \n",
    "      - hotel_profit['profit'].sum())"
   ]
  },
  {
   "cell_type": "markdown",
   "metadata": {},
   "source": [
    "#### Расчет прибыли отеля при отрицательном сценарии"
   ]
  },
  {
   "cell_type": "code",
   "execution_count": null,
   "metadata": {},
   "outputs": [],
   "source": [
    "# создаем функцию для подсчета прибыли с каждого клиента после внедрения модели при отрицательном сценарии\n",
    "# отрицательный - отток клиентов 75%\n",
    "import random\n",
    "def profit_after_ml_negative(row):\n",
    "    var = random.choices([0, 1], weights=[25, 75])\n",
    "    if row['is_canceled'] == 0 and row['predict'] == 1:\n",
    "        if var == 0:\n",
    "            if row['total_nights'] > 2: \n",
    "                return row['price_room'] * row['seas_coef'] * row['total_nights'] - row['price_service'] - int(row['total_nights']/2)*row['price_service']\n",
    "            else:\n",
    "                return row['price_room'] * row['seas_coef'] * row['total_nights'] - row['price_service']\n",
    "        else:\n",
    "            0\n",
    "    elif row['is_canceled'] == 1 and row['predict'] == 0:   \n",
    "        return - row['price_room'] * row['seas_coef']\n",
    "    elif row['is_canceled'] == 1 and row['predict'] == 1:\n",
    "        if var == 0:\n",
    "            return row['price_room'] * row['seas_coef'] * 0.8 + row['price_service']\n",
    "        else:\n",
    "            0\n",
    "    else:\n",
    "        if row['total_nights'] > 2: \n",
    "            return row['price_room'] * row['seas_coef'] * row['total_nights'] - row['price_service'] - int(row['total_nights']/2)*row['price_service']\n",
    "        else:\n",
    "            return row['price_room'] * row['seas_coef'] * row['total_nights'] - row['price_service']"
   ]
  },
  {
   "cell_type": "code",
   "execution_count": null,
   "metadata": {},
   "outputs": [],
   "source": [
    "# Применяем функцию для подсчета прибыли с каждого клиента\n",
    "hotel_profit['profit_after_ml_negative'] = hotel_profit.apply(profit_after_ml_negative, axis=1)\n",
    "print('Суммарна прибыль отеля после внедрения депозитов при отрицательном сценарии', \n",
    "      hotel_profit['profit_after_ml_negative'].sum())\n",
    "print('Разница в прибыли отеля до и после внедрения депозитов при отрицательном сценарии', \n",
    "      hotel_profit['profit_after_ml_negative'].sum() - hotel_profit['profit'].sum())"
   ]
  },
  {
   "cell_type": "markdown",
   "metadata": {},
   "source": [
    "**Вывод:** \n",
    "- Суммарная прибыль от внедрения ML при положительном сценарии составила 57031804, при отрицательном 37787270;\n",
    "- Разница в прибыли отеля до и после внедрения депозитов при положительном сценарии рублей 18837034, при отрицательном - убыток 407500 рублей. При этом бюджет на разработку модели ML - 400000 руб."
   ]
  },
  {
   "cell_type": "markdown",
   "metadata": {},
   "source": [
    "#### Срок окупаемости модели"
   ]
  },
  {
   "cell_type": "markdown",
   "metadata": {},
   "source": [
    "Определим срок, за который модель окупила себя. "
   ]
  },
  {
   "cell_type": "code",
   "execution_count": null,
   "metadata": {},
   "outputs": [],
   "source": [
    "# Определим начало срока внедрения модели\n",
    "display(hotel_profit.loc[0])"
   ]
  },
  {
   "cell_type": "markdown",
   "metadata": {},
   "source": [
    "Начало срока внедрения модели 1 января 2017 года."
   ]
  },
  {
   "cell_type": "code",
   "execution_count": null,
   "metadata": {
    "scrolled": false
   },
   "outputs": [],
   "source": [
    "display(hotel_train['arrival_date_year'].value_counts().to_frame())\n",
    "display(hotel_test['arrival_date_year'].value_counts().to_frame())"
   ]
  },
  {
   "cell_type": "markdown",
   "metadata": {},
   "source": [
    "Создадим переменную payback, которая будет показывать накопленный итог прибыли от внедрения ML. Переменная index покажет нам индекс(объект) на котором произошел факт окупаемости модели."
   ]
  },
  {
   "cell_type": "code",
   "execution_count": null,
   "metadata": {},
   "outputs": [],
   "source": [
    "profit_after_ml = list(hotel_profit['profit_after_ml'])\n",
    "profit = list(hotel_profit['profit'])\n",
    "budget = 400000\n",
    "profit_before = 0\n",
    "profit_ml_opti = 0\n",
    "payback = 0\n",
    "index = 0\n",
    "while payback <= budget:\n",
    "    profit_before += profit[index]\n",
    "    profit_ml_opti += profit_after_ml[index]\n",
    "    payback = profit_ml_opti - profit_before\n",
    "    index += 1\n",
    "    \n",
    "print('Первое значение, превышающее бюджет:', payback)\n",
    "print('Индекс объекта, на котором модель окупилась при положительном сценарии:', index)"
   ]
  },
  {
   "cell_type": "code",
   "execution_count": null,
   "metadata": {},
   "outputs": [],
   "source": [
    "display(hotel_profit.loc[420])"
   ]
  },
  {
   "cell_type": "markdown",
   "metadata": {},
   "source": [
    "Дата окупаемости модели 10 марта 2017 года, то есть время окупаемости модели при положительном сценарии - 2 месяца."
   ]
  },
  {
   "cell_type": "markdown",
   "metadata": {},
   "source": [
    "- Для положительного сценария - предложение о внесениии депозита не влечет отток клиентов суммарная прибыль за весь период 18.8 млн. руб, срок окупаемости - 2 месяца 10 дней;\n",
    "- Для отрицательного сценария - предложение внесения депозита влечёт отток 75% клиентов, что влечет убыток 407500 рублей."
   ]
  },
  {
   "cell_type": "markdown",
   "metadata": {},
   "source": [
    "### Портрет «ненадёжного» клиента"
   ]
  },
  {
   "cell_type": "code",
   "execution_count": null,
   "metadata": {
    "scrolled": true
   },
   "outputs": [],
   "source": [
    "# Определим долю отказов от брони в зависимости от количества подтверждённых заказов у клиента \n",
    "hotel_test_previous_cancel = hotel_test.groupby('previous_cancellations')['is_canceled']\\\n",
    ".agg(['mean', 'count']).sort_values('mean', ascending=False)\n",
    "display('Доля отказов от брони в зависимости от количества подтверждённых заказов у клиента ', hotel_test_previous_cancel)"
   ]
  },
  {
   "cell_type": "markdown",
   "metadata": {},
   "source": [
    "- Клиенты, которые бронируют номер впервые, имеют самый высокий процент отказов от брони 39%;\n",
    "- Клиенты, которые имеют 3-4 бронирования, отказоватся от брони в 30-33%, однако таких клиетов всего 16;\n",
    "- Бронирующие 5-ый и 6-ый раз отказов от брони не имеют."
   ]
  },
  {
   "cell_type": "code",
   "execution_count": null,
   "metadata": {
    "scrolled": false
   },
   "outputs": [],
   "source": [
    "hotel_test_lead_time = hotel_test.groupby('lead_time')['is_canceled'].agg(['mean', 'count'])\\\n",
    ".reset_index().sort_values('lead_time', ascending=True)\n",
    "display('Увеличение вероятности отказа от брони с увеличением времени между бронированием из заездом:',\n",
    "        hotel_test_lead_time.head(10))\n",
    "print('')\n",
    "display('Значение lead_time при вероятности от отказа от брони больше 50%:', hotel_test_lead_time.query('mean > 0.5'))"
   ]
  },
  {
   "cell_type": "markdown",
   "metadata": {},
   "source": [
    "- Чем меньше срок между датой бронирования и датой заезда, тем выше вероятность того, что клиент не отменит бронь;\n",
    "- При бронировании менее чем за 7 дней означает, что клиент заселится с вероятностью 90%;\n",
    "- При количестве более 28 дней между датой бронирования и датой заезда вероятность отказа от брони составляет более 50%."
   ]
  },
  {
   "cell_type": "markdown",
   "metadata": {},
   "source": [
    "**Портрет ненадежного клиента:**\n",
    "- Бронирует номер впервые; \n",
    "- Бронирует за срок более 28 дней до даты заезда - вероятность отказа от брони составляет более 50%;\n",
    "- Бронирует за срок более 365 дней до даты заезда - вероятность отказа от брони составляет 100%."
   ]
  },
  {
   "cell_type": "markdown",
   "metadata": {},
   "source": [
    "### Вывод"
   ]
  },
  {
   "cell_type": "markdown",
   "metadata": {},
   "source": [
    "- Суммарная прибыль от внедрения ML при положительном сценарии составила 18837034, при отрицательном - имеем убыток 407500 рублей;\n",
    "- Перед внедрением модели необходимо провести A/B тест на отток клиентов при предложении о внесении депозита при бронировании номера. Рекомендумый отток - не более 25-30%;\n",
    "- Для положительного сценария - предложение о внесениии депозита не влечет отток клиентов срок окупаемости - 2 месяца 10 дней, при отрицательном - убыток;\n",
    "- Надежными клиентами являются:\n",
    "-- бронируют номер второй и третий раз (и более);\n",
    "-- Самые надежные клиенты бронирует за срок менее 7 дней до даты заезда."
   ]
  }
 ],
 "metadata": {
  "ExecuteTimeLog": [
   {
    "duration": 1658,
    "start_time": "2022-03-19T09:58:05.491Z"
   },
   {
    "duration": 291,
    "start_time": "2022-03-19T09:58:08.059Z"
   },
   {
    "duration": 180,
    "start_time": "2022-03-19T09:58:13.174Z"
   },
   {
    "duration": 185,
    "start_time": "2022-03-19T09:58:40.781Z"
   },
   {
    "duration": 232,
    "start_time": "2022-03-19T09:58:54.337Z"
   },
   {
    "duration": 44,
    "start_time": "2022-03-19T10:00:20.987Z"
   },
   {
    "duration": 69,
    "start_time": "2022-03-19T10:01:12.372Z"
   },
   {
    "duration": 65,
    "start_time": "2022-03-19T10:01:36.817Z"
   },
   {
    "duration": 8,
    "start_time": "2022-03-19T10:01:40.368Z"
   },
   {
    "duration": 129,
    "start_time": "2022-03-19T10:01:54.322Z"
   },
   {
    "duration": 2402,
    "start_time": "2022-03-19T10:05:09.579Z"
   },
   {
    "duration": 2278,
    "start_time": "2022-03-19T10:05:37.717Z"
   },
   {
    "duration": 2429,
    "start_time": "2022-03-21T15:57:43.464Z"
   },
   {
    "duration": 328,
    "start_time": "2022-03-21T15:57:45.896Z"
   },
   {
    "duration": 59,
    "start_time": "2022-03-21T15:57:49.445Z"
   },
   {
    "duration": 147,
    "start_time": "2022-03-21T15:59:46.533Z"
   },
   {
    "duration": 40,
    "start_time": "2022-03-21T15:59:57.408Z"
   },
   {
    "duration": 135,
    "start_time": "2022-03-21T16:02:39.899Z"
   },
   {
    "duration": 7,
    "start_time": "2022-03-21T16:02:55.169Z"
   },
   {
    "duration": 8,
    "start_time": "2022-03-21T16:03:39.773Z"
   },
   {
    "duration": 14,
    "start_time": "2022-03-21T16:10:48.950Z"
   },
   {
    "duration": 2476,
    "start_time": "2022-03-21T16:36:47.299Z"
   },
   {
    "duration": 285,
    "start_time": "2022-03-21T16:36:58.371Z"
   },
   {
    "duration": 37,
    "start_time": "2022-03-21T16:39:20.967Z"
   },
   {
    "duration": 546,
    "start_time": "2022-03-21T16:42:13.508Z"
   },
   {
    "duration": 21,
    "start_time": "2022-03-21T16:42:23.343Z"
   },
   {
    "duration": 224,
    "start_time": "2022-03-21T16:43:05.101Z"
   },
   {
    "duration": 454,
    "start_time": "2022-03-21T16:43:35.785Z"
   },
   {
    "duration": 240,
    "start_time": "2022-03-21T16:44:02.450Z"
   },
   {
    "duration": 395,
    "start_time": "2022-03-21T16:44:13.302Z"
   },
   {
    "duration": 455,
    "start_time": "2022-03-21T16:44:34.945Z"
   },
   {
    "duration": 327,
    "start_time": "2022-03-21T16:44:47.643Z"
   },
   {
    "duration": 333,
    "start_time": "2022-03-21T16:45:33.285Z"
   },
   {
    "duration": 320,
    "start_time": "2022-03-21T16:45:42.988Z"
   },
   {
    "duration": 448,
    "start_time": "2022-03-21T16:48:27.503Z"
   },
   {
    "duration": 285,
    "start_time": "2022-03-21T16:51:06.696Z"
   },
   {
    "duration": 416,
    "start_time": "2022-03-21T16:51:43.508Z"
   },
   {
    "duration": 256,
    "start_time": "2022-03-21T16:52:28.092Z"
   },
   {
    "duration": 265,
    "start_time": "2022-03-21T16:52:38.797Z"
   },
   {
    "duration": 2463,
    "start_time": "2022-03-22T16:19:13.030Z"
   },
   {
    "duration": 336,
    "start_time": "2022-03-22T16:19:15.496Z"
   },
   {
    "duration": 74,
    "start_time": "2022-03-22T16:19:15.834Z"
   },
   {
    "duration": 69,
    "start_time": "2022-03-22T16:19:15.911Z"
   },
   {
    "duration": 147,
    "start_time": "2022-03-22T16:19:15.983Z"
   },
   {
    "duration": 214,
    "start_time": "2022-03-22T16:19:16.132Z"
   },
   {
    "duration": 3675,
    "start_time": "2022-03-22T16:19:16.349Z"
   },
   {
    "duration": 344,
    "start_time": "2022-03-22T16:19:20.026Z"
   },
   {
    "duration": 286,
    "start_time": "2022-03-22T16:19:20.372Z"
   },
   {
    "duration": 73,
    "start_time": "2022-03-22T16:25:45.751Z"
   },
   {
    "duration": 76,
    "start_time": "2022-03-22T16:27:50.301Z"
   },
   {
    "duration": 166,
    "start_time": "2022-03-22T16:38:25.602Z"
   },
   {
    "duration": 54,
    "start_time": "2022-03-22T16:38:36.005Z"
   },
   {
    "duration": 24,
    "start_time": "2022-03-22T16:38:59.356Z"
   },
   {
    "duration": 19,
    "start_time": "2022-03-22T16:39:14.126Z"
   },
   {
    "duration": 22,
    "start_time": "2022-03-22T16:40:09.775Z"
   },
   {
    "duration": 27,
    "start_time": "2022-03-22T16:41:08.362Z"
   },
   {
    "duration": 27,
    "start_time": "2022-03-22T16:41:29.128Z"
   },
   {
    "duration": 8,
    "start_time": "2022-03-22T16:41:53.653Z"
   },
   {
    "duration": 336,
    "start_time": "2022-03-22T16:41:53.663Z"
   },
   {
    "duration": 98,
    "start_time": "2022-03-22T16:41:54.001Z"
   },
   {
    "duration": 68,
    "start_time": "2022-03-22T16:41:54.102Z"
   },
   {
    "duration": 135,
    "start_time": "2022-03-22T16:41:54.174Z"
   },
   {
    "duration": 217,
    "start_time": "2022-03-22T16:41:54.312Z"
   },
   {
    "duration": 3612,
    "start_time": "2022-03-22T16:41:54.531Z"
   },
   {
    "duration": 350,
    "start_time": "2022-03-22T16:41:58.146Z"
   },
   {
    "duration": 300,
    "start_time": "2022-03-22T16:41:58.499Z"
   },
   {
    "duration": 208,
    "start_time": "2022-03-22T16:41:58.802Z"
   },
   {
    "duration": 0,
    "start_time": "2022-03-22T16:41:59.012Z"
   },
   {
    "duration": 83,
    "start_time": "2022-03-22T16:42:05.559Z"
   },
   {
    "duration": 41,
    "start_time": "2022-03-22T16:42:08.612Z"
   },
   {
    "duration": 30,
    "start_time": "2022-03-22T16:50:22.167Z"
   },
   {
    "duration": 20,
    "start_time": "2022-03-22T16:50:34.727Z"
   },
   {
    "duration": 35,
    "start_time": "2022-03-22T16:50:39.086Z"
   },
   {
    "duration": 7,
    "start_time": "2022-03-22T16:53:52.892Z"
   },
   {
    "duration": 16,
    "start_time": "2022-03-22T16:56:40.291Z"
   },
   {
    "duration": 15,
    "start_time": "2022-03-22T16:57:19.790Z"
   },
   {
    "duration": 18,
    "start_time": "2022-03-22T16:57:47.882Z"
   },
   {
    "duration": 15,
    "start_time": "2022-03-22T16:57:59.419Z"
   },
   {
    "duration": 17,
    "start_time": "2022-03-22T16:59:08.498Z"
   },
   {
    "duration": 18,
    "start_time": "2022-03-22T17:10:01.706Z"
   },
   {
    "duration": 4,
    "start_time": "2022-03-22T17:15:55.556Z"
   },
   {
    "duration": 336,
    "start_time": "2022-03-22T17:16:56.474Z"
   },
   {
    "duration": 24,
    "start_time": "2022-03-22T17:17:11.437Z"
   },
   {
    "duration": 28,
    "start_time": "2022-03-22T17:17:41.147Z"
   },
   {
    "duration": 22,
    "start_time": "2022-03-22T17:20:00.545Z"
   },
   {
    "duration": 18,
    "start_time": "2022-03-22T17:20:44.801Z"
   },
   {
    "duration": 5,
    "start_time": "2022-03-22T17:22:08.906Z"
   },
   {
    "duration": 345,
    "start_time": "2022-03-22T17:22:12.573Z"
   },
   {
    "duration": 18,
    "start_time": "2022-03-22T17:22:14.566Z"
   },
   {
    "duration": 15,
    "start_time": "2022-03-22T17:22:21.686Z"
   },
   {
    "duration": 5,
    "start_time": "2022-03-22T17:23:30.427Z"
   },
   {
    "duration": 399,
    "start_time": "2022-03-22T17:23:31.644Z"
   },
   {
    "duration": 14,
    "start_time": "2022-03-22T17:23:33.108Z"
   },
   {
    "duration": 210,
    "start_time": "2022-03-22T17:23:51.918Z"
   },
   {
    "duration": 5,
    "start_time": "2022-03-22T17:27:20.139Z"
   },
   {
    "duration": 372,
    "start_time": "2022-03-22T17:27:20.147Z"
   },
   {
    "duration": 82,
    "start_time": "2022-03-22T17:27:20.521Z"
   },
   {
    "duration": 65,
    "start_time": "2022-03-22T17:27:20.606Z"
   },
   {
    "duration": 126,
    "start_time": "2022-03-22T17:27:20.673Z"
   },
   {
    "duration": 215,
    "start_time": "2022-03-22T17:27:20.802Z"
   },
   {
    "duration": 3697,
    "start_time": "2022-03-22T17:27:21.020Z"
   },
   {
    "duration": 340,
    "start_time": "2022-03-22T17:27:24.719Z"
   },
   {
    "duration": 289,
    "start_time": "2022-03-22T17:27:25.061Z"
   },
   {
    "duration": 98,
    "start_time": "2022-03-22T17:27:25.355Z"
   },
   {
    "duration": 17,
    "start_time": "2022-03-22T17:27:25.456Z"
   },
   {
    "duration": 4,
    "start_time": "2022-03-22T17:27:25.476Z"
   },
   {
    "duration": 380,
    "start_time": "2022-03-22T17:27:25.483Z"
   },
   {
    "duration": 14,
    "start_time": "2022-03-22T17:27:25.865Z"
   },
   {
    "duration": 24,
    "start_time": "2022-03-22T17:27:25.881Z"
   },
   {
    "duration": 6,
    "start_time": "2022-03-22T17:27:56.265Z"
   },
   {
    "duration": 354,
    "start_time": "2022-03-22T17:27:56.924Z"
   },
   {
    "duration": 17,
    "start_time": "2022-03-22T17:27:57.372Z"
   },
   {
    "duration": 13,
    "start_time": "2022-03-22T17:28:32.220Z"
   },
   {
    "duration": 346,
    "start_time": "2022-03-22T17:28:55.865Z"
   },
   {
    "duration": 481,
    "start_time": "2022-03-22T17:29:09.063Z"
   },
   {
    "duration": 14,
    "start_time": "2022-03-22T17:29:19.828Z"
   },
   {
    "duration": 9,
    "start_time": "2022-03-22T17:29:56.199Z"
   },
   {
    "duration": 6,
    "start_time": "2022-03-22T17:32:26.762Z"
   },
   {
    "duration": 381,
    "start_time": "2022-03-22T17:32:26.771Z"
   },
   {
    "duration": 90,
    "start_time": "2022-03-22T17:32:27.155Z"
   },
   {
    "duration": 55,
    "start_time": "2022-03-22T17:32:27.249Z"
   },
   {
    "duration": 147,
    "start_time": "2022-03-22T17:32:27.307Z"
   },
   {
    "duration": 216,
    "start_time": "2022-03-22T17:32:27.456Z"
   },
   {
    "duration": 3982,
    "start_time": "2022-03-22T17:32:27.675Z"
   },
   {
    "duration": 502,
    "start_time": "2022-03-22T17:32:31.660Z"
   },
   {
    "duration": 313,
    "start_time": "2022-03-22T17:32:32.166Z"
   },
   {
    "duration": 105,
    "start_time": "2022-03-22T17:32:32.482Z"
   },
   {
    "duration": 20,
    "start_time": "2022-03-22T17:32:32.589Z"
   },
   {
    "duration": 6,
    "start_time": "2022-03-22T17:32:32.612Z"
   },
   {
    "duration": 444,
    "start_time": "2022-03-22T17:32:32.645Z"
   },
   {
    "duration": 8,
    "start_time": "2022-03-22T17:32:33.092Z"
   },
   {
    "duration": 20,
    "start_time": "2022-03-22T17:32:33.103Z"
   },
   {
    "duration": 18,
    "start_time": "2022-03-22T17:33:26.148Z"
   },
   {
    "duration": 23,
    "start_time": "2022-03-22T17:33:39.452Z"
   },
   {
    "duration": 21,
    "start_time": "2022-03-22T17:33:48.785Z"
   },
   {
    "duration": 20,
    "start_time": "2022-03-22T17:33:58.998Z"
   },
   {
    "duration": 13,
    "start_time": "2022-03-22T17:34:14.529Z"
   },
   {
    "duration": 19,
    "start_time": "2022-03-22T17:34:53.266Z"
   },
   {
    "duration": 19,
    "start_time": "2022-03-22T17:35:23.314Z"
   },
   {
    "duration": 21,
    "start_time": "2022-03-22T17:35:30.867Z"
   },
   {
    "duration": 15,
    "start_time": "2022-03-22T17:35:48.258Z"
   },
   {
    "duration": 13,
    "start_time": "2022-03-22T17:36:14.865Z"
   },
   {
    "duration": 13,
    "start_time": "2022-03-22T17:36:41.342Z"
   },
   {
    "duration": 12,
    "start_time": "2022-03-22T17:37:20.644Z"
   },
   {
    "duration": 162,
    "start_time": "2022-03-22T17:45:43.547Z"
   },
   {
    "duration": 6,
    "start_time": "2022-03-22T17:46:01.793Z"
   },
   {
    "duration": 3493,
    "start_time": "2022-03-22T17:46:17.054Z"
   },
   {
    "duration": 5,
    "start_time": "2022-03-22T17:47:37.741Z"
   },
   {
    "duration": 33,
    "start_time": "2022-03-22T17:47:39.159Z"
   },
   {
    "duration": 29,
    "start_time": "2022-03-22T17:48:26.955Z"
   },
   {
    "duration": 6,
    "start_time": "2022-03-22T17:49:19.166Z"
   },
   {
    "duration": 2023,
    "start_time": "2022-03-22T17:49:19.177Z"
   },
   {
    "duration": 77,
    "start_time": "2022-03-22T17:49:21.202Z"
   },
   {
    "duration": 66,
    "start_time": "2022-03-22T17:49:21.282Z"
   },
   {
    "duration": 130,
    "start_time": "2022-03-22T17:49:21.350Z"
   },
   {
    "duration": 208,
    "start_time": "2022-03-22T17:49:21.483Z"
   },
   {
    "duration": 4134,
    "start_time": "2022-03-22T17:49:21.693Z"
   },
   {
    "duration": 367,
    "start_time": "2022-03-22T17:49:25.829Z"
   },
   {
    "duration": 301,
    "start_time": "2022-03-22T17:49:26.199Z"
   },
   {
    "duration": 115,
    "start_time": "2022-03-22T17:49:26.506Z"
   },
   {
    "duration": 26,
    "start_time": "2022-03-22T17:49:26.623Z"
   },
   {
    "duration": 6,
    "start_time": "2022-03-22T17:49:26.652Z"
   },
   {
    "duration": 398,
    "start_time": "2022-03-22T17:49:26.661Z"
   },
   {
    "duration": 10,
    "start_time": "2022-03-22T17:49:27.062Z"
   },
   {
    "duration": 5,
    "start_time": "2022-03-22T17:49:27.075Z"
   },
   {
    "duration": 616,
    "start_time": "2022-03-22T17:49:27.083Z"
   },
   {
    "duration": 8,
    "start_time": "2022-03-22T17:50:09.653Z"
   },
   {
    "duration": 6,
    "start_time": "2022-03-22T17:50:56.959Z"
   },
   {
    "duration": 367,
    "start_time": "2022-03-22T17:50:58.700Z"
   },
   {
    "duration": 12,
    "start_time": "2022-03-22T17:51:06.687Z"
   },
   {
    "duration": 12,
    "start_time": "2022-03-22T17:51:34.983Z"
   },
   {
    "duration": 5,
    "start_time": "2022-03-22T17:52:48.083Z"
   },
   {
    "duration": 308,
    "start_time": "2022-03-22T17:52:48.092Z"
   },
   {
    "duration": 78,
    "start_time": "2022-03-22T17:52:48.402Z"
   },
   {
    "duration": 69,
    "start_time": "2022-03-22T17:52:48.482Z"
   },
   {
    "duration": 179,
    "start_time": "2022-03-22T17:52:48.556Z"
   },
   {
    "duration": 220,
    "start_time": "2022-03-22T17:52:48.743Z"
   },
   {
    "duration": 3677,
    "start_time": "2022-03-22T17:52:48.966Z"
   },
   {
    "duration": 544,
    "start_time": "2022-03-22T17:52:52.646Z"
   },
   {
    "duration": 296,
    "start_time": "2022-03-22T17:52:53.193Z"
   },
   {
    "duration": 95,
    "start_time": "2022-03-22T17:52:53.491Z"
   },
   {
    "duration": 18,
    "start_time": "2022-03-22T17:52:53.588Z"
   },
   {
    "duration": 7,
    "start_time": "2022-03-22T17:52:53.609Z"
   },
   {
    "duration": 424,
    "start_time": "2022-03-22T17:52:53.618Z"
   },
   {
    "duration": 10,
    "start_time": "2022-03-22T17:52:54.048Z"
   },
   {
    "duration": 5,
    "start_time": "2022-03-22T17:52:54.062Z"
   },
   {
    "duration": 375,
    "start_time": "2022-03-22T17:52:54.071Z"
   },
   {
    "duration": 8,
    "start_time": "2022-03-22T17:52:54.448Z"
   },
   {
    "duration": 33,
    "start_time": "2022-03-22T17:52:54.459Z"
   },
   {
    "duration": 6,
    "start_time": "2022-03-22T18:02:33.702Z"
   },
   {
    "duration": 375,
    "start_time": "2022-03-22T18:02:49.214Z"
   },
   {
    "duration": 9,
    "start_time": "2022-03-22T18:02:59.315Z"
   },
   {
    "duration": 7,
    "start_time": "2022-03-22T18:05:25.874Z"
   },
   {
    "duration": 346,
    "start_time": "2022-03-22T18:05:25.883Z"
   },
   {
    "duration": 85,
    "start_time": "2022-03-22T18:05:26.232Z"
   },
   {
    "duration": 64,
    "start_time": "2022-03-22T18:05:26.320Z"
   },
   {
    "duration": 138,
    "start_time": "2022-03-22T18:05:26.389Z"
   },
   {
    "duration": 217,
    "start_time": "2022-03-22T18:05:26.530Z"
   },
   {
    "duration": 4494,
    "start_time": "2022-03-22T18:05:26.749Z"
   },
   {
    "duration": 372,
    "start_time": "2022-03-22T18:05:31.246Z"
   },
   {
    "duration": 285,
    "start_time": "2022-03-22T18:05:31.621Z"
   },
   {
    "duration": 90,
    "start_time": "2022-03-22T18:05:31.908Z"
   },
   {
    "duration": 18,
    "start_time": "2022-03-22T18:05:32.000Z"
   },
   {
    "duration": 23,
    "start_time": "2022-03-22T18:05:32.020Z"
   },
   {
    "duration": 364,
    "start_time": "2022-03-22T18:05:32.045Z"
   },
   {
    "duration": 10,
    "start_time": "2022-03-22T18:05:32.414Z"
   },
   {
    "duration": 18,
    "start_time": "2022-03-22T18:05:32.426Z"
   },
   {
    "duration": 393,
    "start_time": "2022-03-22T18:05:32.447Z"
   },
   {
    "duration": 9,
    "start_time": "2022-03-22T18:05:32.842Z"
   },
   {
    "duration": 13,
    "start_time": "2022-03-22T18:05:32.854Z"
   },
   {
    "duration": 1862,
    "start_time": "2022-03-22T18:11:13.343Z"
   },
   {
    "duration": 699,
    "start_time": "2022-03-22T18:11:15.207Z"
   },
   {
    "duration": 52,
    "start_time": "2022-03-22T18:11:15.908Z"
   },
   {
    "duration": 34,
    "start_time": "2022-03-22T18:11:15.962Z"
   },
   {
    "duration": 107,
    "start_time": "2022-03-22T18:11:15.997Z"
   },
   {
    "duration": 166,
    "start_time": "2022-03-22T18:11:16.106Z"
   },
   {
    "duration": 2902,
    "start_time": "2022-03-22T18:11:16.274Z"
   },
   {
    "duration": 229,
    "start_time": "2022-03-22T18:11:19.178Z"
   },
   {
    "duration": 192,
    "start_time": "2022-03-22T18:11:19.409Z"
   },
   {
    "duration": 66,
    "start_time": "2022-03-22T18:11:19.604Z"
   },
   {
    "duration": 15,
    "start_time": "2022-03-22T18:11:19.672Z"
   },
   {
    "duration": 4,
    "start_time": "2022-03-22T18:11:19.688Z"
   },
   {
    "duration": 223,
    "start_time": "2022-03-22T18:11:19.693Z"
   },
   {
    "duration": 15,
    "start_time": "2022-03-22T18:11:19.918Z"
   },
   {
    "duration": 7,
    "start_time": "2022-03-22T18:11:19.935Z"
   },
   {
    "duration": 222,
    "start_time": "2022-03-22T18:11:19.944Z"
   },
   {
    "duration": 6,
    "start_time": "2022-03-22T18:11:20.167Z"
   },
   {
    "duration": 22,
    "start_time": "2022-03-22T18:11:20.175Z"
   },
   {
    "duration": 3,
    "start_time": "2022-03-22T18:14:07.446Z"
   },
   {
    "duration": 225,
    "start_time": "2022-03-22T18:14:08.937Z"
   },
   {
    "duration": 7,
    "start_time": "2022-03-22T18:14:16.548Z"
   },
   {
    "duration": 9,
    "start_time": "2022-03-22T18:14:18.373Z"
   },
   {
    "duration": 3,
    "start_time": "2022-03-22T18:16:14.566Z"
   },
   {
    "duration": 224,
    "start_time": "2022-03-22T18:16:16.103Z"
   },
   {
    "duration": 4,
    "start_time": "2022-03-22T18:32:08.303Z"
   },
   {
    "duration": 436,
    "start_time": "2022-03-22T18:32:08.309Z"
   },
   {
    "duration": 46,
    "start_time": "2022-03-22T18:32:08.747Z"
   },
   {
    "duration": 42,
    "start_time": "2022-03-22T18:32:08.795Z"
   },
   {
    "duration": 93,
    "start_time": "2022-03-22T18:32:08.839Z"
   },
   {
    "duration": 160,
    "start_time": "2022-03-22T18:32:08.934Z"
   },
   {
    "duration": 2878,
    "start_time": "2022-03-22T18:32:09.096Z"
   },
   {
    "duration": 247,
    "start_time": "2022-03-22T18:32:11.976Z"
   },
   {
    "duration": 202,
    "start_time": "2022-03-22T18:32:12.226Z"
   },
   {
    "duration": 56,
    "start_time": "2022-03-22T18:32:12.432Z"
   },
   {
    "duration": 14,
    "start_time": "2022-03-22T18:32:12.490Z"
   },
   {
    "duration": 26,
    "start_time": "2022-03-22T18:32:12.506Z"
   },
   {
    "duration": 225,
    "start_time": "2022-03-22T18:32:12.534Z"
   },
   {
    "duration": 6,
    "start_time": "2022-03-22T18:32:12.761Z"
   },
   {
    "duration": 15,
    "start_time": "2022-03-22T18:32:12.768Z"
   },
   {
    "duration": 4,
    "start_time": "2022-03-22T18:32:12.785Z"
   },
   {
    "duration": 253,
    "start_time": "2022-03-22T18:32:12.791Z"
   },
   {
    "duration": 5,
    "start_time": "2022-03-22T18:32:13.045Z"
   },
   {
    "duration": 13,
    "start_time": "2022-03-22T18:32:13.052Z"
   },
   {
    "duration": 20,
    "start_time": "2022-03-22T18:34:39.670Z"
   },
   {
    "duration": 13,
    "start_time": "2022-03-22T18:34:47.375Z"
   },
   {
    "duration": 14,
    "start_time": "2022-03-22T18:34:53.648Z"
   },
   {
    "duration": 13,
    "start_time": "2022-03-22T18:35:06.983Z"
   },
   {
    "duration": 15,
    "start_time": "2022-03-22T18:35:19.711Z"
   },
   {
    "duration": 22,
    "start_time": "2022-03-22T18:35:29.759Z"
   },
   {
    "duration": 5,
    "start_time": "2022-03-22T18:53:10.673Z"
   },
   {
    "duration": 256,
    "start_time": "2022-03-22T18:53:10.680Z"
   },
   {
    "duration": 44,
    "start_time": "2022-03-22T18:53:10.937Z"
   },
   {
    "duration": 49,
    "start_time": "2022-03-22T18:53:10.983Z"
   },
   {
    "duration": 76,
    "start_time": "2022-03-22T18:53:11.034Z"
   },
   {
    "duration": 165,
    "start_time": "2022-03-22T18:53:11.112Z"
   },
   {
    "duration": 2717,
    "start_time": "2022-03-22T18:53:11.279Z"
   },
   {
    "duration": 230,
    "start_time": "2022-03-22T18:53:13.998Z"
   },
   {
    "duration": 179,
    "start_time": "2022-03-22T18:53:14.231Z"
   },
   {
    "duration": 61,
    "start_time": "2022-03-22T18:53:14.412Z"
   },
   {
    "duration": 13,
    "start_time": "2022-03-22T18:53:14.474Z"
   },
   {
    "duration": 3,
    "start_time": "2022-03-22T18:53:14.488Z"
   },
   {
    "duration": 225,
    "start_time": "2022-03-22T18:53:14.493Z"
   },
   {
    "duration": 15,
    "start_time": "2022-03-22T18:53:14.720Z"
   },
   {
    "duration": 14,
    "start_time": "2022-03-22T18:53:14.736Z"
   },
   {
    "duration": 6,
    "start_time": "2022-03-22T18:53:14.752Z"
   },
   {
    "duration": 236,
    "start_time": "2022-03-22T18:53:14.759Z"
   },
   {
    "duration": 5,
    "start_time": "2022-03-22T18:53:14.997Z"
   },
   {
    "duration": 29,
    "start_time": "2022-03-22T18:53:15.004Z"
   },
   {
    "duration": 2926,
    "start_time": "2022-03-22T18:54:39.781Z"
   },
   {
    "duration": 18,
    "start_time": "2022-03-22T18:56:27.490Z"
   },
   {
    "duration": 5,
    "start_time": "2022-03-22T18:58:03.488Z"
   },
   {
    "duration": 217,
    "start_time": "2022-03-22T18:59:54.138Z"
   },
   {
    "duration": 4,
    "start_time": "2022-03-22T19:00:22.213Z"
   },
   {
    "duration": 775,
    "start_time": "2022-03-22T19:00:22.684Z"
   },
   {
    "duration": 6,
    "start_time": "2022-03-22T19:01:08.924Z"
   },
   {
    "duration": 1006,
    "start_time": "2022-03-22T19:01:11.621Z"
   },
   {
    "duration": 22,
    "start_time": "2022-03-22T19:01:46.045Z"
   },
   {
    "duration": 13,
    "start_time": "2022-03-22T19:01:55.812Z"
   },
   {
    "duration": 11,
    "start_time": "2022-03-22T19:02:02.179Z"
   },
   {
    "duration": 11,
    "start_time": "2022-03-22T19:02:03.662Z"
   },
   {
    "duration": 4,
    "start_time": "2022-03-22T19:02:06.178Z"
   },
   {
    "duration": 378,
    "start_time": "2022-03-22T19:02:06.186Z"
   },
   {
    "duration": 49,
    "start_time": "2022-03-22T19:02:06.566Z"
   },
   {
    "duration": 43,
    "start_time": "2022-03-22T19:02:06.616Z"
   },
   {
    "duration": 90,
    "start_time": "2022-03-22T19:02:06.661Z"
   },
   {
    "duration": 153,
    "start_time": "2022-03-22T19:02:06.754Z"
   },
   {
    "duration": 2726,
    "start_time": "2022-03-22T19:02:06.909Z"
   },
   {
    "duration": 359,
    "start_time": "2022-03-22T19:02:09.637Z"
   },
   {
    "duration": 186,
    "start_time": "2022-03-22T19:02:09.997Z"
   },
   {
    "duration": 60,
    "start_time": "2022-03-22T19:02:10.185Z"
   },
   {
    "duration": 12,
    "start_time": "2022-03-22T19:02:10.247Z"
   },
   {
    "duration": 4,
    "start_time": "2022-03-22T19:02:10.260Z"
   },
   {
    "duration": 227,
    "start_time": "2022-03-22T19:02:10.266Z"
   },
   {
    "duration": 6,
    "start_time": "2022-03-22T19:02:10.495Z"
   },
   {
    "duration": 28,
    "start_time": "2022-03-22T19:02:10.504Z"
   },
   {
    "duration": 13,
    "start_time": "2022-03-22T19:02:10.533Z"
   },
   {
    "duration": 6,
    "start_time": "2022-03-22T19:02:10.548Z"
   },
   {
    "duration": 383,
    "start_time": "2022-03-22T19:02:10.555Z"
   },
   {
    "duration": 11,
    "start_time": "2022-03-22T19:02:10.940Z"
   },
   {
    "duration": 0,
    "start_time": "2022-03-22T19:02:10.953Z"
   },
   {
    "duration": 16,
    "start_time": "2022-03-22T19:02:25.349Z"
   },
   {
    "duration": 6,
    "start_time": "2022-03-22T19:04:03.486Z"
   },
   {
    "duration": 4,
    "start_time": "2022-03-22T19:04:07.857Z"
   },
   {
    "duration": 265,
    "start_time": "2022-03-22T19:04:07.863Z"
   },
   {
    "duration": 43,
    "start_time": "2022-03-22T19:04:08.131Z"
   },
   {
    "duration": 32,
    "start_time": "2022-03-22T19:04:08.176Z"
   },
   {
    "duration": 96,
    "start_time": "2022-03-22T19:04:08.210Z"
   },
   {
    "duration": 159,
    "start_time": "2022-03-22T19:04:08.308Z"
   },
   {
    "duration": 2717,
    "start_time": "2022-03-22T19:04:08.469Z"
   },
   {
    "duration": 230,
    "start_time": "2022-03-22T19:04:11.188Z"
   },
   {
    "duration": 196,
    "start_time": "2022-03-22T19:04:11.421Z"
   },
   {
    "duration": 61,
    "start_time": "2022-03-22T19:04:11.619Z"
   },
   {
    "duration": 13,
    "start_time": "2022-03-22T19:04:11.682Z"
   },
   {
    "duration": 3,
    "start_time": "2022-03-22T19:04:11.697Z"
   },
   {
    "duration": 236,
    "start_time": "2022-03-22T19:04:11.702Z"
   },
   {
    "duration": 5,
    "start_time": "2022-03-22T19:04:11.940Z"
   },
   {
    "duration": 19,
    "start_time": "2022-03-22T19:04:11.947Z"
   },
   {
    "duration": 33,
    "start_time": "2022-03-22T19:04:11.968Z"
   },
   {
    "duration": 23,
    "start_time": "2022-03-22T19:04:12.002Z"
   },
   {
    "duration": 394,
    "start_time": "2022-03-22T19:04:12.027Z"
   },
   {
    "duration": 13,
    "start_time": "2022-03-22T19:04:12.423Z"
   },
   {
    "duration": 0,
    "start_time": "2022-03-22T19:04:12.437Z"
   },
   {
    "duration": 682,
    "start_time": "2022-03-22T19:05:03.736Z"
   },
   {
    "duration": 938,
    "start_time": "2022-03-22T19:05:54.147Z"
   },
   {
    "duration": 4,
    "start_time": "2022-03-22T19:06:01.363Z"
   },
   {
    "duration": 309,
    "start_time": "2022-03-22T19:06:01.369Z"
   },
   {
    "duration": 54,
    "start_time": "2022-03-22T19:06:01.680Z"
   },
   {
    "duration": 37,
    "start_time": "2022-03-22T19:06:01.736Z"
   },
   {
    "duration": 112,
    "start_time": "2022-03-22T19:06:01.776Z"
   },
   {
    "duration": 168,
    "start_time": "2022-03-22T19:06:01.890Z"
   },
   {
    "duration": 2736,
    "start_time": "2022-03-22T19:06:02.060Z"
   },
   {
    "duration": 373,
    "start_time": "2022-03-22T19:06:04.799Z"
   },
   {
    "duration": 193,
    "start_time": "2022-03-22T19:06:05.174Z"
   },
   {
    "duration": 63,
    "start_time": "2022-03-22T19:06:05.369Z"
   },
   {
    "duration": 13,
    "start_time": "2022-03-22T19:06:05.433Z"
   },
   {
    "duration": 4,
    "start_time": "2022-03-22T19:06:05.448Z"
   },
   {
    "duration": 229,
    "start_time": "2022-03-22T19:06:05.453Z"
   },
   {
    "duration": 5,
    "start_time": "2022-03-22T19:06:05.685Z"
   },
   {
    "duration": 14,
    "start_time": "2022-03-22T19:06:05.692Z"
   },
   {
    "duration": 31,
    "start_time": "2022-03-22T19:06:05.708Z"
   },
   {
    "duration": 4,
    "start_time": "2022-03-22T19:06:05.741Z"
   },
   {
    "duration": 407,
    "start_time": "2022-03-22T19:06:05.746Z"
   },
   {
    "duration": 5,
    "start_time": "2022-03-22T19:06:39.084Z"
   },
   {
    "duration": 375,
    "start_time": "2022-03-22T19:06:40.368Z"
   },
   {
    "duration": 3,
    "start_time": "2022-03-22T19:08:43.568Z"
   },
   {
    "duration": 4,
    "start_time": "2022-03-22T19:08:44.234Z"
   },
   {
    "duration": 3,
    "start_time": "2022-03-22T19:10:08.886Z"
   },
   {
    "duration": 644,
    "start_time": "2022-03-22T19:11:55.688Z"
   },
   {
    "duration": 6,
    "start_time": "2022-03-22T19:12:35.539Z"
   },
   {
    "duration": 8,
    "start_time": "2022-03-22T19:13:24.793Z"
   },
   {
    "duration": 2322,
    "start_time": "2022-03-23T15:35:53.203Z"
   },
   {
    "duration": 485,
    "start_time": "2022-03-23T15:35:55.528Z"
   },
   {
    "duration": 49,
    "start_time": "2022-03-23T15:35:56.015Z"
   },
   {
    "duration": 31,
    "start_time": "2022-03-23T15:35:56.066Z"
   },
   {
    "duration": 98,
    "start_time": "2022-03-23T15:35:56.099Z"
   },
   {
    "duration": 147,
    "start_time": "2022-03-23T15:35:56.199Z"
   },
   {
    "duration": 2460,
    "start_time": "2022-03-23T15:35:56.348Z"
   },
   {
    "duration": 191,
    "start_time": "2022-03-23T15:35:58.810Z"
   },
   {
    "duration": 165,
    "start_time": "2022-03-23T15:35:59.003Z"
   },
   {
    "duration": 48,
    "start_time": "2022-03-23T15:35:59.171Z"
   },
   {
    "duration": 15,
    "start_time": "2022-03-23T15:35:59.221Z"
   },
   {
    "duration": 4,
    "start_time": "2022-03-23T15:35:59.263Z"
   },
   {
    "duration": 122,
    "start_time": "2022-03-23T15:35:59.270Z"
   },
   {
    "duration": 0,
    "start_time": "2022-03-23T15:35:59.393Z"
   },
   {
    "duration": 0,
    "start_time": "2022-03-23T15:35:59.396Z"
   },
   {
    "duration": 0,
    "start_time": "2022-03-23T15:35:59.398Z"
   },
   {
    "duration": 0,
    "start_time": "2022-03-23T15:35:59.399Z"
   },
   {
    "duration": 3,
    "start_time": "2022-03-23T15:36:21.529Z"
   },
   {
    "duration": 3,
    "start_time": "2022-03-23T15:36:23.340Z"
   },
   {
    "duration": 610,
    "start_time": "2022-03-23T15:36:27.341Z"
   },
   {
    "duration": 7,
    "start_time": "2022-03-23T15:39:10.740Z"
   },
   {
    "duration": 954,
    "start_time": "2022-03-23T15:39:13.846Z"
   },
   {
    "duration": 15,
    "start_time": "2022-03-23T15:39:20.617Z"
   },
   {
    "duration": 15,
    "start_time": "2022-03-23T15:39:47.821Z"
   },
   {
    "duration": 18,
    "start_time": "2022-03-23T15:40:32.752Z"
   },
   {
    "duration": 5,
    "start_time": "2022-03-23T15:42:57.404Z"
   },
   {
    "duration": 248,
    "start_time": "2022-03-23T15:42:57.412Z"
   },
   {
    "duration": 43,
    "start_time": "2022-03-23T15:42:57.663Z"
   },
   {
    "duration": 66,
    "start_time": "2022-03-23T15:42:57.709Z"
   },
   {
    "duration": 72,
    "start_time": "2022-03-23T15:42:57.777Z"
   },
   {
    "duration": 164,
    "start_time": "2022-03-23T15:42:57.850Z"
   },
   {
    "duration": 2316,
    "start_time": "2022-03-23T15:42:58.016Z"
   },
   {
    "duration": 216,
    "start_time": "2022-03-23T15:43:00.334Z"
   },
   {
    "duration": 172,
    "start_time": "2022-03-23T15:43:00.552Z"
   },
   {
    "duration": 59,
    "start_time": "2022-03-23T15:43:00.726Z"
   },
   {
    "duration": 12,
    "start_time": "2022-03-23T15:43:00.787Z"
   },
   {
    "duration": 15,
    "start_time": "2022-03-23T15:43:00.801Z"
   },
   {
    "duration": 620,
    "start_time": "2022-03-23T15:43:00.818Z"
   },
   {
    "duration": 23,
    "start_time": "2022-03-23T15:43:01.441Z"
   },
   {
    "duration": 5,
    "start_time": "2022-03-23T15:43:47.944Z"
   },
   {
    "duration": 580,
    "start_time": "2022-03-23T15:43:48.497Z"
   },
   {
    "duration": 19,
    "start_time": "2022-03-23T15:43:50.695Z"
   },
   {
    "duration": 179,
    "start_time": "2022-03-23T15:47:32.353Z"
   },
   {
    "duration": 13,
    "start_time": "2022-03-23T15:47:40.523Z"
   },
   {
    "duration": 109,
    "start_time": "2022-03-23T15:48:39.716Z"
   },
   {
    "duration": 11,
    "start_time": "2022-03-23T15:48:50.395Z"
   },
   {
    "duration": 5,
    "start_time": "2022-03-23T15:51:13.214Z"
   },
   {
    "duration": 249,
    "start_time": "2022-03-23T15:51:13.222Z"
   },
   {
    "duration": 45,
    "start_time": "2022-03-23T15:51:13.473Z"
   },
   {
    "duration": 43,
    "start_time": "2022-03-23T15:51:13.521Z"
   },
   {
    "duration": 70,
    "start_time": "2022-03-23T15:51:13.565Z"
   },
   {
    "duration": 217,
    "start_time": "2022-03-23T15:51:13.637Z"
   },
   {
    "duration": 3756,
    "start_time": "2022-03-23T15:51:13.857Z"
   },
   {
    "duration": 227,
    "start_time": "2022-03-23T15:51:17.615Z"
   },
   {
    "duration": 174,
    "start_time": "2022-03-23T15:51:17.844Z"
   },
   {
    "duration": 60,
    "start_time": "2022-03-23T15:51:18.021Z"
   },
   {
    "duration": 36,
    "start_time": "2022-03-23T15:51:18.083Z"
   },
   {
    "duration": 14,
    "start_time": "2022-03-23T15:51:18.121Z"
   },
   {
    "duration": 27,
    "start_time": "2022-03-23T15:51:18.137Z"
   },
   {
    "duration": 617,
    "start_time": "2022-03-23T15:51:18.166Z"
   },
   {
    "duration": 16,
    "start_time": "2022-03-23T15:51:18.785Z"
   },
   {
    "duration": 142,
    "start_time": "2022-03-23T16:26:06.422Z"
   },
   {
    "duration": 4,
    "start_time": "2022-03-23T16:26:31.905Z"
   },
   {
    "duration": 275,
    "start_time": "2022-03-23T16:27:01.855Z"
   },
   {
    "duration": 12,
    "start_time": "2022-03-23T16:27:15.013Z"
   },
   {
    "duration": 4,
    "start_time": "2022-03-23T16:28:29.926Z"
   },
   {
    "duration": 289,
    "start_time": "2022-03-23T16:28:30.784Z"
   },
   {
    "duration": 11,
    "start_time": "2022-03-23T16:28:31.613Z"
   },
   {
    "duration": 13,
    "start_time": "2022-03-23T16:29:55.496Z"
   },
   {
    "duration": 12,
    "start_time": "2022-03-23T16:30:10.031Z"
   },
   {
    "duration": 11,
    "start_time": "2022-03-23T16:30:16.286Z"
   },
   {
    "duration": 11,
    "start_time": "2022-03-23T16:30:27.300Z"
   },
   {
    "duration": 12,
    "start_time": "2022-03-23T16:30:31.045Z"
   },
   {
    "duration": 12,
    "start_time": "2022-03-23T16:30:35.973Z"
   },
   {
    "duration": 12,
    "start_time": "2022-03-23T16:30:43.102Z"
   },
   {
    "duration": 14,
    "start_time": "2022-03-23T16:31:57.527Z"
   },
   {
    "duration": 11,
    "start_time": "2022-03-23T16:32:41.287Z"
   },
   {
    "duration": 4,
    "start_time": "2022-03-23T16:33:51.598Z"
   },
   {
    "duration": 515,
    "start_time": "2022-03-23T16:33:51.605Z"
   },
   {
    "duration": 52,
    "start_time": "2022-03-23T16:33:52.122Z"
   },
   {
    "duration": 32,
    "start_time": "2022-03-23T16:33:52.176Z"
   },
   {
    "duration": 97,
    "start_time": "2022-03-23T16:33:52.210Z"
   },
   {
    "duration": 143,
    "start_time": "2022-03-23T16:33:52.309Z"
   },
   {
    "duration": 2203,
    "start_time": "2022-03-23T16:33:52.454Z"
   },
   {
    "duration": 318,
    "start_time": "2022-03-23T16:33:54.662Z"
   },
   {
    "duration": 170,
    "start_time": "2022-03-23T16:33:54.982Z"
   },
   {
    "duration": 53,
    "start_time": "2022-03-23T16:33:55.154Z"
   },
   {
    "duration": 57,
    "start_time": "2022-03-23T16:33:55.209Z"
   },
   {
    "duration": 0,
    "start_time": "2022-03-23T16:33:55.268Z"
   },
   {
    "duration": 0,
    "start_time": "2022-03-23T16:33:55.270Z"
   },
   {
    "duration": 0,
    "start_time": "2022-03-23T16:33:55.271Z"
   },
   {
    "duration": 0,
    "start_time": "2022-03-23T16:33:55.272Z"
   },
   {
    "duration": 0,
    "start_time": "2022-03-23T16:33:55.273Z"
   },
   {
    "duration": 0,
    "start_time": "2022-03-23T16:33:55.274Z"
   },
   {
    "duration": 0,
    "start_time": "2022-03-23T16:33:55.275Z"
   },
   {
    "duration": 0,
    "start_time": "2022-03-23T16:33:55.276Z"
   },
   {
    "duration": 0,
    "start_time": "2022-03-23T16:33:55.277Z"
   },
   {
    "duration": 29,
    "start_time": "2022-03-23T16:34:41.407Z"
   },
   {
    "duration": 13,
    "start_time": "2022-03-23T16:34:43.020Z"
   },
   {
    "duration": 6,
    "start_time": "2022-03-23T16:34:44.220Z"
   },
   {
    "duration": 608,
    "start_time": "2022-03-23T16:34:44.936Z"
   },
   {
    "duration": 16,
    "start_time": "2022-03-23T16:34:46.707Z"
   },
   {
    "duration": 11,
    "start_time": "2022-03-23T16:34:47.410Z"
   },
   {
    "duration": 4,
    "start_time": "2022-03-23T16:34:57.783Z"
   },
   {
    "duration": 286,
    "start_time": "2022-03-23T16:34:58.859Z"
   },
   {
    "duration": 11,
    "start_time": "2022-03-23T16:34:59.922Z"
   },
   {
    "duration": 12,
    "start_time": "2022-03-23T16:35:04.562Z"
   },
   {
    "duration": 13,
    "start_time": "2022-03-23T16:35:10.294Z"
   },
   {
    "duration": 10,
    "start_time": "2022-03-23T16:35:17.801Z"
   },
   {
    "duration": 9,
    "start_time": "2022-03-23T16:35:57.117Z"
   },
   {
    "duration": 11,
    "start_time": "2022-03-23T16:36:05.362Z"
   },
   {
    "duration": 14,
    "start_time": "2022-03-23T16:36:13.546Z"
   },
   {
    "duration": 13,
    "start_time": "2022-03-23T16:36:33.311Z"
   },
   {
    "duration": 14,
    "start_time": "2022-03-23T16:38:13.646Z"
   },
   {
    "duration": 4,
    "start_time": "2022-03-23T16:39:21.684Z"
   },
   {
    "duration": 534,
    "start_time": "2022-03-23T16:39:23.384Z"
   },
   {
    "duration": 11,
    "start_time": "2022-03-23T16:39:24.509Z"
   },
   {
    "duration": 16,
    "start_time": "2022-03-23T16:39:27.452Z"
   },
   {
    "duration": 13,
    "start_time": "2022-03-23T16:39:50.346Z"
   },
   {
    "duration": 13,
    "start_time": "2022-03-23T16:40:22.991Z"
   },
   {
    "duration": 15,
    "start_time": "2022-03-23T16:41:12.408Z"
   },
   {
    "duration": 15,
    "start_time": "2022-03-23T16:43:02.491Z"
   },
   {
    "duration": 6,
    "start_time": "2022-03-23T16:47:07.747Z"
   },
   {
    "duration": 20,
    "start_time": "2022-03-23T17:13:27.650Z"
   },
   {
    "duration": 9,
    "start_time": "2022-03-23T17:17:23.527Z"
   },
   {
    "duration": 8,
    "start_time": "2022-03-23T17:17:44.083Z"
   },
   {
    "duration": 5,
    "start_time": "2022-03-23T17:20:28.934Z"
   },
   {
    "duration": 46,
    "start_time": "2022-03-24T06:16:20.157Z"
   },
   {
    "duration": 1585,
    "start_time": "2022-03-24T06:16:28.266Z"
   },
   {
    "duration": 445,
    "start_time": "2022-03-24T06:16:29.853Z"
   },
   {
    "duration": 41,
    "start_time": "2022-03-24T06:16:30.300Z"
   },
   {
    "duration": 31,
    "start_time": "2022-03-24T06:16:30.343Z"
   },
   {
    "duration": 93,
    "start_time": "2022-03-24T06:16:30.376Z"
   },
   {
    "duration": 150,
    "start_time": "2022-03-24T06:16:30.471Z"
   },
   {
    "duration": 2531,
    "start_time": "2022-03-24T06:16:30.623Z"
   },
   {
    "duration": 105,
    "start_time": "2022-03-24T06:16:33.156Z"
   },
   {
    "duration": 196,
    "start_time": "2022-03-24T06:16:33.263Z"
   },
   {
    "duration": 175,
    "start_time": "2022-03-24T06:16:33.462Z"
   },
   {
    "duration": 51,
    "start_time": "2022-03-24T06:16:33.639Z"
   },
   {
    "duration": 30,
    "start_time": "2022-03-24T06:16:33.691Z"
   },
   {
    "duration": 15,
    "start_time": "2022-03-24T06:16:33.738Z"
   },
   {
    "duration": 5,
    "start_time": "2022-03-24T06:16:33.755Z"
   },
   {
    "duration": 565,
    "start_time": "2022-03-24T06:16:33.762Z"
   },
   {
    "duration": 20,
    "start_time": "2022-03-24T06:16:34.328Z"
   },
   {
    "duration": 4,
    "start_time": "2022-03-24T06:16:34.349Z"
   },
   {
    "duration": 509,
    "start_time": "2022-03-24T06:16:34.355Z"
   },
   {
    "duration": 11,
    "start_time": "2022-03-24T06:16:34.866Z"
   },
   {
    "duration": 22,
    "start_time": "2022-03-24T06:16:34.878Z"
   },
   {
    "duration": 118,
    "start_time": "2022-03-24T06:41:55.513Z"
   },
   {
    "duration": 39,
    "start_time": "2022-03-24T06:44:07.834Z"
   },
   {
    "duration": 20,
    "start_time": "2022-03-24T06:48:58.020Z"
   },
   {
    "duration": 45,
    "start_time": "2022-03-24T06:48:58.986Z"
   },
   {
    "duration": 73,
    "start_time": "2022-03-24T06:57:34.590Z"
   },
   {
    "duration": 7,
    "start_time": "2022-03-24T06:58:39.030Z"
   },
   {
    "duration": 6,
    "start_time": "2022-03-24T06:59:25.940Z"
   },
   {
    "duration": 78,
    "start_time": "2022-03-24T07:00:12.417Z"
   },
   {
    "duration": 4,
    "start_time": "2022-03-24T07:01:36.065Z"
   },
   {
    "duration": 246,
    "start_time": "2022-03-24T07:01:36.070Z"
   },
   {
    "duration": 41,
    "start_time": "2022-03-24T07:01:36.318Z"
   },
   {
    "duration": 31,
    "start_time": "2022-03-24T07:01:36.361Z"
   },
   {
    "duration": 94,
    "start_time": "2022-03-24T07:01:36.394Z"
   },
   {
    "duration": 151,
    "start_time": "2022-03-24T07:01:36.490Z"
   },
   {
    "duration": 2465,
    "start_time": "2022-03-24T07:01:36.642Z"
   },
   {
    "duration": 111,
    "start_time": "2022-03-24T07:01:39.108Z"
   },
   {
    "duration": 212,
    "start_time": "2022-03-24T07:01:39.221Z"
   },
   {
    "duration": 289,
    "start_time": "2022-03-24T07:01:39.434Z"
   },
   {
    "duration": 53,
    "start_time": "2022-03-24T07:01:39.737Z"
   },
   {
    "duration": 30,
    "start_time": "2022-03-24T07:01:39.792Z"
   },
   {
    "duration": 35,
    "start_time": "2022-03-24T07:01:39.824Z"
   },
   {
    "duration": 6,
    "start_time": "2022-03-24T07:01:39.860Z"
   },
   {
    "duration": 570,
    "start_time": "2022-03-24T07:01:39.868Z"
   },
   {
    "duration": 29,
    "start_time": "2022-03-24T07:01:40.440Z"
   },
   {
    "duration": 4,
    "start_time": "2022-03-24T07:01:40.472Z"
   },
   {
    "duration": 557,
    "start_time": "2022-03-24T07:01:40.478Z"
   },
   {
    "duration": 12,
    "start_time": "2022-03-24T07:01:41.038Z"
   },
   {
    "duration": 19,
    "start_time": "2022-03-24T07:01:41.052Z"
   },
   {
    "duration": 17,
    "start_time": "2022-03-24T07:01:41.073Z"
   },
   {
    "duration": 47,
    "start_time": "2022-03-24T07:01:41.092Z"
   },
   {
    "duration": 8,
    "start_time": "2022-03-24T07:01:41.141Z"
   },
   {
    "duration": 258,
    "start_time": "2022-03-24T07:01:41.151Z"
   },
   {
    "duration": 15,
    "start_time": "2022-03-24T07:09:20.285Z"
   },
   {
    "duration": 31,
    "start_time": "2022-03-24T07:09:53.995Z"
   },
   {
    "duration": 241,
    "start_time": "2022-03-24T07:09:54.029Z"
   },
   {
    "duration": 43,
    "start_time": "2022-03-24T07:09:54.272Z"
   },
   {
    "duration": 46,
    "start_time": "2022-03-24T07:09:54.318Z"
   },
   {
    "duration": 90,
    "start_time": "2022-03-24T07:09:54.366Z"
   },
   {
    "duration": 165,
    "start_time": "2022-03-24T07:09:54.458Z"
   },
   {
    "duration": 2542,
    "start_time": "2022-03-24T07:09:54.625Z"
   },
   {
    "duration": 119,
    "start_time": "2022-03-24T07:09:57.169Z"
   },
   {
    "duration": 207,
    "start_time": "2022-03-24T07:09:57.290Z"
   },
   {
    "duration": 181,
    "start_time": "2022-03-24T07:09:57.499Z"
   },
   {
    "duration": 61,
    "start_time": "2022-03-24T07:09:57.681Z"
   },
   {
    "duration": 32,
    "start_time": "2022-03-24T07:09:57.744Z"
   },
   {
    "duration": 13,
    "start_time": "2022-03-24T07:09:57.777Z"
   },
   {
    "duration": 6,
    "start_time": "2022-03-24T07:09:57.793Z"
   },
   {
    "duration": 610,
    "start_time": "2022-03-24T07:09:57.801Z"
   },
   {
    "duration": 32,
    "start_time": "2022-03-24T07:09:58.413Z"
   },
   {
    "duration": 5,
    "start_time": "2022-03-24T07:09:58.446Z"
   },
   {
    "duration": 544,
    "start_time": "2022-03-24T07:09:58.452Z"
   },
   {
    "duration": 11,
    "start_time": "2022-03-24T07:09:58.998Z"
   },
   {
    "duration": 25,
    "start_time": "2022-03-24T07:09:59.010Z"
   },
   {
    "duration": 62,
    "start_time": "2022-03-24T07:09:59.037Z"
   },
   {
    "duration": 40,
    "start_time": "2022-03-24T07:09:59.101Z"
   },
   {
    "duration": 12,
    "start_time": "2022-03-24T07:09:59.142Z"
   },
   {
    "duration": 277,
    "start_time": "2022-03-24T07:09:59.156Z"
   },
   {
    "duration": 1031,
    "start_time": "2022-03-24T07:09:59.435Z"
   },
   {
    "duration": 1276,
    "start_time": "2022-03-24T07:12:48.155Z"
   },
   {
    "duration": 5,
    "start_time": "2022-03-24T07:14:05.763Z"
   },
   {
    "duration": 246,
    "start_time": "2022-03-24T07:14:05.770Z"
   },
   {
    "duration": 61,
    "start_time": "2022-03-24T07:14:06.018Z"
   },
   {
    "duration": 30,
    "start_time": "2022-03-24T07:14:06.082Z"
   },
   {
    "duration": 98,
    "start_time": "2022-03-24T07:14:06.114Z"
   },
   {
    "duration": 174,
    "start_time": "2022-03-24T07:14:06.214Z"
   },
   {
    "duration": 2753,
    "start_time": "2022-03-24T07:14:06.389Z"
   },
   {
    "duration": 115,
    "start_time": "2022-03-24T07:14:09.143Z"
   },
   {
    "duration": 214,
    "start_time": "2022-03-24T07:14:09.259Z"
   },
   {
    "duration": 179,
    "start_time": "2022-03-24T07:14:09.476Z"
   },
   {
    "duration": 50,
    "start_time": "2022-03-24T07:14:09.656Z"
   },
   {
    "duration": 47,
    "start_time": "2022-03-24T07:14:09.708Z"
   },
   {
    "duration": 19,
    "start_time": "2022-03-24T07:14:09.757Z"
   },
   {
    "duration": 6,
    "start_time": "2022-03-24T07:14:09.777Z"
   },
   {
    "duration": 604,
    "start_time": "2022-03-24T07:14:09.785Z"
   },
   {
    "duration": 16,
    "start_time": "2022-03-24T07:14:10.391Z"
   },
   {
    "duration": 10,
    "start_time": "2022-03-24T07:14:10.409Z"
   },
   {
    "duration": 565,
    "start_time": "2022-03-24T07:14:10.420Z"
   },
   {
    "duration": 10,
    "start_time": "2022-03-24T07:14:10.987Z"
   },
   {
    "duration": 34,
    "start_time": "2022-03-24T07:14:10.999Z"
   },
   {
    "duration": 73,
    "start_time": "2022-03-24T07:14:11.035Z"
   },
   {
    "duration": 48,
    "start_time": "2022-03-24T07:14:11.110Z"
   },
   {
    "duration": 11,
    "start_time": "2022-03-24T07:14:11.160Z"
   },
   {
    "duration": 250,
    "start_time": "2022-03-24T07:14:11.173Z"
   },
   {
    "duration": 1322,
    "start_time": "2022-03-24T07:14:11.425Z"
   },
   {
    "duration": 29835,
    "start_time": "2022-03-24T07:16:26.346Z"
   },
   {
    "duration": 16424,
    "start_time": "2022-03-24T07:19:42.844Z"
   },
   {
    "duration": 41633,
    "start_time": "2022-03-24T07:20:50.802Z"
   },
   {
    "duration": 66198,
    "start_time": "2022-03-24T07:21:54.093Z"
   },
   {
    "duration": 92344,
    "start_time": "2022-03-24T07:23:26.462Z"
   },
   {
    "duration": 113221,
    "start_time": "2022-03-24T07:26:16.904Z"
   },
   {
    "duration": 5,
    "start_time": "2022-03-24T07:48:36.598Z"
   },
   {
    "duration": 628,
    "start_time": "2022-03-24T07:48:36.606Z"
   },
   {
    "duration": 41,
    "start_time": "2022-03-24T07:48:37.236Z"
   },
   {
    "duration": 29,
    "start_time": "2022-03-24T07:48:37.279Z"
   },
   {
    "duration": 83,
    "start_time": "2022-03-24T07:48:37.310Z"
   },
   {
    "duration": 161,
    "start_time": "2022-03-24T07:48:37.395Z"
   },
   {
    "duration": 2441,
    "start_time": "2022-03-24T07:48:37.558Z"
   },
   {
    "duration": 126,
    "start_time": "2022-03-24T07:48:40.001Z"
   },
   {
    "duration": 222,
    "start_time": "2022-03-24T07:48:40.138Z"
   },
   {
    "duration": 171,
    "start_time": "2022-03-24T07:48:40.362Z"
   },
   {
    "duration": 51,
    "start_time": "2022-03-24T07:48:40.538Z"
   },
   {
    "duration": 48,
    "start_time": "2022-03-24T07:48:40.591Z"
   },
   {
    "duration": 12,
    "start_time": "2022-03-24T07:48:40.640Z"
   },
   {
    "duration": 6,
    "start_time": "2022-03-24T07:48:40.655Z"
   },
   {
    "duration": 606,
    "start_time": "2022-03-24T07:48:40.663Z"
   },
   {
    "duration": 15,
    "start_time": "2022-03-24T07:48:41.271Z"
   },
   {
    "duration": 4,
    "start_time": "2022-03-24T07:48:41.288Z"
   },
   {
    "duration": 553,
    "start_time": "2022-03-24T07:48:41.294Z"
   },
   {
    "duration": 10,
    "start_time": "2022-03-24T07:48:41.849Z"
   },
   {
    "duration": 7,
    "start_time": "2022-03-24T07:48:41.861Z"
   },
   {
    "duration": 14,
    "start_time": "2022-03-24T07:48:41.870Z"
   },
   {
    "duration": 9,
    "start_time": "2022-03-24T07:48:41.886Z"
   },
   {
    "duration": 275,
    "start_time": "2022-03-24T07:48:41.897Z"
   },
   {
    "duration": 242,
    "start_time": "2022-03-24T07:49:52.449Z"
   },
   {
    "duration": 4,
    "start_time": "2022-03-24T07:51:34.300Z"
   },
   {
    "duration": 468,
    "start_time": "2022-03-24T07:51:34.307Z"
   },
   {
    "duration": 60,
    "start_time": "2022-03-24T07:51:34.777Z"
   },
   {
    "duration": 30,
    "start_time": "2022-03-24T07:51:34.840Z"
   },
   {
    "duration": 89,
    "start_time": "2022-03-24T07:51:34.871Z"
   },
   {
    "duration": 178,
    "start_time": "2022-03-24T07:51:34.962Z"
   },
   {
    "duration": 2640,
    "start_time": "2022-03-24T07:51:35.142Z"
   },
   {
    "duration": 114,
    "start_time": "2022-03-24T07:51:37.784Z"
   },
   {
    "duration": 208,
    "start_time": "2022-03-24T07:51:37.900Z"
   },
   {
    "duration": 194,
    "start_time": "2022-03-24T07:51:38.112Z"
   },
   {
    "duration": 78,
    "start_time": "2022-03-24T07:51:38.309Z"
   },
   {
    "duration": 29,
    "start_time": "2022-03-24T07:51:38.388Z"
   },
   {
    "duration": 27,
    "start_time": "2022-03-24T07:51:38.419Z"
   },
   {
    "duration": 6,
    "start_time": "2022-03-24T07:51:38.447Z"
   },
   {
    "duration": 573,
    "start_time": "2022-03-24T07:51:38.455Z"
   },
   {
    "duration": 16,
    "start_time": "2022-03-24T07:51:39.031Z"
   },
   {
    "duration": 4,
    "start_time": "2022-03-24T07:51:39.048Z"
   },
   {
    "duration": 524,
    "start_time": "2022-03-24T07:51:39.054Z"
   },
   {
    "duration": 12,
    "start_time": "2022-03-24T07:51:39.579Z"
   },
   {
    "duration": 8,
    "start_time": "2022-03-24T07:51:39.593Z"
   },
   {
    "duration": 17,
    "start_time": "2022-03-24T07:51:39.602Z"
   },
   {
    "duration": 21,
    "start_time": "2022-03-24T07:51:39.621Z"
   },
   {
    "duration": 251,
    "start_time": "2022-03-24T07:51:39.644Z"
   },
   {
    "duration": 101,
    "start_time": "2022-03-24T07:51:39.897Z"
   },
   {
    "duration": 15,
    "start_time": "2022-03-24T07:54:14.704Z"
   },
   {
    "duration": 14,
    "start_time": "2022-03-24T07:54:46.343Z"
   },
   {
    "duration": 6,
    "start_time": "2022-03-24T07:56:01.857Z"
   },
   {
    "duration": 242,
    "start_time": "2022-03-24T07:56:01.865Z"
   },
   {
    "duration": 58,
    "start_time": "2022-03-24T07:56:02.108Z"
   },
   {
    "duration": 33,
    "start_time": "2022-03-24T07:56:02.169Z"
   },
   {
    "duration": 96,
    "start_time": "2022-03-24T07:56:02.205Z"
   },
   {
    "duration": 166,
    "start_time": "2022-03-24T07:56:02.303Z"
   },
   {
    "duration": 2516,
    "start_time": "2022-03-24T07:56:02.471Z"
   },
   {
    "duration": 115,
    "start_time": "2022-03-24T07:56:04.989Z"
   },
   {
    "duration": 217,
    "start_time": "2022-03-24T07:56:05.107Z"
   },
   {
    "duration": 188,
    "start_time": "2022-03-24T07:56:05.326Z"
   },
   {
    "duration": 58,
    "start_time": "2022-03-24T07:56:05.516Z"
   },
   {
    "duration": 30,
    "start_time": "2022-03-24T07:56:05.576Z"
   },
   {
    "duration": 37,
    "start_time": "2022-03-24T07:56:05.608Z"
   },
   {
    "duration": 6,
    "start_time": "2022-03-24T07:56:05.647Z"
   },
   {
    "duration": 602,
    "start_time": "2022-03-24T07:56:05.655Z"
   },
   {
    "duration": 17,
    "start_time": "2022-03-24T07:56:06.259Z"
   },
   {
    "duration": 4,
    "start_time": "2022-03-24T07:56:06.278Z"
   },
   {
    "duration": 539,
    "start_time": "2022-03-24T07:56:06.285Z"
   },
   {
    "duration": 15,
    "start_time": "2022-03-24T07:56:06.826Z"
   },
   {
    "duration": 8,
    "start_time": "2022-03-24T07:56:06.843Z"
   },
   {
    "duration": 15,
    "start_time": "2022-03-24T07:56:06.852Z"
   },
   {
    "duration": 10,
    "start_time": "2022-03-24T07:56:06.869Z"
   },
   {
    "duration": 269,
    "start_time": "2022-03-24T07:56:06.881Z"
   },
   {
    "duration": 10,
    "start_time": "2022-03-24T07:56:07.153Z"
   },
   {
    "duration": 70683,
    "start_time": "2022-03-24T07:56:15.561Z"
   },
   {
    "duration": 4,
    "start_time": "2022-03-24T07:57:40.836Z"
   },
   {
    "duration": 6,
    "start_time": "2022-03-24T08:05:39.298Z"
   },
   {
    "duration": 240,
    "start_time": "2022-03-24T08:05:39.307Z"
   },
   {
    "duration": 43,
    "start_time": "2022-03-24T08:05:39.549Z"
   },
   {
    "duration": 60,
    "start_time": "2022-03-24T08:05:39.596Z"
   },
   {
    "duration": 89,
    "start_time": "2022-03-24T08:05:39.659Z"
   },
   {
    "duration": 152,
    "start_time": "2022-03-24T08:05:39.750Z"
   },
   {
    "duration": 2625,
    "start_time": "2022-03-24T08:05:39.904Z"
   },
   {
    "duration": 124,
    "start_time": "2022-03-24T08:05:42.531Z"
   },
   {
    "duration": 213,
    "start_time": "2022-03-24T08:05:42.657Z"
   },
   {
    "duration": 178,
    "start_time": "2022-03-24T08:05:42.873Z"
   },
   {
    "duration": 51,
    "start_time": "2022-03-24T08:05:43.052Z"
   },
   {
    "duration": 51,
    "start_time": "2022-03-24T08:05:43.105Z"
   },
   {
    "duration": 12,
    "start_time": "2022-03-24T08:05:43.158Z"
   },
   {
    "duration": 6,
    "start_time": "2022-03-24T08:05:43.172Z"
   },
   {
    "duration": 591,
    "start_time": "2022-03-24T08:05:43.180Z"
   },
   {
    "duration": 16,
    "start_time": "2022-03-24T08:05:43.773Z"
   },
   {
    "duration": 11,
    "start_time": "2022-03-24T08:05:43.791Z"
   },
   {
    "duration": 539,
    "start_time": "2022-03-24T08:05:43.804Z"
   },
   {
    "duration": 11,
    "start_time": "2022-03-24T08:05:44.345Z"
   },
   {
    "duration": 6,
    "start_time": "2022-03-24T08:05:44.358Z"
   },
   {
    "duration": 12,
    "start_time": "2022-03-24T08:05:44.366Z"
   },
   {
    "duration": 279,
    "start_time": "2022-03-24T08:05:44.380Z"
   },
   {
    "duration": 33,
    "start_time": "2022-03-24T08:05:44.661Z"
   },
   {
    "duration": 7,
    "start_time": "2022-03-24T08:05:44.695Z"
   },
   {
    "duration": 70,
    "start_time": "2022-03-24T08:05:44.704Z"
   },
   {
    "duration": 4,
    "start_time": "2022-03-24T08:08:06.103Z"
   },
   {
    "duration": 262,
    "start_time": "2022-03-24T08:08:06.110Z"
   },
   {
    "duration": 53,
    "start_time": "2022-03-24T08:08:06.374Z"
   },
   {
    "duration": 36,
    "start_time": "2022-03-24T08:08:06.440Z"
   },
   {
    "duration": 94,
    "start_time": "2022-03-24T08:08:06.478Z"
   },
   {
    "duration": 151,
    "start_time": "2022-03-24T08:08:06.574Z"
   },
   {
    "duration": 2491,
    "start_time": "2022-03-24T08:08:06.727Z"
   },
   {
    "duration": 103,
    "start_time": "2022-03-24T08:08:09.219Z"
   },
   {
    "duration": 207,
    "start_time": "2022-03-24T08:08:09.324Z"
   },
   {
    "duration": 169,
    "start_time": "2022-03-24T08:08:09.537Z"
   },
   {
    "duration": 55,
    "start_time": "2022-03-24T08:08:09.708Z"
   },
   {
    "duration": 28,
    "start_time": "2022-03-24T08:08:09.765Z"
   },
   {
    "duration": 16,
    "start_time": "2022-03-24T08:08:09.795Z"
   },
   {
    "duration": 5,
    "start_time": "2022-03-24T08:08:09.813Z"
   },
   {
    "duration": 614,
    "start_time": "2022-03-24T08:08:09.820Z"
   },
   {
    "duration": 26,
    "start_time": "2022-03-24T08:08:10.436Z"
   },
   {
    "duration": 35,
    "start_time": "2022-03-24T08:08:10.463Z"
   },
   {
    "duration": 611,
    "start_time": "2022-03-24T08:08:10.500Z"
   },
   {
    "duration": 11,
    "start_time": "2022-03-24T08:08:11.113Z"
   },
   {
    "duration": 13,
    "start_time": "2022-03-24T08:08:11.126Z"
   },
   {
    "duration": 29,
    "start_time": "2022-03-24T08:08:11.141Z"
   },
   {
    "duration": 29,
    "start_time": "2022-03-24T08:08:11.171Z"
   },
   {
    "duration": 7,
    "start_time": "2022-03-24T08:08:11.201Z"
   },
   {
    "duration": 291,
    "start_time": "2022-03-24T08:08:11.209Z"
   },
   {
    "duration": 58,
    "start_time": "2022-03-24T08:08:11.503Z"
   },
   {
    "duration": 50,
    "start_time": "2022-03-24T08:10:08.534Z"
   },
   {
    "duration": 51,
    "start_time": "2022-03-24T08:13:18.097Z"
   },
   {
    "duration": 232,
    "start_time": "2022-03-24T08:14:55.852Z"
   },
   {
    "duration": 110424,
    "start_time": "2022-03-24T08:14:57.161Z"
   },
   {
    "duration": 68316,
    "start_time": "2022-03-24T08:36:54.993Z"
   },
   {
    "duration": 3382,
    "start_time": "2022-03-24T08:39:13.667Z"
   },
   {
    "duration": 10,
    "start_time": "2022-03-24T08:49:52.844Z"
   },
   {
    "duration": 5,
    "start_time": "2022-03-24T08:50:09.784Z"
   },
   {
    "duration": 679,
    "start_time": "2022-03-24T08:50:09.791Z"
   },
   {
    "duration": 41,
    "start_time": "2022-03-24T08:50:10.471Z"
   },
   {
    "duration": 73,
    "start_time": "2022-03-24T08:50:10.515Z"
   },
   {
    "duration": 85,
    "start_time": "2022-03-24T08:50:10.590Z"
   },
   {
    "duration": 148,
    "start_time": "2022-03-24T08:50:10.677Z"
   },
   {
    "duration": 2380,
    "start_time": "2022-03-24T08:50:10.827Z"
   },
   {
    "duration": 104,
    "start_time": "2022-03-24T08:50:13.209Z"
   },
   {
    "duration": 210,
    "start_time": "2022-03-24T08:50:13.315Z"
   },
   {
    "duration": 167,
    "start_time": "2022-03-24T08:50:13.526Z"
   },
   {
    "duration": 64,
    "start_time": "2022-03-24T08:50:13.694Z"
   },
   {
    "duration": 30,
    "start_time": "2022-03-24T08:50:13.760Z"
   },
   {
    "duration": 35,
    "start_time": "2022-03-24T08:50:13.792Z"
   },
   {
    "duration": 69,
    "start_time": "2022-03-24T08:50:13.829Z"
   },
   {
    "duration": 576,
    "start_time": "2022-03-24T08:50:13.900Z"
   },
   {
    "duration": 17,
    "start_time": "2022-03-24T08:50:14.478Z"
   },
   {
    "duration": 6,
    "start_time": "2022-03-24T08:50:14.496Z"
   },
   {
    "duration": 536,
    "start_time": "2022-03-24T08:50:14.504Z"
   },
   {
    "duration": 12,
    "start_time": "2022-03-24T08:50:15.042Z"
   },
   {
    "duration": 48,
    "start_time": "2022-03-24T08:50:15.056Z"
   },
   {
    "duration": 225,
    "start_time": "2022-03-24T08:50:15.106Z"
   },
   {
    "duration": 48,
    "start_time": "2022-03-24T08:50:15.337Z"
   },
   {
    "duration": 7,
    "start_time": "2022-03-24T08:50:15.387Z"
   },
   {
    "duration": 238,
    "start_time": "2022-03-24T08:50:15.398Z"
   },
   {
    "duration": 60018,
    "start_time": "2022-03-24T08:50:15.638Z"
   },
   {
    "duration": 3109,
    "start_time": "2022-03-24T08:51:15.658Z"
   },
   {
    "duration": 10,
    "start_time": "2022-03-24T08:51:18.769Z"
   },
   {
    "duration": 62679,
    "start_time": "2022-03-24T08:53:02.333Z"
   },
   {
    "duration": 87715,
    "start_time": "2022-03-24T08:54:49.319Z"
   },
   {
    "duration": 41542,
    "start_time": "2022-03-24T08:56:36.027Z"
   },
   {
    "duration": 16641,
    "start_time": "2022-03-24T08:57:52.518Z"
   },
   {
    "duration": 116685,
    "start_time": "2022-03-24T08:58:31.245Z"
   },
   {
    "duration": 97532,
    "start_time": "2022-03-24T09:01:05.393Z"
   },
   {
    "duration": 15606,
    "start_time": "2022-03-24T09:03:00.220Z"
   },
   {
    "duration": 193,
    "start_time": "2022-03-24T09:03:26.532Z"
   },
   {
    "duration": 63117,
    "start_time": "2022-03-24T09:04:57.939Z"
   },
   {
    "duration": 3141,
    "start_time": "2022-03-24T09:06:07.227Z"
   },
   {
    "duration": 12,
    "start_time": "2022-03-24T09:06:44.172Z"
   },
   {
    "duration": 97,
    "start_time": "2022-03-24T09:26:16.799Z"
   },
   {
    "duration": 5,
    "start_time": "2022-03-24T09:26:41.777Z"
   },
   {
    "duration": 736,
    "start_time": "2022-03-24T09:26:47.244Z"
   },
   {
    "duration": 12,
    "start_time": "2022-03-24T09:26:59.375Z"
   },
   {
    "duration": 4,
    "start_time": "2022-03-24T09:27:38.004Z"
   },
   {
    "duration": 6,
    "start_time": "2022-03-24T09:30:45.972Z"
   },
   {
    "duration": 724,
    "start_time": "2022-03-24T09:30:47.847Z"
   },
   {
    "duration": 5,
    "start_time": "2022-03-24T09:30:50.062Z"
   },
   {
    "duration": 4,
    "start_time": "2022-03-24T09:32:36.850Z"
   },
   {
    "duration": 352,
    "start_time": "2022-03-24T09:45:33.151Z"
   },
   {
    "duration": 85,
    "start_time": "2022-03-24T09:46:10.565Z"
   },
   {
    "duration": 5,
    "start_time": "2022-03-24T09:46:52.469Z"
   },
   {
    "duration": 27,
    "start_time": "2022-03-24T09:48:14.658Z"
   },
   {
    "duration": 4,
    "start_time": "2022-03-24T09:49:02.163Z"
   },
   {
    "duration": 7,
    "start_time": "2022-03-24T09:49:03.376Z"
   },
   {
    "duration": 621,
    "start_time": "2022-03-24T09:49:06.283Z"
   },
   {
    "duration": 5,
    "start_time": "2022-03-24T09:58:24.192Z"
   },
   {
    "duration": 625,
    "start_time": "2022-03-24T09:58:25.022Z"
   },
   {
    "duration": 625,
    "start_time": "2022-03-24T09:59:07.134Z"
   },
   {
    "duration": 628,
    "start_time": "2022-03-24T09:59:39.032Z"
   },
   {
    "duration": 6,
    "start_time": "2022-03-24T10:15:07.141Z"
   },
   {
    "duration": 8,
    "start_time": "2022-03-24T10:15:21.129Z"
   },
   {
    "duration": 8,
    "start_time": "2022-03-24T10:15:36.312Z"
   },
   {
    "duration": 11,
    "start_time": "2022-03-24T10:16:08.903Z"
   },
   {
    "duration": 11,
    "start_time": "2022-03-24T10:16:21.560Z"
   },
   {
    "duration": 16,
    "start_time": "2022-03-24T10:24:48.401Z"
   },
   {
    "duration": 12,
    "start_time": "2022-03-24T10:25:21.280Z"
   },
   {
    "duration": 16,
    "start_time": "2022-03-24T10:25:50.294Z"
   },
   {
    "duration": 6,
    "start_time": "2022-03-24T10:26:21.347Z"
   },
   {
    "duration": 6,
    "start_time": "2022-03-24T10:27:47.424Z"
   },
   {
    "duration": 12,
    "start_time": "2022-03-24T10:28:25.570Z"
   },
   {
    "duration": 11,
    "start_time": "2022-03-24T10:28:26.183Z"
   },
   {
    "duration": 183,
    "start_time": "2022-03-24T10:33:57.935Z"
   },
   {
    "duration": 6,
    "start_time": "2022-03-24T10:34:02.581Z"
   },
   {
    "duration": 5,
    "start_time": "2022-03-24T11:47:24.808Z"
   },
   {
    "duration": 5,
    "start_time": "2022-03-24T11:47:59.330Z"
   },
   {
    "duration": 232,
    "start_time": "2022-03-24T11:48:01.666Z"
   },
   {
    "duration": 44,
    "start_time": "2022-03-24T11:48:03.019Z"
   },
   {
    "duration": 32,
    "start_time": "2022-03-24T11:48:05.359Z"
   },
   {
    "duration": 76,
    "start_time": "2022-03-24T11:48:06.048Z"
   },
   {
    "duration": 143,
    "start_time": "2022-03-24T11:48:07.056Z"
   },
   {
    "duration": 2447,
    "start_time": "2022-03-24T11:48:07.547Z"
   },
   {
    "duration": 112,
    "start_time": "2022-03-24T11:48:09.996Z"
   },
   {
    "duration": 212,
    "start_time": "2022-03-24T11:48:10.110Z"
   },
   {
    "duration": 170,
    "start_time": "2022-03-24T11:48:10.324Z"
   },
   {
    "duration": 73,
    "start_time": "2022-03-24T11:48:14.882Z"
   },
   {
    "duration": 32,
    "start_time": "2022-03-24T11:48:15.905Z"
   },
   {
    "duration": 13,
    "start_time": "2022-03-24T11:48:16.608Z"
   },
   {
    "duration": 5,
    "start_time": "2022-03-24T11:48:17.546Z"
   },
   {
    "duration": 570,
    "start_time": "2022-03-24T11:48:18.279Z"
   },
   {
    "duration": 17,
    "start_time": "2022-03-24T11:48:18.851Z"
   },
   {
    "duration": 4,
    "start_time": "2022-03-24T11:48:23.267Z"
   },
   {
    "duration": 528,
    "start_time": "2022-03-24T11:48:23.951Z"
   },
   {
    "duration": 13,
    "start_time": "2022-03-24T11:48:24.627Z"
   },
   {
    "duration": 5,
    "start_time": "2022-03-24T11:48:25.844Z"
   },
   {
    "duration": 14,
    "start_time": "2022-03-24T11:48:33.710Z"
   },
   {
    "duration": 32,
    "start_time": "2022-03-24T11:48:34.237Z"
   },
   {
    "duration": 7,
    "start_time": "2022-03-24T11:48:34.772Z"
   },
   {
    "duration": 229,
    "start_time": "2022-03-24T11:48:37.070Z"
   },
   {
    "duration": 61163,
    "start_time": "2022-03-24T11:48:39.729Z"
   },
   {
    "duration": 3009,
    "start_time": "2022-03-24T11:49:47.254Z"
   },
   {
    "duration": 2193,
    "start_time": "2022-03-24T11:49:52.139Z"
   },
   {
    "duration": 16,
    "start_time": "2022-03-24T11:49:56.702Z"
   },
   {
    "duration": 24,
    "start_time": "2022-03-24T11:50:27.060Z"
   },
   {
    "duration": 220,
    "start_time": "2022-03-24T11:50:27.449Z"
   },
   {
    "duration": 43,
    "start_time": "2022-03-24T11:50:27.686Z"
   },
   {
    "duration": 32,
    "start_time": "2022-03-24T11:50:27.883Z"
   },
   {
    "duration": 72,
    "start_time": "2022-03-24T11:50:28.067Z"
   },
   {
    "duration": 140,
    "start_time": "2022-03-24T11:50:28.225Z"
   },
   {
    "duration": 2495,
    "start_time": "2022-03-24T11:50:28.404Z"
   },
   {
    "duration": 119,
    "start_time": "2022-03-24T11:50:30.901Z"
   },
   {
    "duration": 217,
    "start_time": "2022-03-24T11:50:31.022Z"
   },
   {
    "duration": 184,
    "start_time": "2022-03-24T11:50:31.241Z"
   },
   {
    "duration": 57,
    "start_time": "2022-03-24T11:50:31.427Z"
   },
   {
    "duration": 31,
    "start_time": "2022-03-24T11:50:31.486Z"
   },
   {
    "duration": 13,
    "start_time": "2022-03-24T11:50:31.539Z"
   },
   {
    "duration": 6,
    "start_time": "2022-03-24T11:50:32.124Z"
   },
   {
    "duration": 582,
    "start_time": "2022-03-24T11:50:32.503Z"
   },
   {
    "duration": 15,
    "start_time": "2022-03-24T11:50:33.088Z"
   },
   {
    "duration": 4,
    "start_time": "2022-03-24T11:50:34.140Z"
   },
   {
    "duration": 531,
    "start_time": "2022-03-24T11:50:34.917Z"
   },
   {
    "duration": 11,
    "start_time": "2022-03-24T11:50:35.450Z"
   },
   {
    "duration": 4,
    "start_time": "2022-03-24T11:50:36.873Z"
   },
   {
    "duration": 12,
    "start_time": "2022-03-24T11:50:40.285Z"
   },
   {
    "duration": 30,
    "start_time": "2022-03-24T11:50:40.759Z"
   },
   {
    "duration": 6,
    "start_time": "2022-03-24T11:50:41.047Z"
   },
   {
    "duration": 233,
    "start_time": "2022-03-24T11:50:42.202Z"
   },
   {
    "duration": 61447,
    "start_time": "2022-03-24T11:50:42.838Z"
   },
   {
    "duration": 3013,
    "start_time": "2022-03-24T11:51:47.786Z"
   },
   {
    "duration": 2126,
    "start_time": "2022-03-24T11:51:52.918Z"
   },
   {
    "duration": 4,
    "start_time": "2022-03-24T11:51:55.865Z"
   },
   {
    "duration": 3,
    "start_time": "2022-03-24T11:51:58.355Z"
   },
   {
    "duration": 2,
    "start_time": "2022-03-24T11:51:59.995Z"
   },
   {
    "duration": 3,
    "start_time": "2022-03-24T11:52:01.433Z"
   },
   {
    "duration": 0,
    "start_time": "2022-03-24T12:01:23.760Z"
   },
   {
    "duration": 4,
    "start_time": "2022-03-24T12:01:48.739Z"
   },
   {
    "duration": 222,
    "start_time": "2022-03-24T12:01:51.345Z"
   },
   {
    "duration": 41,
    "start_time": "2022-03-24T12:01:52.695Z"
   },
   {
    "duration": 28,
    "start_time": "2022-03-24T12:01:53.517Z"
   },
   {
    "duration": 71,
    "start_time": "2022-03-24T12:01:54.219Z"
   },
   {
    "duration": 144,
    "start_time": "2022-03-24T12:01:55.137Z"
   },
   {
    "duration": 2456,
    "start_time": "2022-03-24T12:01:55.838Z"
   },
   {
    "duration": 112,
    "start_time": "2022-03-24T12:01:58.296Z"
   },
   {
    "duration": 212,
    "start_time": "2022-03-24T12:02:02.136Z"
   },
   {
    "duration": 167,
    "start_time": "2022-03-24T12:02:04.334Z"
   },
   {
    "duration": 53,
    "start_time": "2022-03-24T12:02:08.992Z"
   },
   {
    "duration": 29,
    "start_time": "2022-03-24T12:02:10.363Z"
   },
   {
    "duration": 13,
    "start_time": "2022-03-24T12:02:10.868Z"
   },
   {
    "duration": 6,
    "start_time": "2022-03-24T12:02:11.757Z"
   },
   {
    "duration": 551,
    "start_time": "2022-03-24T12:02:13.118Z"
   },
   {
    "duration": 18,
    "start_time": "2022-03-24T12:02:14.691Z"
   },
   {
    "duration": 4,
    "start_time": "2022-03-24T12:02:17.054Z"
   },
   {
    "duration": 493,
    "start_time": "2022-03-24T12:02:18.119Z"
   },
   {
    "duration": 11,
    "start_time": "2022-03-24T12:02:19.603Z"
   },
   {
    "duration": 4,
    "start_time": "2022-03-24T12:02:20.406Z"
   },
   {
    "duration": 13,
    "start_time": "2022-03-24T12:02:22.678Z"
   },
   {
    "duration": 30,
    "start_time": "2022-03-24T12:02:23.279Z"
   },
   {
    "duration": 7,
    "start_time": "2022-03-24T12:02:24.773Z"
   },
   {
    "duration": 223,
    "start_time": "2022-03-24T12:02:26.118Z"
   },
   {
    "duration": 60117,
    "start_time": "2022-03-24T12:02:28.466Z"
   },
   {
    "duration": 2998,
    "start_time": "2022-03-24T12:03:33.882Z"
   },
   {
    "duration": 2067,
    "start_time": "2022-03-24T12:03:39.816Z"
   },
   {
    "duration": 5,
    "start_time": "2022-03-24T12:03:43.462Z"
   },
   {
    "duration": 3,
    "start_time": "2022-03-24T12:03:47.173Z"
   },
   {
    "duration": 4,
    "start_time": "2022-03-24T12:03:48.590Z"
   },
   {
    "duration": 4,
    "start_time": "2022-03-24T12:03:52.440Z"
   },
   {
    "duration": 5842954,
    "start_time": "2022-03-24T12:03:56.861Z"
   },
   {
    "duration": 4,
    "start_time": "2022-03-24T13:41:40.498Z"
   },
   {
    "duration": 4,
    "start_time": "2022-03-24T13:42:25.661Z"
   },
   {
    "duration": 4,
    "start_time": "2022-03-24T13:43:53.752Z"
   },
   {
    "duration": 246043,
    "start_time": "2022-03-24T13:43:58.146Z"
   },
   {
    "duration": 492,
    "start_time": "2022-03-24T13:48:04.191Z"
   },
   {
    "duration": 16,
    "start_time": "2022-03-24T13:48:25.881Z"
   },
   {
    "duration": 457,
    "start_time": "2022-03-24T13:48:58.486Z"
   },
   {
    "duration": 4,
    "start_time": "2022-03-24T13:49:02.300Z"
   },
   {
    "duration": 13,
    "start_time": "2022-03-24T13:49:49.457Z"
   },
   {
    "duration": 7,
    "start_time": "2022-03-24T13:50:11.637Z"
   },
   {
    "duration": 6,
    "start_time": "2022-03-24T13:50:39.336Z"
   },
   {
    "duration": 705,
    "start_time": "2022-03-24T13:50:41.635Z"
   },
   {
    "duration": 736,
    "start_time": "2022-03-24T13:50:59.863Z"
   },
   {
    "duration": 6,
    "start_time": "2022-03-24T13:51:03.699Z"
   },
   {
    "duration": 617,
    "start_time": "2022-03-24T13:51:05.142Z"
   },
   {
    "duration": 7,
    "start_time": "2022-03-24T13:51:14.002Z"
   },
   {
    "duration": 12,
    "start_time": "2022-03-24T13:51:18.070Z"
   },
   {
    "duration": 11,
    "start_time": "2022-03-24T13:51:23.387Z"
   },
   {
    "duration": 6,
    "start_time": "2022-03-24T13:51:27.983Z"
   },
   {
    "duration": 473,
    "start_time": "2022-03-24T13:57:12.999Z"
   },
   {
    "duration": 12,
    "start_time": "2022-03-24T13:57:21.772Z"
   },
   {
    "duration": 9,
    "start_time": "2022-03-24T13:57:32.289Z"
   },
   {
    "duration": 5,
    "start_time": "2022-03-24T13:57:36.355Z"
   },
   {
    "duration": 730,
    "start_time": "2022-03-24T13:57:40.685Z"
   },
   {
    "duration": 6,
    "start_time": "2022-03-24T13:57:49.222Z"
   },
   {
    "duration": 652,
    "start_time": "2022-03-24T13:57:50.782Z"
   },
   {
    "duration": 6,
    "start_time": "2022-03-24T13:58:07.085Z"
   },
   {
    "duration": 13,
    "start_time": "2022-03-24T13:58:08.780Z"
   },
   {
    "duration": 12,
    "start_time": "2022-03-24T14:01:26.815Z"
   },
   {
    "duration": 6,
    "start_time": "2022-03-24T14:01:32.313Z"
   },
   {
    "duration": 15,
    "start_time": "2022-03-24T14:08:45.689Z"
   },
   {
    "duration": 174,
    "start_time": "2022-03-24T14:09:33.836Z"
   },
   {
    "duration": 29,
    "start_time": "2022-03-24T14:16:59.069Z"
   },
   {
    "duration": 25,
    "start_time": "2022-03-24T14:17:33.877Z"
   },
   {
    "duration": 136,
    "start_time": "2022-03-24T14:21:36.233Z"
   },
   {
    "duration": 88,
    "start_time": "2022-03-24T14:21:41.697Z"
   },
   {
    "duration": 126,
    "start_time": "2022-03-24T14:21:53.824Z"
   },
   {
    "duration": 117,
    "start_time": "2022-03-24T14:22:08.693Z"
   },
   {
    "duration": 13,
    "start_time": "2022-03-24T14:22:51.407Z"
   },
   {
    "duration": 15,
    "start_time": "2022-03-24T14:31:11.859Z"
   },
   {
    "duration": 24,
    "start_time": "2022-03-24T14:31:21.234Z"
   },
   {
    "duration": 2690,
    "start_time": "2022-03-25T05:29:18.651Z"
   },
   {
    "duration": 3097,
    "start_time": "2022-03-25T05:29:21.342Z"
   },
   {
    "duration": 997,
    "start_time": "2022-03-25T05:29:24.441Z"
   },
   {
    "duration": 29,
    "start_time": "2022-03-25T05:29:25.440Z"
   },
   {
    "duration": 108,
    "start_time": "2022-03-25T05:29:25.470Z"
   },
   {
    "duration": 171,
    "start_time": "2022-03-25T05:29:25.580Z"
   },
   {
    "duration": 2745,
    "start_time": "2022-03-25T05:29:25.752Z"
   },
   {
    "duration": 114,
    "start_time": "2022-03-25T05:29:28.499Z"
   },
   {
    "duration": 218,
    "start_time": "2022-03-25T05:29:28.615Z"
   },
   {
    "duration": 188,
    "start_time": "2022-03-25T05:29:28.836Z"
   },
   {
    "duration": 85,
    "start_time": "2022-03-25T05:29:29.026Z"
   },
   {
    "duration": 36,
    "start_time": "2022-03-25T05:29:29.112Z"
   },
   {
    "duration": 48,
    "start_time": "2022-03-25T05:29:33.503Z"
   },
   {
    "duration": 5,
    "start_time": "2022-03-25T05:30:09.546Z"
   },
   {
    "duration": 5,
    "start_time": "2022-03-25T05:30:24.603Z"
   },
   {
    "duration": 108,
    "start_time": "2022-03-25T05:30:32.774Z"
   },
   {
    "duration": 6,
    "start_time": "2022-03-25T05:30:49.610Z"
   },
   {
    "duration": 11,
    "start_time": "2022-03-25T05:31:00.212Z"
   },
   {
    "duration": 6,
    "start_time": "2022-03-25T05:31:00.749Z"
   },
   {
    "duration": 570,
    "start_time": "2022-03-25T05:31:01.261Z"
   },
   {
    "duration": 15,
    "start_time": "2022-03-25T05:31:01.836Z"
   },
   {
    "duration": 3,
    "start_time": "2022-03-25T05:31:03.228Z"
   },
   {
    "duration": 527,
    "start_time": "2022-03-25T05:31:04.144Z"
   },
   {
    "duration": 9,
    "start_time": "2022-03-25T05:31:04.761Z"
   },
   {
    "duration": 4,
    "start_time": "2022-03-25T05:31:09.753Z"
   },
   {
    "duration": 7,
    "start_time": "2022-03-25T05:31:15.147Z"
   },
   {
    "duration": 5,
    "start_time": "2022-03-25T07:42:36.432Z"
   },
   {
    "duration": 473,
    "start_time": "2022-03-25T07:42:36.439Z"
   },
   {
    "duration": 98,
    "start_time": "2022-03-25T07:42:36.915Z"
   },
   {
    "duration": 84,
    "start_time": "2022-03-25T07:42:37.015Z"
   },
   {
    "duration": 191,
    "start_time": "2022-03-25T07:42:37.102Z"
   },
   {
    "duration": 302,
    "start_time": "2022-03-25T07:42:37.294Z"
   },
   {
    "duration": 6025,
    "start_time": "2022-03-25T07:42:37.598Z"
   },
   {
    "duration": 236,
    "start_time": "2022-03-25T07:42:43.681Z"
   },
   {
    "duration": 772,
    "start_time": "2022-03-25T07:42:43.919Z"
   },
   {
    "duration": 431,
    "start_time": "2022-03-25T07:42:44.693Z"
   },
   {
    "duration": 133,
    "start_time": "2022-03-25T07:42:45.180Z"
   },
   {
    "duration": 109,
    "start_time": "2022-03-25T07:42:45.314Z"
   },
   {
    "duration": 68,
    "start_time": "2022-03-25T07:42:45.425Z"
   },
   {
    "duration": 7,
    "start_time": "2022-03-25T07:42:45.495Z"
   },
   {
    "duration": 1305,
    "start_time": "2022-03-25T07:42:45.504Z"
   },
   {
    "duration": 77,
    "start_time": "2022-03-25T07:42:46.811Z"
   },
   {
    "duration": 4,
    "start_time": "2022-03-25T07:42:46.889Z"
   },
   {
    "duration": 1226,
    "start_time": "2022-03-25T07:42:46.895Z"
   },
   {
    "duration": 59,
    "start_time": "2022-03-25T07:42:48.123Z"
   },
   {
    "duration": 13,
    "start_time": "2022-03-25T07:42:48.184Z"
   },
   {
    "duration": 4,
    "start_time": "2022-03-25T07:43:34.097Z"
   },
   {
    "duration": 1143,
    "start_time": "2022-03-25T07:43:34.649Z"
   },
   {
    "duration": 11,
    "start_time": "2022-03-25T07:43:35.794Z"
   },
   {
    "duration": 18,
    "start_time": "2022-03-25T07:43:35.806Z"
   },
   {
    "duration": 239,
    "start_time": "2022-03-25T07:43:35.880Z"
   },
   {
    "duration": 6,
    "start_time": "2022-03-25T07:48:36.645Z"
   },
   {
    "duration": 1144,
    "start_time": "2022-03-25T07:48:36.653Z"
   },
   {
    "duration": 104,
    "start_time": "2022-03-25T07:48:37.799Z"
   },
   {
    "duration": 88,
    "start_time": "2022-03-25T07:48:37.905Z"
   },
   {
    "duration": 224,
    "start_time": "2022-03-25T07:48:37.996Z"
   },
   {
    "duration": 372,
    "start_time": "2022-03-25T07:48:38.222Z"
   },
   {
    "duration": 5488,
    "start_time": "2022-03-25T07:48:38.596Z"
   },
   {
    "duration": 221,
    "start_time": "2022-03-25T07:48:44.086Z"
   },
   {
    "duration": 479,
    "start_time": "2022-03-25T07:48:44.309Z"
   },
   {
    "duration": 413,
    "start_time": "2022-03-25T07:48:44.790Z"
   },
   {
    "duration": 116,
    "start_time": "2022-03-25T07:48:45.206Z"
   },
   {
    "duration": 98,
    "start_time": "2022-03-25T07:48:45.324Z"
   },
   {
    "duration": 69,
    "start_time": "2022-03-25T07:48:45.424Z"
   },
   {
    "duration": 6,
    "start_time": "2022-03-25T07:48:45.494Z"
   },
   {
    "duration": 1509,
    "start_time": "2022-03-25T07:48:45.501Z"
   },
   {
    "duration": 70,
    "start_time": "2022-03-25T07:48:47.012Z"
   },
   {
    "duration": 5,
    "start_time": "2022-03-25T07:48:47.084Z"
   },
   {
    "duration": 1123,
    "start_time": "2022-03-25T07:48:47.091Z"
   },
   {
    "duration": 67,
    "start_time": "2022-03-25T07:48:48.216Z"
   },
   {
    "duration": 9,
    "start_time": "2022-03-25T07:48:48.284Z"
   },
   {
    "duration": 5,
    "start_time": "2022-03-25T07:50:14.356Z"
   },
   {
    "duration": 513,
    "start_time": "2022-03-25T07:50:14.380Z"
   },
   {
    "duration": 102,
    "start_time": "2022-03-25T07:50:14.896Z"
   },
   {
    "duration": 99,
    "start_time": "2022-03-25T07:50:15.000Z"
   },
   {
    "duration": 187,
    "start_time": "2022-03-25T07:50:15.101Z"
   },
   {
    "duration": 299,
    "start_time": "2022-03-25T07:50:15.290Z"
   },
   {
    "duration": 6609,
    "start_time": "2022-03-25T07:50:15.591Z"
   },
   {
    "duration": 289,
    "start_time": "2022-03-25T07:50:22.202Z"
   },
   {
    "duration": 525,
    "start_time": "2022-03-25T07:50:22.494Z"
   },
   {
    "duration": 376,
    "start_time": "2022-03-25T07:50:23.021Z"
   },
   {
    "duration": 106,
    "start_time": "2022-03-25T07:50:23.399Z"
   },
   {
    "duration": 99,
    "start_time": "2022-03-25T07:50:23.507Z"
   },
   {
    "duration": 12,
    "start_time": "2022-03-25T07:50:23.608Z"
   },
   {
    "duration": 5,
    "start_time": "2022-03-25T07:50:23.682Z"
   },
   {
    "duration": 2014,
    "start_time": "2022-03-25T07:50:23.690Z"
   },
   {
    "duration": 77,
    "start_time": "2022-03-25T07:50:25.706Z"
   },
   {
    "duration": 4,
    "start_time": "2022-03-25T07:50:25.786Z"
   },
   {
    "duration": 1789,
    "start_time": "2022-03-25T07:50:25.792Z"
   },
   {
    "duration": 13,
    "start_time": "2022-03-25T07:50:27.583Z"
   },
   {
    "duration": 14,
    "start_time": "2022-03-25T07:50:27.598Z"
   },
   {
    "duration": 5,
    "start_time": "2022-03-25T07:52:49.345Z"
   },
   {
    "duration": 630,
    "start_time": "2022-03-25T07:52:49.352Z"
   },
   {
    "duration": 101,
    "start_time": "2022-03-25T07:52:49.985Z"
   },
   {
    "duration": 31,
    "start_time": "2022-03-25T07:52:50.087Z"
   },
   {
    "duration": 184,
    "start_time": "2022-03-25T07:52:50.120Z"
   },
   {
    "duration": 292,
    "start_time": "2022-03-25T07:52:50.306Z"
   },
   {
    "duration": 4524,
    "start_time": "2022-03-25T07:52:50.600Z"
   },
   {
    "duration": 235,
    "start_time": "2022-03-25T07:52:55.180Z"
   },
   {
    "duration": 571,
    "start_time": "2022-03-25T07:52:55.417Z"
   },
   {
    "duration": 436,
    "start_time": "2022-03-25T07:52:55.990Z"
   },
   {
    "duration": 105,
    "start_time": "2022-03-25T07:52:56.480Z"
   },
   {
    "duration": 31,
    "start_time": "2022-03-25T07:52:56.587Z"
   },
   {
    "duration": 69,
    "start_time": "2022-03-25T07:52:56.620Z"
   },
   {
    "duration": 5,
    "start_time": "2022-03-25T07:52:56.691Z"
   },
   {
    "duration": 1288,
    "start_time": "2022-03-25T07:52:56.697Z"
   },
   {
    "duration": 15,
    "start_time": "2022-03-25T07:52:57.987Z"
   },
   {
    "duration": 4,
    "start_time": "2022-03-25T07:52:58.004Z"
   },
   {
    "duration": 1271,
    "start_time": "2022-03-25T07:52:58.010Z"
   },
   {
    "duration": 11,
    "start_time": "2022-03-25T07:52:59.289Z"
   },
   {
    "duration": 15,
    "start_time": "2022-03-25T07:52:59.302Z"
   },
   {
    "duration": 5,
    "start_time": "2022-03-25T07:56:32.646Z"
   },
   {
    "duration": 465,
    "start_time": "2022-03-25T07:56:32.653Z"
   },
   {
    "duration": 183,
    "start_time": "2022-03-25T07:56:33.120Z"
   },
   {
    "duration": 111,
    "start_time": "2022-03-25T07:56:33.306Z"
   },
   {
    "duration": 190,
    "start_time": "2022-03-25T07:56:33.420Z"
   },
   {
    "duration": 306,
    "start_time": "2022-03-25T07:56:33.612Z"
   },
   {
    "duration": 4975,
    "start_time": "2022-03-25T07:56:33.920Z"
   },
   {
    "duration": 218,
    "start_time": "2022-03-25T07:56:38.897Z"
   },
   {
    "duration": 487,
    "start_time": "2022-03-25T07:56:39.118Z"
   },
   {
    "duration": 410,
    "start_time": "2022-03-25T07:56:39.607Z"
   },
   {
    "duration": 166,
    "start_time": "2022-03-25T07:56:40.021Z"
   },
   {
    "duration": 106,
    "start_time": "2022-03-25T07:56:40.188Z"
   },
   {
    "duration": 16,
    "start_time": "2022-03-25T07:56:40.296Z"
   },
   {
    "duration": 8,
    "start_time": "2022-03-25T07:56:40.313Z"
   },
   {
    "duration": 1278,
    "start_time": "2022-03-25T07:56:40.323Z"
   },
   {
    "duration": 17,
    "start_time": "2022-03-25T07:56:41.603Z"
   },
   {
    "duration": 221,
    "start_time": "2022-03-25T07:56:41.682Z"
   },
   {
    "duration": 0,
    "start_time": "2022-03-25T07:56:41.905Z"
   },
   {
    "duration": 0,
    "start_time": "2022-03-25T07:56:41.906Z"
   },
   {
    "duration": 0,
    "start_time": "2022-03-25T07:56:41.907Z"
   },
   {
    "duration": 5,
    "start_time": "2022-03-25T07:57:01.397Z"
   },
   {
    "duration": 1146,
    "start_time": "2022-03-25T07:57:02.155Z"
   },
   {
    "duration": 11,
    "start_time": "2022-03-25T07:57:03.303Z"
   },
   {
    "duration": 5,
    "start_time": "2022-03-25T07:57:03.438Z"
   },
   {
    "duration": 3012,
    "start_time": "2022-03-25T08:02:49.796Z"
   },
   {
    "duration": 505,
    "start_time": "2022-03-25T08:02:52.810Z"
   },
   {
    "duration": 100,
    "start_time": "2022-03-25T08:02:53.317Z"
   },
   {
    "duration": 102,
    "start_time": "2022-03-25T08:02:53.420Z"
   },
   {
    "duration": 288,
    "start_time": "2022-03-25T08:02:53.524Z"
   },
   {
    "duration": 374,
    "start_time": "2022-03-25T08:02:53.815Z"
   },
   {
    "duration": 6026,
    "start_time": "2022-03-25T08:02:54.191Z"
   },
   {
    "duration": 379,
    "start_time": "2022-03-25T08:03:00.219Z"
   },
   {
    "duration": 613,
    "start_time": "2022-03-25T08:03:00.600Z"
   },
   {
    "duration": 372,
    "start_time": "2022-03-25T08:03:01.217Z"
   },
   {
    "duration": 112,
    "start_time": "2022-03-25T08:03:01.590Z"
   },
   {
    "duration": 87,
    "start_time": "2022-03-25T08:03:01.705Z"
   },
   {
    "duration": 13,
    "start_time": "2022-03-25T08:03:01.794Z"
   },
   {
    "duration": 6,
    "start_time": "2022-03-25T08:03:01.808Z"
   },
   {
    "duration": 1309,
    "start_time": "2022-03-25T08:03:01.815Z"
   },
   {
    "duration": 22,
    "start_time": "2022-03-25T08:03:03.182Z"
   },
   {
    "duration": 5,
    "start_time": "2022-03-25T08:03:03.206Z"
   },
   {
    "duration": 1896,
    "start_time": "2022-03-25T08:03:03.213Z"
   },
   {
    "duration": 70,
    "start_time": "2022-03-25T08:03:05.111Z"
   },
   {
    "duration": 5,
    "start_time": "2022-03-25T08:03:05.183Z"
   },
   {
    "duration": 21,
    "start_time": "2022-03-25T08:03:05.189Z"
   },
   {
    "duration": 108,
    "start_time": "2022-03-25T08:03:05.212Z"
   },
   {
    "duration": 65,
    "start_time": "2022-03-25T08:03:05.322Z"
   },
   {
    "duration": 792,
    "start_time": "2022-03-25T08:03:05.389Z"
   },
   {
    "duration": 172237,
    "start_time": "2022-03-25T08:03:06.183Z"
   },
   {
    "duration": 9996,
    "start_time": "2022-03-25T08:05:58.422Z"
   },
   {
    "duration": 3,
    "start_time": "2022-03-25T08:06:08.420Z"
   },
   {
    "duration": 4,
    "start_time": "2022-03-25T08:06:08.483Z"
   },
   {
    "duration": 12,
    "start_time": "2022-03-25T08:06:08.488Z"
   },
   {
    "duration": 8,
    "start_time": "2022-03-25T08:06:08.502Z"
   },
   {
    "duration": 7,
    "start_time": "2022-03-25T08:06:08.512Z"
   },
   {
    "duration": 6,
    "start_time": "2022-03-25T08:06:08.521Z"
   },
   {
    "duration": 52,
    "start_time": "2022-03-25T08:06:08.529Z"
   },
   {
    "duration": 398,
    "start_time": "2022-03-25T08:06:08.583Z"
   },
   {
    "duration": 0,
    "start_time": "2022-03-25T08:06:08.983Z"
   },
   {
    "duration": 0,
    "start_time": "2022-03-25T08:06:08.984Z"
   },
   {
    "duration": 0,
    "start_time": "2022-03-25T08:06:08.985Z"
   },
   {
    "duration": 0,
    "start_time": "2022-03-25T08:06:08.987Z"
   },
   {
    "duration": 0,
    "start_time": "2022-03-25T08:06:08.988Z"
   },
   {
    "duration": 0,
    "start_time": "2022-03-25T08:06:08.989Z"
   },
   {
    "duration": 0,
    "start_time": "2022-03-25T08:06:08.990Z"
   },
   {
    "duration": 0,
    "start_time": "2022-03-25T08:06:08.991Z"
   },
   {
    "duration": 0,
    "start_time": "2022-03-25T08:06:08.993Z"
   },
   {
    "duration": 0,
    "start_time": "2022-03-25T08:06:08.994Z"
   },
   {
    "duration": 0,
    "start_time": "2022-03-25T08:06:08.995Z"
   },
   {
    "duration": 0,
    "start_time": "2022-03-25T08:06:08.996Z"
   },
   {
    "duration": 0,
    "start_time": "2022-03-25T08:06:08.997Z"
   },
   {
    "duration": 0,
    "start_time": "2022-03-25T08:06:08.999Z"
   },
   {
    "duration": 0,
    "start_time": "2022-03-25T08:06:09.001Z"
   },
   {
    "duration": 0,
    "start_time": "2022-03-25T08:06:09.002Z"
   },
   {
    "duration": 0,
    "start_time": "2022-03-25T08:06:09.003Z"
   },
   {
    "duration": 0,
    "start_time": "2022-03-25T08:06:09.004Z"
   },
   {
    "duration": 14,
    "start_time": "2022-03-25T08:11:47.170Z"
   },
   {
    "duration": 0,
    "start_time": "2022-03-25T08:11:47.186Z"
   },
   {
    "duration": 0,
    "start_time": "2022-03-25T08:11:47.187Z"
   },
   {
    "duration": 0,
    "start_time": "2022-03-25T08:11:47.188Z"
   },
   {
    "duration": 9,
    "start_time": "2022-03-25T08:11:47.191Z"
   },
   {
    "duration": 0,
    "start_time": "2022-03-25T08:11:47.201Z"
   },
   {
    "duration": 1,
    "start_time": "2022-03-25T08:11:47.202Z"
   },
   {
    "duration": 78,
    "start_time": "2022-03-25T08:11:47.205Z"
   },
   {
    "duration": 3138,
    "start_time": "2022-03-25T08:11:47.285Z"
   },
   {
    "duration": 0,
    "start_time": "2022-03-25T08:11:50.426Z"
   },
   {
    "duration": 0,
    "start_time": "2022-03-25T08:11:50.427Z"
   },
   {
    "duration": 0,
    "start_time": "2022-03-25T08:11:50.428Z"
   },
   {
    "duration": 0,
    "start_time": "2022-03-25T08:11:50.430Z"
   },
   {
    "duration": 0,
    "start_time": "2022-03-25T08:11:50.431Z"
   },
   {
    "duration": 0,
    "start_time": "2022-03-25T08:11:50.432Z"
   },
   {
    "duration": 0,
    "start_time": "2022-03-25T08:11:50.433Z"
   },
   {
    "duration": 0,
    "start_time": "2022-03-25T08:11:50.434Z"
   },
   {
    "duration": 0,
    "start_time": "2022-03-25T08:11:50.435Z"
   },
   {
    "duration": 0,
    "start_time": "2022-03-25T08:11:50.436Z"
   },
   {
    "duration": 10,
    "start_time": "2022-03-25T08:14:22.851Z"
   },
   {
    "duration": 3526,
    "start_time": "2022-03-25T08:14:39.862Z"
   },
   {
    "duration": 531,
    "start_time": "2022-03-25T08:14:43.390Z"
   },
   {
    "duration": 98,
    "start_time": "2022-03-25T08:14:43.923Z"
   },
   {
    "duration": 84,
    "start_time": "2022-03-25T08:14:44.024Z"
   },
   {
    "duration": 211,
    "start_time": "2022-03-25T08:14:44.109Z"
   },
   {
    "duration": 288,
    "start_time": "2022-03-25T08:14:44.322Z"
   },
   {
    "duration": 5113,
    "start_time": "2022-03-25T08:14:44.612Z"
   },
   {
    "duration": 219,
    "start_time": "2022-03-25T08:14:49.781Z"
   },
   {
    "duration": 414,
    "start_time": "2022-03-25T08:14:50.002Z"
   },
   {
    "duration": 400,
    "start_time": "2022-03-25T08:14:50.419Z"
   },
   {
    "duration": 163,
    "start_time": "2022-03-25T08:14:50.821Z"
   },
   {
    "duration": 35,
    "start_time": "2022-03-25T08:14:50.986Z"
   },
   {
    "duration": 76,
    "start_time": "2022-03-25T08:14:51.022Z"
   },
   {
    "duration": 8,
    "start_time": "2022-03-25T08:14:51.100Z"
   },
   {
    "duration": 2173,
    "start_time": "2022-03-25T08:14:51.110Z"
   },
   {
    "duration": 16,
    "start_time": "2022-03-25T08:14:53.284Z"
   },
   {
    "duration": 4,
    "start_time": "2022-03-25T08:14:53.302Z"
   },
   {
    "duration": 1284,
    "start_time": "2022-03-25T08:14:53.307Z"
   },
   {
    "duration": 12,
    "start_time": "2022-03-25T08:14:54.593Z"
   },
   {
    "duration": 11,
    "start_time": "2022-03-25T08:14:54.607Z"
   },
   {
    "duration": 84,
    "start_time": "2022-03-25T08:14:54.620Z"
   },
   {
    "duration": 90,
    "start_time": "2022-03-25T08:14:54.705Z"
   },
   {
    "duration": 5,
    "start_time": "2022-03-25T08:14:54.797Z"
   },
   {
    "duration": 520,
    "start_time": "2022-03-25T08:14:54.804Z"
   },
   {
    "duration": 171882,
    "start_time": "2022-03-25T08:14:55.326Z"
   },
   {
    "duration": 6108,
    "start_time": "2022-03-25T08:17:47.210Z"
   },
   {
    "duration": 2,
    "start_time": "2022-03-25T08:17:53.320Z"
   },
   {
    "duration": 3,
    "start_time": "2022-03-25T08:17:53.380Z"
   },
   {
    "duration": 6,
    "start_time": "2022-03-25T08:17:53.385Z"
   },
   {
    "duration": 5,
    "start_time": "2022-03-25T08:17:53.393Z"
   },
   {
    "duration": 5,
    "start_time": "2022-03-25T08:17:53.400Z"
   },
   {
    "duration": 7,
    "start_time": "2022-03-25T08:17:53.406Z"
   },
   {
    "duration": 7,
    "start_time": "2022-03-25T08:17:53.415Z"
   },
   {
    "duration": 268,
    "start_time": "2022-03-25T08:17:53.424Z"
   },
   {
    "duration": 0,
    "start_time": "2022-03-25T08:17:53.694Z"
   },
   {
    "duration": 0,
    "start_time": "2022-03-25T08:17:53.694Z"
   },
   {
    "duration": 0,
    "start_time": "2022-03-25T08:17:53.695Z"
   },
   {
    "duration": 0,
    "start_time": "2022-03-25T08:17:53.697Z"
   },
   {
    "duration": 0,
    "start_time": "2022-03-25T08:17:53.698Z"
   },
   {
    "duration": 0,
    "start_time": "2022-03-25T08:17:53.699Z"
   },
   {
    "duration": 0,
    "start_time": "2022-03-25T08:17:53.700Z"
   },
   {
    "duration": 0,
    "start_time": "2022-03-25T08:17:53.701Z"
   },
   {
    "duration": 0,
    "start_time": "2022-03-25T08:17:53.702Z"
   },
   {
    "duration": 0,
    "start_time": "2022-03-25T08:17:53.703Z"
   },
   {
    "duration": 0,
    "start_time": "2022-03-25T08:17:53.704Z"
   },
   {
    "duration": 0,
    "start_time": "2022-03-25T08:17:53.705Z"
   },
   {
    "duration": 0,
    "start_time": "2022-03-25T08:17:53.706Z"
   },
   {
    "duration": 0,
    "start_time": "2022-03-25T08:17:53.707Z"
   },
   {
    "duration": 0,
    "start_time": "2022-03-25T08:17:53.710Z"
   },
   {
    "duration": 0,
    "start_time": "2022-03-25T08:17:53.711Z"
   },
   {
    "duration": 0,
    "start_time": "2022-03-25T08:17:53.712Z"
   },
   {
    "duration": 0,
    "start_time": "2022-03-25T08:17:53.781Z"
   },
   {
    "duration": 43,
    "start_time": "2022-03-25T08:20:08.841Z"
   },
   {
    "duration": 0,
    "start_time": "2022-03-25T08:20:08.887Z"
   },
   {
    "duration": 0,
    "start_time": "2022-03-25T08:20:08.889Z"
   },
   {
    "duration": 0,
    "start_time": "2022-03-25T08:20:08.891Z"
   },
   {
    "duration": 0,
    "start_time": "2022-03-25T08:20:08.892Z"
   },
   {
    "duration": 0,
    "start_time": "2022-03-25T08:20:08.893Z"
   },
   {
    "duration": 0,
    "start_time": "2022-03-25T08:20:08.894Z"
   },
   {
    "duration": 0,
    "start_time": "2022-03-25T08:20:08.895Z"
   },
   {
    "duration": 0,
    "start_time": "2022-03-25T08:20:08.896Z"
   },
   {
    "duration": 0,
    "start_time": "2022-03-25T08:20:08.898Z"
   },
   {
    "duration": 0,
    "start_time": "2022-03-25T08:20:08.898Z"
   },
   {
    "duration": 0,
    "start_time": "2022-03-25T08:20:08.900Z"
   },
   {
    "duration": 0,
    "start_time": "2022-03-25T08:20:08.901Z"
   },
   {
    "duration": 0,
    "start_time": "2022-03-25T08:20:08.902Z"
   },
   {
    "duration": 0,
    "start_time": "2022-03-25T08:20:08.902Z"
   },
   {
    "duration": 0,
    "start_time": "2022-03-25T08:20:08.904Z"
   },
   {
    "duration": 0,
    "start_time": "2022-03-25T08:20:08.905Z"
   },
   {
    "duration": 0,
    "start_time": "2022-03-25T08:20:08.906Z"
   },
   {
    "duration": 0,
    "start_time": "2022-03-25T08:20:08.908Z"
   },
   {
    "duration": 17,
    "start_time": "2022-03-25T08:20:34.965Z"
   },
   {
    "duration": 0,
    "start_time": "2022-03-25T08:20:34.984Z"
   },
   {
    "duration": 0,
    "start_time": "2022-03-25T08:20:34.986Z"
   },
   {
    "duration": 0,
    "start_time": "2022-03-25T08:20:34.988Z"
   },
   {
    "duration": 0,
    "start_time": "2022-03-25T08:20:34.989Z"
   },
   {
    "duration": 9,
    "start_time": "2022-03-25T08:20:34.991Z"
   },
   {
    "duration": 4789,
    "start_time": "2022-03-25T08:20:35.015Z"
   },
   {
    "duration": 0,
    "start_time": "2022-03-25T08:20:39.806Z"
   },
   {
    "duration": 0,
    "start_time": "2022-03-25T08:20:39.807Z"
   },
   {
    "duration": 0,
    "start_time": "2022-03-25T08:20:39.809Z"
   },
   {
    "duration": 0,
    "start_time": "2022-03-25T08:20:39.810Z"
   },
   {
    "duration": 0,
    "start_time": "2022-03-25T08:20:39.811Z"
   },
   {
    "duration": 0,
    "start_time": "2022-03-25T08:20:39.812Z"
   },
   {
    "duration": 0,
    "start_time": "2022-03-25T08:20:39.813Z"
   },
   {
    "duration": 0,
    "start_time": "2022-03-25T08:20:39.815Z"
   },
   {
    "duration": 0,
    "start_time": "2022-03-25T08:20:39.816Z"
   },
   {
    "duration": 0,
    "start_time": "2022-03-25T08:20:39.817Z"
   },
   {
    "duration": 0,
    "start_time": "2022-03-25T08:20:39.818Z"
   },
   {
    "duration": 0,
    "start_time": "2022-03-25T08:20:39.820Z"
   },
   {
    "duration": 6333,
    "start_time": "2022-03-25T08:20:45.108Z"
   },
   {
    "duration": 0,
    "start_time": "2022-03-25T08:20:51.444Z"
   },
   {
    "duration": 0,
    "start_time": "2022-03-25T08:20:51.445Z"
   },
   {
    "duration": 0,
    "start_time": "2022-03-25T08:20:51.446Z"
   },
   {
    "duration": 0,
    "start_time": "2022-03-25T08:20:51.447Z"
   },
   {
    "duration": 0,
    "start_time": "2022-03-25T08:20:51.449Z"
   },
   {
    "duration": 0,
    "start_time": "2022-03-25T08:20:51.450Z"
   },
   {
    "duration": 0,
    "start_time": "2022-03-25T08:20:51.450Z"
   },
   {
    "duration": 0,
    "start_time": "2022-03-25T08:20:51.481Z"
   },
   {
    "duration": 0,
    "start_time": "2022-03-25T08:20:51.483Z"
   },
   {
    "duration": 0,
    "start_time": "2022-03-25T08:20:51.484Z"
   },
   {
    "duration": 0,
    "start_time": "2022-03-25T08:20:51.485Z"
   },
   {
    "duration": 0,
    "start_time": "2022-03-25T08:20:51.486Z"
   },
   {
    "duration": 10,
    "start_time": "2022-03-25T08:21:12.427Z"
   },
   {
    "duration": 0,
    "start_time": "2022-03-25T08:21:12.439Z"
   },
   {
    "duration": 1,
    "start_time": "2022-03-25T08:21:12.440Z"
   },
   {
    "duration": 0,
    "start_time": "2022-03-25T08:21:12.442Z"
   },
   {
    "duration": 38,
    "start_time": "2022-03-25T08:21:12.444Z"
   },
   {
    "duration": 10,
    "start_time": "2022-03-25T08:21:12.486Z"
   },
   {
    "duration": 0,
    "start_time": "2022-03-25T08:21:12.498Z"
   },
   {
    "duration": 0,
    "start_time": "2022-03-25T08:21:12.500Z"
   },
   {
    "duration": 0,
    "start_time": "2022-03-25T08:21:12.501Z"
   },
   {
    "duration": 0,
    "start_time": "2022-03-25T08:21:12.503Z"
   },
   {
    "duration": 0,
    "start_time": "2022-03-25T08:21:12.504Z"
   },
   {
    "duration": 0,
    "start_time": "2022-03-25T08:21:12.505Z"
   },
   {
    "duration": 0,
    "start_time": "2022-03-25T08:21:12.507Z"
   },
   {
    "duration": 0,
    "start_time": "2022-03-25T08:21:12.508Z"
   },
   {
    "duration": 0,
    "start_time": "2022-03-25T08:21:12.581Z"
   },
   {
    "duration": 0,
    "start_time": "2022-03-25T08:21:12.583Z"
   },
   {
    "duration": 96,
    "start_time": "2022-03-25T08:21:12.587Z"
   },
   {
    "duration": 15,
    "start_time": "2022-03-25T08:21:12.685Z"
   },
   {
    "duration": 89,
    "start_time": "2022-03-25T08:21:12.701Z"
   },
   {
    "duration": 5,
    "start_time": "2022-03-25T08:21:33.359Z"
   },
   {
    "duration": 14,
    "start_time": "2022-03-25T08:22:11.301Z"
   },
   {
    "duration": 47,
    "start_time": "2022-03-25T08:22:24.253Z"
   },
   {
    "duration": 39,
    "start_time": "2022-03-25T08:22:42.581Z"
   },
   {
    "duration": 4,
    "start_time": "2022-03-25T08:23:29.952Z"
   },
   {
    "duration": 455,
    "start_time": "2022-03-25T08:23:29.959Z"
   },
   {
    "duration": 94,
    "start_time": "2022-03-25T08:23:30.416Z"
   },
   {
    "duration": 87,
    "start_time": "2022-03-25T08:23:30.511Z"
   },
   {
    "duration": 195,
    "start_time": "2022-03-25T08:23:30.600Z"
   },
   {
    "duration": 300,
    "start_time": "2022-03-25T08:23:30.797Z"
   },
   {
    "duration": 4721,
    "start_time": "2022-03-25T08:23:31.099Z"
   },
   {
    "duration": 462,
    "start_time": "2022-03-25T08:23:35.821Z"
   },
   {
    "duration": 401,
    "start_time": "2022-03-25T08:23:36.284Z"
   },
   {
    "duration": 320,
    "start_time": "2022-03-25T08:23:36.687Z"
   },
   {
    "duration": 108,
    "start_time": "2022-03-25T08:23:37.011Z"
   },
   {
    "duration": 90,
    "start_time": "2022-03-25T08:23:37.121Z"
   },
   {
    "duration": 72,
    "start_time": "2022-03-25T08:23:37.214Z"
   },
   {
    "duration": 5,
    "start_time": "2022-03-25T08:23:37.289Z"
   },
   {
    "duration": 1293,
    "start_time": "2022-03-25T08:23:37.297Z"
   },
   {
    "duration": 17,
    "start_time": "2022-03-25T08:23:38.592Z"
   },
   {
    "duration": 5,
    "start_time": "2022-03-25T08:23:38.611Z"
   },
   {
    "duration": 1199,
    "start_time": "2022-03-25T08:23:38.618Z"
   },
   {
    "duration": 62,
    "start_time": "2022-03-25T08:23:39.819Z"
   },
   {
    "duration": 4,
    "start_time": "2022-03-25T08:23:39.883Z"
   },
   {
    "duration": 19,
    "start_time": "2022-03-25T08:23:39.888Z"
   },
   {
    "duration": 77,
    "start_time": "2022-03-25T08:23:39.909Z"
   },
   {
    "duration": 6,
    "start_time": "2022-03-25T08:23:39.988Z"
   },
   {
    "duration": 46,
    "start_time": "2022-03-25T08:23:49.467Z"
   },
   {
    "duration": 10,
    "start_time": "2022-03-25T08:24:11.718Z"
   },
   {
    "duration": 5,
    "start_time": "2022-03-25T08:24:17.759Z"
   },
   {
    "duration": 604,
    "start_time": "2022-03-25T08:24:32.500Z"
   },
   {
    "duration": 4,
    "start_time": "2022-03-25T08:24:40.311Z"
   },
   {
    "duration": 12,
    "start_time": "2022-03-25T08:24:45.732Z"
   },
   {
    "duration": 4990,
    "start_time": "2022-03-25T08:24:57.108Z"
   },
   {
    "duration": 2751,
    "start_time": "2022-03-25T08:29:41.765Z"
   },
   {
    "duration": 489,
    "start_time": "2022-03-25T08:29:44.519Z"
   },
   {
    "duration": 98,
    "start_time": "2022-03-25T08:29:45.009Z"
   },
   {
    "duration": 86,
    "start_time": "2022-03-25T08:29:45.110Z"
   },
   {
    "duration": 189,
    "start_time": "2022-03-25T08:29:45.198Z"
   },
   {
    "duration": 293,
    "start_time": "2022-03-25T08:29:45.389Z"
   },
   {
    "duration": 6000,
    "start_time": "2022-03-25T08:29:45.684Z"
   },
   {
    "duration": 494,
    "start_time": "2022-03-25T08:29:51.687Z"
   },
   {
    "duration": 400,
    "start_time": "2022-03-25T08:29:52.183Z"
   },
   {
    "duration": 312,
    "start_time": "2022-03-25T08:29:52.586Z"
   },
   {
    "duration": 104,
    "start_time": "2022-03-25T08:29:52.899Z"
   },
   {
    "duration": 83,
    "start_time": "2022-03-25T08:29:53.006Z"
   },
   {
    "duration": 18,
    "start_time": "2022-03-25T08:29:53.090Z"
   },
   {
    "duration": 6,
    "start_time": "2022-03-25T08:29:53.110Z"
   },
   {
    "duration": 1196,
    "start_time": "2022-03-25T08:29:53.118Z"
   },
   {
    "duration": 75,
    "start_time": "2022-03-25T08:29:54.316Z"
   },
   {
    "duration": 3,
    "start_time": "2022-03-25T08:29:54.393Z"
   },
   {
    "duration": 1088,
    "start_time": "2022-03-25T08:29:54.397Z"
   },
   {
    "duration": 10,
    "start_time": "2022-03-25T08:29:55.487Z"
   },
   {
    "duration": 21,
    "start_time": "2022-03-25T08:29:55.498Z"
   },
   {
    "duration": 73,
    "start_time": "2022-03-25T08:29:55.521Z"
   },
   {
    "duration": 104,
    "start_time": "2022-03-25T08:29:55.596Z"
   },
   {
    "duration": 7,
    "start_time": "2022-03-25T08:29:55.702Z"
   },
   {
    "duration": 9,
    "start_time": "2022-03-25T08:29:55.711Z"
   },
   {
    "duration": 561,
    "start_time": "2022-03-25T08:29:55.722Z"
   },
   {
    "duration": 124623,
    "start_time": "2022-03-25T08:29:56.285Z"
   },
   {
    "duration": 6574,
    "start_time": "2022-03-25T08:32:00.909Z"
   },
   {
    "duration": 2,
    "start_time": "2022-03-25T08:32:07.488Z"
   },
   {
    "duration": 6,
    "start_time": "2022-03-25T08:32:07.491Z"
   },
   {
    "duration": 9,
    "start_time": "2022-03-25T08:32:07.498Z"
   },
   {
    "duration": 6,
    "start_time": "2022-03-25T08:32:07.509Z"
   },
   {
    "duration": 6,
    "start_time": "2022-03-25T08:32:07.516Z"
   },
   {
    "duration": 57,
    "start_time": "2022-03-25T08:32:07.524Z"
   },
   {
    "duration": 2,
    "start_time": "2022-03-25T08:32:07.583Z"
   },
   {
    "duration": 222,
    "start_time": "2022-03-25T08:32:07.587Z"
   },
   {
    "duration": 0,
    "start_time": "2022-03-25T08:32:07.811Z"
   },
   {
    "duration": 0,
    "start_time": "2022-03-25T08:32:07.812Z"
   },
   {
    "duration": 0,
    "start_time": "2022-03-25T08:32:07.813Z"
   },
   {
    "duration": 0,
    "start_time": "2022-03-25T08:32:07.814Z"
   },
   {
    "duration": 0,
    "start_time": "2022-03-25T08:32:07.815Z"
   },
   {
    "duration": 0,
    "start_time": "2022-03-25T08:32:07.816Z"
   },
   {
    "duration": 0,
    "start_time": "2022-03-25T08:32:07.817Z"
   },
   {
    "duration": 0,
    "start_time": "2022-03-25T08:32:07.818Z"
   },
   {
    "duration": 0,
    "start_time": "2022-03-25T08:32:07.819Z"
   },
   {
    "duration": 0,
    "start_time": "2022-03-25T08:32:07.821Z"
   },
   {
    "duration": 0,
    "start_time": "2022-03-25T08:32:07.822Z"
   },
   {
    "duration": 0,
    "start_time": "2022-03-25T08:32:07.823Z"
   },
   {
    "duration": 0,
    "start_time": "2022-03-25T08:32:07.824Z"
   },
   {
    "duration": 0,
    "start_time": "2022-03-25T08:32:07.881Z"
   },
   {
    "duration": 0,
    "start_time": "2022-03-25T08:32:07.883Z"
   },
   {
    "duration": 0,
    "start_time": "2022-03-25T08:32:07.884Z"
   },
   {
    "duration": 0,
    "start_time": "2022-03-25T08:32:07.885Z"
   },
   {
    "duration": 0,
    "start_time": "2022-03-25T08:32:07.886Z"
   },
   {
    "duration": 3043,
    "start_time": "2022-03-25T08:40:43.442Z"
   },
   {
    "duration": 513,
    "start_time": "2022-03-25T08:40:46.487Z"
   },
   {
    "duration": 95,
    "start_time": "2022-03-25T08:40:47.002Z"
   },
   {
    "duration": 83,
    "start_time": "2022-03-25T08:40:47.099Z"
   },
   {
    "duration": 133,
    "start_time": "2022-03-25T08:40:47.184Z"
   },
   {
    "duration": 464,
    "start_time": "2022-03-25T08:40:47.318Z"
   },
   {
    "duration": 6406,
    "start_time": "2022-03-25T08:40:47.784Z"
   },
   {
    "duration": 210,
    "start_time": "2022-03-25T08:40:54.192Z"
   },
   {
    "duration": 386,
    "start_time": "2022-03-25T08:40:54.404Z"
   },
   {
    "duration": 431,
    "start_time": "2022-03-25T08:40:54.792Z"
   },
   {
    "duration": 105,
    "start_time": "2022-03-25T08:40:55.280Z"
   },
   {
    "duration": 29,
    "start_time": "2022-03-25T08:40:55.387Z"
   },
   {
    "duration": 74,
    "start_time": "2022-03-25T08:40:55.418Z"
   },
   {
    "duration": 5,
    "start_time": "2022-03-25T08:40:55.495Z"
   },
   {
    "duration": 1880,
    "start_time": "2022-03-25T08:40:55.502Z"
   },
   {
    "duration": 21,
    "start_time": "2022-03-25T08:40:57.384Z"
   },
   {
    "duration": 4,
    "start_time": "2022-03-25T08:40:57.407Z"
   },
   {
    "duration": 1774,
    "start_time": "2022-03-25T08:40:57.413Z"
   },
   {
    "duration": 13,
    "start_time": "2022-03-25T08:40:59.189Z"
   },
   {
    "duration": 6,
    "start_time": "2022-03-25T08:40:59.204Z"
   },
   {
    "duration": 94,
    "start_time": "2022-03-25T08:40:59.211Z"
   },
   {
    "duration": 86,
    "start_time": "2022-03-25T08:40:59.307Z"
   },
   {
    "duration": 7,
    "start_time": "2022-03-25T08:40:59.395Z"
   },
   {
    "duration": 497,
    "start_time": "2022-03-25T08:40:59.404Z"
   },
   {
    "duration": 3174,
    "start_time": "2022-03-25T08:54:18.824Z"
   },
   {
    "duration": 682,
    "start_time": "2022-03-25T08:54:22.000Z"
   },
   {
    "duration": 39,
    "start_time": "2022-03-25T08:54:22.684Z"
   },
   {
    "duration": 28,
    "start_time": "2022-03-25T08:54:22.781Z"
   },
   {
    "duration": 186,
    "start_time": "2022-03-25T08:54:22.810Z"
   },
   {
    "duration": 300,
    "start_time": "2022-03-25T08:54:22.998Z"
   },
   {
    "duration": 5196,
    "start_time": "2022-03-25T08:54:23.300Z"
   },
   {
    "duration": 207,
    "start_time": "2022-03-25T08:54:28.497Z"
   },
   {
    "duration": 387,
    "start_time": "2022-03-25T08:54:28.706Z"
   },
   {
    "duration": 304,
    "start_time": "2022-03-25T08:54:29.096Z"
   },
   {
    "duration": 100,
    "start_time": "2022-03-25T08:54:29.402Z"
   },
   {
    "duration": 87,
    "start_time": "2022-03-25T08:54:29.503Z"
   },
   {
    "duration": 18,
    "start_time": "2022-03-25T08:54:29.591Z"
   },
   {
    "duration": 7,
    "start_time": "2022-03-25T08:54:29.612Z"
   },
   {
    "duration": 1398,
    "start_time": "2022-03-25T08:54:29.621Z"
   },
   {
    "duration": 79,
    "start_time": "2022-03-25T08:54:31.021Z"
   },
   {
    "duration": 5,
    "start_time": "2022-03-25T08:54:31.102Z"
   },
   {
    "duration": 1408,
    "start_time": "2022-03-25T08:54:31.108Z"
   },
   {
    "duration": 64,
    "start_time": "2022-03-25T08:54:32.518Z"
   },
   {
    "duration": 8,
    "start_time": "2022-03-25T08:54:32.584Z"
   },
   {
    "duration": 21,
    "start_time": "2022-03-25T08:54:32.594Z"
   },
   {
    "duration": 102,
    "start_time": "2022-03-25T08:54:32.617Z"
   },
   {
    "duration": 64,
    "start_time": "2022-03-25T08:54:32.721Z"
   },
   {
    "duration": 636,
    "start_time": "2022-03-25T08:54:32.787Z"
   },
   {
    "duration": 140774,
    "start_time": "2022-03-25T08:54:33.425Z"
   },
   {
    "duration": 8013,
    "start_time": "2022-03-25T08:56:54.201Z"
   },
   {
    "duration": 2,
    "start_time": "2022-03-25T08:57:02.216Z"
   },
   {
    "duration": 59,
    "start_time": "2022-03-25T08:57:02.222Z"
   },
   {
    "duration": 27,
    "start_time": "2022-03-25T08:57:02.283Z"
   },
   {
    "duration": 20,
    "start_time": "2022-03-25T08:57:02.312Z"
   },
   {
    "duration": 48,
    "start_time": "2022-03-25T08:57:02.333Z"
   },
   {
    "duration": 6,
    "start_time": "2022-03-25T08:57:02.383Z"
   },
   {
    "duration": 8,
    "start_time": "2022-03-25T08:57:02.391Z"
   },
   {
    "duration": 321,
    "start_time": "2022-03-25T08:57:02.401Z"
   },
   {
    "duration": 0,
    "start_time": "2022-03-25T08:57:02.724Z"
   },
   {
    "duration": 0,
    "start_time": "2022-03-25T08:57:02.782Z"
   },
   {
    "duration": 0,
    "start_time": "2022-03-25T08:57:02.783Z"
   },
   {
    "duration": 0,
    "start_time": "2022-03-25T08:57:02.784Z"
   },
   {
    "duration": 0,
    "start_time": "2022-03-25T08:57:02.785Z"
   },
   {
    "duration": 0,
    "start_time": "2022-03-25T08:57:02.786Z"
   },
   {
    "duration": 0,
    "start_time": "2022-03-25T08:57:02.787Z"
   },
   {
    "duration": 0,
    "start_time": "2022-03-25T08:57:02.788Z"
   },
   {
    "duration": 0,
    "start_time": "2022-03-25T08:57:02.789Z"
   },
   {
    "duration": 0,
    "start_time": "2022-03-25T08:57:02.790Z"
   },
   {
    "duration": 0,
    "start_time": "2022-03-25T08:57:02.791Z"
   },
   {
    "duration": 0,
    "start_time": "2022-03-25T08:57:02.792Z"
   },
   {
    "duration": 0,
    "start_time": "2022-03-25T08:57:02.793Z"
   },
   {
    "duration": 0,
    "start_time": "2022-03-25T08:57:02.795Z"
   },
   {
    "duration": 0,
    "start_time": "2022-03-25T08:57:02.796Z"
   },
   {
    "duration": 0,
    "start_time": "2022-03-25T08:57:02.798Z"
   },
   {
    "duration": 0,
    "start_time": "2022-03-25T08:57:02.799Z"
   },
   {
    "duration": 0,
    "start_time": "2022-03-25T08:57:02.800Z"
   },
   {
    "duration": 3,
    "start_time": "2022-03-25T09:00:02.225Z"
   },
   {
    "duration": 141911,
    "start_time": "2022-03-25T09:00:02.230Z"
   },
   {
    "duration": 0,
    "start_time": "2022-03-25T09:02:24.144Z"
   },
   {
    "duration": 0,
    "start_time": "2022-03-25T09:02:24.146Z"
   },
   {
    "duration": 0,
    "start_time": "2022-03-25T09:02:24.147Z"
   },
   {
    "duration": 0,
    "start_time": "2022-03-25T09:02:24.148Z"
   },
   {
    "duration": 0,
    "start_time": "2022-03-25T09:02:24.150Z"
   },
   {
    "duration": 0,
    "start_time": "2022-03-25T09:02:24.151Z"
   },
   {
    "duration": 0,
    "start_time": "2022-03-25T09:02:24.182Z"
   },
   {
    "duration": 0,
    "start_time": "2022-03-25T09:02:24.184Z"
   },
   {
    "duration": 0,
    "start_time": "2022-03-25T09:02:24.185Z"
   },
   {
    "duration": 0,
    "start_time": "2022-03-25T09:02:24.186Z"
   },
   {
    "duration": 0,
    "start_time": "2022-03-25T09:02:24.187Z"
   },
   {
    "duration": 0,
    "start_time": "2022-03-25T09:02:24.188Z"
   },
   {
    "duration": 0,
    "start_time": "2022-03-25T09:02:24.189Z"
   },
   {
    "duration": 0,
    "start_time": "2022-03-25T09:02:24.189Z"
   },
   {
    "duration": 0,
    "start_time": "2022-03-25T09:02:24.190Z"
   },
   {
    "duration": 0,
    "start_time": "2022-03-25T09:02:24.191Z"
   },
   {
    "duration": 2445,
    "start_time": "2022-03-25T13:55:02.436Z"
   },
   {
    "duration": 658,
    "start_time": "2022-03-25T13:55:06.853Z"
   },
   {
    "duration": 57,
    "start_time": "2022-03-25T13:55:07.742Z"
   },
   {
    "duration": 37,
    "start_time": "2022-03-25T13:55:08.418Z"
   },
   {
    "duration": 7,
    "start_time": "2022-03-25T13:55:46.841Z"
   },
   {
    "duration": 1640,
    "start_time": "2022-03-27T10:35:16.760Z"
   },
   {
    "duration": 239,
    "start_time": "2022-03-27T10:35:33.119Z"
   },
   {
    "duration": 46,
    "start_time": "2022-03-27T10:35:34.527Z"
   },
   {
    "duration": 42,
    "start_time": "2022-03-27T10:35:46.434Z"
   },
   {
    "duration": 80,
    "start_time": "2022-03-27T10:35:50.075Z"
   },
   {
    "duration": 147,
    "start_time": "2022-03-27T10:36:22.977Z"
   },
   {
    "duration": 2686,
    "start_time": "2022-03-27T10:36:23.847Z"
   },
   {
    "duration": 108,
    "start_time": "2022-03-27T10:36:26.548Z"
   },
   {
    "duration": 200,
    "start_time": "2022-03-27T10:36:50.228Z"
   },
   {
    "duration": 163,
    "start_time": "2022-03-27T10:36:50.918Z"
   },
   {
    "duration": 61,
    "start_time": "2022-03-27T10:36:58.160Z"
   },
   {
    "duration": 62,
    "start_time": "2022-03-27T10:39:53.720Z"
   },
   {
    "duration": 162,
    "start_time": "2022-03-27T10:41:08.580Z"
   },
   {
    "duration": 14,
    "start_time": "2022-03-27T10:41:24.467Z"
   },
   {
    "duration": 4,
    "start_time": "2022-03-27T10:41:40.470Z"
   },
   {
    "duration": 234,
    "start_time": "2022-03-27T10:41:40.476Z"
   },
   {
    "duration": 43,
    "start_time": "2022-03-27T10:41:40.711Z"
   },
   {
    "duration": 30,
    "start_time": "2022-03-27T10:41:40.756Z"
   },
   {
    "duration": 110,
    "start_time": "2022-03-27T10:41:40.808Z"
   },
   {
    "duration": 159,
    "start_time": "2022-03-27T10:41:40.920Z"
   },
   {
    "duration": 2535,
    "start_time": "2022-03-27T10:41:41.081Z"
   },
   {
    "duration": 113,
    "start_time": "2022-03-27T10:41:43.618Z"
   },
   {
    "duration": 307,
    "start_time": "2022-03-27T10:41:43.733Z"
   },
   {
    "duration": 184,
    "start_time": "2022-03-27T10:41:44.042Z"
   },
   {
    "duration": 52,
    "start_time": "2022-03-27T10:41:44.228Z"
   },
   {
    "duration": 79,
    "start_time": "2022-03-27T10:41:44.282Z"
   },
   {
    "duration": 11,
    "start_time": "2022-03-27T10:41:49.759Z"
   },
   {
    "duration": 21,
    "start_time": "2022-03-27T10:42:17.220Z"
   },
   {
    "duration": 12,
    "start_time": "2022-03-27T10:42:47.999Z"
   },
   {
    "duration": 5,
    "start_time": "2022-03-27T10:42:51.198Z"
   },
   {
    "duration": 567,
    "start_time": "2022-03-27T10:42:52.003Z"
   },
   {
    "duration": 17,
    "start_time": "2022-03-27T10:42:54.379Z"
   },
   {
    "duration": 4,
    "start_time": "2022-03-27T10:42:57.369Z"
   },
   {
    "duration": 4,
    "start_time": "2022-03-27T10:43:53.894Z"
   },
   {
    "duration": 583,
    "start_time": "2022-03-27T10:43:59.571Z"
   },
   {
    "duration": 11,
    "start_time": "2022-03-27T10:44:03.438Z"
   },
   {
    "duration": 5,
    "start_time": "2022-03-27T10:44:07.507Z"
   },
   {
    "duration": 4,
    "start_time": "2022-03-27T10:45:16.220Z"
   },
   {
    "duration": 15,
    "start_time": "2022-03-27T10:45:31.871Z"
   },
   {
    "duration": 33,
    "start_time": "2022-03-27T10:45:32.689Z"
   },
   {
    "duration": 6,
    "start_time": "2022-03-27T10:45:37.798Z"
   },
   {
    "duration": 159,
    "start_time": "2022-03-27T10:52:56.625Z"
   },
   {
    "duration": 253,
    "start_time": "2022-03-27T11:04:06.531Z"
   },
   {
    "duration": 24,
    "start_time": "2022-03-27T11:04:29.552Z"
   },
   {
    "duration": 16,
    "start_time": "2022-03-27T11:06:08.739Z"
   },
   {
    "duration": 26,
    "start_time": "2022-03-27T11:06:28.785Z"
   },
   {
    "duration": 17,
    "start_time": "2022-03-27T11:06:42.907Z"
   },
   {
    "duration": 72,
    "start_time": "2022-03-27T11:09:22.827Z"
   },
   {
    "duration": 24,
    "start_time": "2022-03-27T11:09:32.906Z"
   },
   {
    "duration": 23,
    "start_time": "2022-03-27T11:10:08.465Z"
   },
   {
    "duration": 23,
    "start_time": "2022-03-27T11:10:18.665Z"
   },
   {
    "duration": 1469,
    "start_time": "2022-03-27T11:30:24.554Z"
   },
   {
    "duration": 241,
    "start_time": "2022-03-27T11:30:26.750Z"
   },
   {
    "duration": 51,
    "start_time": "2022-03-27T11:30:26.994Z"
   },
   {
    "duration": 32,
    "start_time": "2022-03-27T11:30:27.112Z"
   },
   {
    "duration": 83,
    "start_time": "2022-03-27T11:30:27.303Z"
   },
   {
    "duration": 148,
    "start_time": "2022-03-27T11:30:27.418Z"
   },
   {
    "duration": 2583,
    "start_time": "2022-03-27T11:30:27.570Z"
   },
   {
    "duration": 105,
    "start_time": "2022-03-27T11:30:30.156Z"
   },
   {
    "duration": 213,
    "start_time": "2022-03-27T11:30:30.263Z"
   },
   {
    "duration": 175,
    "start_time": "2022-03-27T11:30:30.478Z"
   },
   {
    "duration": 61,
    "start_time": "2022-03-27T11:30:30.655Z"
   },
   {
    "duration": 61,
    "start_time": "2022-03-27T11:30:30.718Z"
   },
   {
    "duration": 33,
    "start_time": "2022-03-27T11:30:30.781Z"
   },
   {
    "duration": 21,
    "start_time": "2022-03-27T11:30:30.817Z"
   },
   {
    "duration": 13,
    "start_time": "2022-03-27T11:30:30.960Z"
   },
   {
    "duration": 5,
    "start_time": "2022-03-27T11:30:31.135Z"
   },
   {
    "duration": 583,
    "start_time": "2022-03-27T11:30:31.296Z"
   },
   {
    "duration": 30,
    "start_time": "2022-03-27T11:30:31.881Z"
   },
   {
    "duration": 4,
    "start_time": "2022-03-27T11:30:31.913Z"
   },
   {
    "duration": 554,
    "start_time": "2022-03-27T11:30:31.990Z"
   },
   {
    "duration": 11,
    "start_time": "2022-03-27T11:30:32.546Z"
   },
   {
    "duration": 12,
    "start_time": "2022-03-27T11:30:32.558Z"
   },
   {
    "duration": 15,
    "start_time": "2022-03-27T11:30:34.422Z"
   },
   {
    "duration": 31,
    "start_time": "2022-03-27T11:30:34.726Z"
   },
   {
    "duration": 5,
    "start_time": "2022-03-27T11:30:35.278Z"
   },
   {
    "duration": 156,
    "start_time": "2022-03-27T11:30:36.814Z"
   },
   {
    "duration": 254,
    "start_time": "2022-03-27T11:30:37.598Z"
   },
   {
    "duration": 15,
    "start_time": "2022-03-27T11:30:38.472Z"
   },
   {
    "duration": 23,
    "start_time": "2022-03-27T11:30:39.129Z"
   },
   {
    "duration": 17,
    "start_time": "2022-03-27T11:30:40.166Z"
   },
   {
    "duration": 46,
    "start_time": "2022-03-27T11:31:00.120Z"
   },
   {
    "duration": 23,
    "start_time": "2022-03-27T11:31:00.957Z"
   },
   {
    "duration": 23,
    "start_time": "2022-03-27T11:31:03.183Z"
   },
   {
    "duration": 24,
    "start_time": "2022-03-27T11:31:06.390Z"
   },
   {
    "duration": 21,
    "start_time": "2022-03-27T11:51:36.651Z"
   },
   {
    "duration": 22,
    "start_time": "2022-03-27T11:51:39.979Z"
   },
   {
    "duration": 22,
    "start_time": "2022-03-27T11:51:43.267Z"
   },
   {
    "duration": 5562,
    "start_time": "2022-03-27T11:53:40.985Z"
   },
   {
    "duration": 20682,
    "start_time": "2022-03-27T11:55:25.058Z"
   },
   {
    "duration": 58108,
    "start_time": "2022-03-27T11:56:18.519Z"
   },
   {
    "duration": 96856,
    "start_time": "2022-03-27T11:57:45.144Z"
   },
   {
    "duration": 137977,
    "start_time": "2022-03-27T11:59:49.253Z"
   },
   {
    "duration": 9179,
    "start_time": "2022-03-27T12:06:35.404Z"
   },
   {
    "duration": 31128,
    "start_time": "2022-03-27T12:07:06.318Z"
   },
   {
    "duration": 66619,
    "start_time": "2022-03-27T12:10:47.043Z"
   },
   {
    "duration": 1601,
    "start_time": "2022-03-27T12:15:16.976Z"
   },
   {
    "duration": 245,
    "start_time": "2022-03-27T12:15:22.805Z"
   },
   {
    "duration": 44,
    "start_time": "2022-03-27T12:15:23.052Z"
   },
   {
    "duration": 31,
    "start_time": "2022-03-27T12:15:23.199Z"
   },
   {
    "duration": 82,
    "start_time": "2022-03-27T12:15:23.372Z"
   },
   {
    "duration": 146,
    "start_time": "2022-03-27T12:15:23.564Z"
   },
   {
    "duration": 2633,
    "start_time": "2022-03-27T12:15:23.736Z"
   },
   {
    "duration": 106,
    "start_time": "2022-03-27T12:15:26.371Z"
   },
   {
    "duration": 202,
    "start_time": "2022-03-27T12:15:26.478Z"
   },
   {
    "duration": 168,
    "start_time": "2022-03-27T12:15:26.682Z"
   },
   {
    "duration": 59,
    "start_time": "2022-03-27T12:15:26.852Z"
   },
   {
    "duration": 64,
    "start_time": "2022-03-27T12:15:26.912Z"
   },
   {
    "duration": 17,
    "start_time": "2022-03-27T12:15:27.231Z"
   },
   {
    "duration": 19,
    "start_time": "2022-03-27T12:15:27.445Z"
   },
   {
    "duration": 12,
    "start_time": "2022-03-27T12:15:27.654Z"
   },
   {
    "duration": 5,
    "start_time": "2022-03-27T12:15:27.840Z"
   },
   {
    "duration": 609,
    "start_time": "2022-03-27T12:15:28.048Z"
   },
   {
    "duration": 17,
    "start_time": "2022-03-27T12:15:28.659Z"
   },
   {
    "duration": 4,
    "start_time": "2022-03-27T12:15:28.727Z"
   },
   {
    "duration": 581,
    "start_time": "2022-03-27T12:15:28.964Z"
   },
   {
    "duration": 11,
    "start_time": "2022-03-27T12:15:29.547Z"
   },
   {
    "duration": 5,
    "start_time": "2022-03-27T12:15:29.560Z"
   },
   {
    "duration": 16,
    "start_time": "2022-03-27T12:15:31.131Z"
   },
   {
    "duration": 33,
    "start_time": "2022-03-27T12:15:31.886Z"
   },
   {
    "duration": 8,
    "start_time": "2022-03-27T12:15:32.735Z"
   },
   {
    "duration": 152,
    "start_time": "2022-03-27T12:15:33.480Z"
   },
   {
    "duration": 237,
    "start_time": "2022-03-27T12:15:33.694Z"
   },
   {
    "duration": 14,
    "start_time": "2022-03-27T12:15:33.933Z"
   },
   {
    "duration": 42,
    "start_time": "2022-03-27T12:15:34.426Z"
   },
   {
    "duration": 22,
    "start_time": "2022-03-27T12:15:34.966Z"
   },
   {
    "duration": 21,
    "start_time": "2022-03-27T12:15:35.976Z"
   },
   {
    "duration": 22,
    "start_time": "2022-03-27T12:15:36.511Z"
   },
   {
    "duration": 119561,
    "start_time": "2022-03-27T12:15:40.079Z"
   },
   {
    "duration": 111246,
    "start_time": "2022-03-27T12:18:14.626Z"
   },
   {
    "duration": 150855,
    "start_time": "2022-03-27T12:20:58.828Z"
   },
   {
    "duration": 2202,
    "start_time": "2022-03-27T12:34:50.251Z"
   },
   {
    "duration": 232,
    "start_time": "2022-03-27T12:34:59.817Z"
   },
   {
    "duration": 39,
    "start_time": "2022-03-27T12:35:00.376Z"
   },
   {
    "duration": 28,
    "start_time": "2022-03-27T12:35:00.644Z"
   },
   {
    "duration": 78,
    "start_time": "2022-03-27T12:35:00.884Z"
   },
   {
    "duration": 130,
    "start_time": "2022-03-27T12:35:01.118Z"
   },
   {
    "duration": 2276,
    "start_time": "2022-03-27T12:35:01.341Z"
   },
   {
    "duration": 93,
    "start_time": "2022-03-27T12:35:03.619Z"
   },
   {
    "duration": 176,
    "start_time": "2022-03-27T12:35:03.714Z"
   },
   {
    "duration": 162,
    "start_time": "2022-03-27T12:35:03.891Z"
   },
   {
    "duration": 47,
    "start_time": "2022-03-27T12:35:04.824Z"
   },
   {
    "duration": 68,
    "start_time": "2022-03-27T12:35:06.070Z"
   },
   {
    "duration": 15,
    "start_time": "2022-03-27T12:35:06.680Z"
   },
   {
    "duration": 19,
    "start_time": "2022-03-27T12:35:07.043Z"
   },
   {
    "duration": 13,
    "start_time": "2022-03-27T12:35:07.352Z"
   },
   {
    "duration": 5,
    "start_time": "2022-03-27T12:35:07.715Z"
   },
   {
    "duration": 608,
    "start_time": "2022-03-27T12:35:08.356Z"
   },
   {
    "duration": 15,
    "start_time": "2022-03-27T12:35:08.992Z"
   },
   {
    "duration": 6,
    "start_time": "2022-03-27T12:35:11.002Z"
   },
   {
    "duration": 544,
    "start_time": "2022-03-27T12:35:11.496Z"
   },
   {
    "duration": 9,
    "start_time": "2022-03-27T12:35:12.842Z"
   },
   {
    "duration": 4,
    "start_time": "2022-03-27T12:35:13.207Z"
   },
   {
    "duration": 14,
    "start_time": "2022-03-27T12:35:14.856Z"
   },
   {
    "duration": 32,
    "start_time": "2022-03-27T12:35:15.240Z"
   },
   {
    "duration": 6,
    "start_time": "2022-03-27T12:35:16.495Z"
   },
   {
    "duration": 146,
    "start_time": "2022-03-27T12:35:18.009Z"
   },
   {
    "duration": 225,
    "start_time": "2022-03-27T12:35:18.689Z"
   },
   {
    "duration": 15,
    "start_time": "2022-03-27T12:35:20.135Z"
   },
   {
    "duration": 46,
    "start_time": "2022-03-27T12:49:19.304Z"
   },
   {
    "duration": 30,
    "start_time": "2022-03-27T12:49:20.182Z"
   },
   {
    "duration": 30,
    "start_time": "2022-03-27T12:49:20.706Z"
   },
   {
    "duration": 28,
    "start_time": "2022-03-27T12:49:21.135Z"
   },
   {
    "duration": 148116,
    "start_time": "2022-03-27T12:49:22.521Z"
   },
   {
    "duration": 64084,
    "start_time": "2022-03-27T12:52:49.807Z"
   },
   {
    "duration": 39565,
    "start_time": "2022-03-27T12:55:11.858Z"
   },
   {
    "duration": 162335,
    "start_time": "2022-03-27T12:56:44.626Z"
   },
   {
    "duration": 92376,
    "start_time": "2022-03-27T13:00:50.844Z"
   },
   {
    "duration": 134103,
    "start_time": "2022-03-27T13:03:02.160Z"
   },
   {
    "duration": 161,
    "start_time": "2022-03-27T13:08:28.545Z"
   },
   {
    "duration": 2221,
    "start_time": "2022-03-27T13:08:55.285Z"
   },
   {
    "duration": 2406,
    "start_time": "2022-03-27T13:11:20.949Z"
   },
   {
    "duration": 15,
    "start_time": "2022-03-27T13:14:30.155Z"
   },
   {
    "duration": 6,
    "start_time": "2022-03-27T13:14:36.424Z"
   },
   {
    "duration": 13,
    "start_time": "2022-03-27T13:15:47.934Z"
   },
   {
    "duration": 6,
    "start_time": "2022-03-27T13:16:31.761Z"
   },
   {
    "duration": 5,
    "start_time": "2022-03-27T13:21:45.213Z"
   },
   {
    "duration": 788,
    "start_time": "2022-03-27T13:21:51.737Z"
   },
   {
    "duration": 5,
    "start_time": "2022-03-27T13:24:29.094Z"
   },
   {
    "duration": 755,
    "start_time": "2022-03-27T13:24:31.094Z"
   },
   {
    "duration": 9,
    "start_time": "2022-03-27T13:29:16.377Z"
   },
   {
    "duration": 10,
    "start_time": "2022-03-27T13:29:22.066Z"
   },
   {
    "duration": 120,
    "start_time": "2022-03-27T13:29:29.744Z"
   },
   {
    "duration": 20,
    "start_time": "2022-03-27T13:32:03.800Z"
   },
   {
    "duration": 16,
    "start_time": "2022-03-27T13:34:26.046Z"
   },
   {
    "duration": 10,
    "start_time": "2022-03-27T13:36:06.938Z"
   },
   {
    "duration": 10,
    "start_time": "2022-03-27T13:36:29.217Z"
   },
   {
    "duration": 25,
    "start_time": "2022-03-27T13:37:38.181Z"
   },
   {
    "duration": 11,
    "start_time": "2022-03-27T13:38:02.319Z"
   },
   {
    "duration": 5,
    "start_time": "2022-03-27T13:38:59.397Z"
   },
   {
    "duration": 1582,
    "start_time": "2022-03-27T13:39:12.494Z"
   },
   {
    "duration": 252,
    "start_time": "2022-03-27T13:39:20.453Z"
   },
   {
    "duration": 47,
    "start_time": "2022-03-27T13:39:22.162Z"
   },
   {
    "duration": 27,
    "start_time": "2022-03-27T13:39:23.928Z"
   },
   {
    "duration": 85,
    "start_time": "2022-03-27T13:39:26.161Z"
   },
   {
    "duration": 148,
    "start_time": "2022-03-27T13:39:27.015Z"
   },
   {
    "duration": 2233,
    "start_time": "2022-03-27T13:39:28.028Z"
   },
   {
    "duration": 96,
    "start_time": "2022-03-27T13:39:34.280Z"
   },
   {
    "duration": 172,
    "start_time": "2022-03-27T13:39:37.184Z"
   },
   {
    "duration": 155,
    "start_time": "2022-03-27T13:39:38.407Z"
   },
   {
    "duration": 3926,
    "start_time": "2022-03-27T13:40:49.904Z"
   },
   {
    "duration": 18,
    "start_time": "2022-03-27T13:41:14.528Z"
   },
   {
    "duration": 12,
    "start_time": "2022-03-27T13:41:26.627Z"
   },
   {
    "duration": 73,
    "start_time": "2022-03-27T13:41:57.341Z"
   },
   {
    "duration": 16,
    "start_time": "2022-03-27T13:44:52.809Z"
   },
   {
    "duration": 17,
    "start_time": "2022-03-27T13:44:57.358Z"
   },
   {
    "duration": 14,
    "start_time": "2022-03-27T13:46:00.663Z"
   },
   {
    "duration": 4,
    "start_time": "2022-03-27T13:46:08.507Z"
   },
   {
    "duration": 238,
    "start_time": "2022-03-27T13:46:08.512Z"
   },
   {
    "duration": 56,
    "start_time": "2022-03-27T13:46:08.752Z"
   },
   {
    "duration": 56,
    "start_time": "2022-03-27T13:46:08.810Z"
   },
   {
    "duration": 79,
    "start_time": "2022-03-27T13:46:08.868Z"
   },
   {
    "duration": 149,
    "start_time": "2022-03-27T13:46:08.949Z"
   },
   {
    "duration": 2148,
    "start_time": "2022-03-27T13:46:09.100Z"
   },
   {
    "duration": 104,
    "start_time": "2022-03-27T13:46:11.249Z"
   },
   {
    "duration": 278,
    "start_time": "2022-03-27T13:46:11.354Z"
   },
   {
    "duration": 154,
    "start_time": "2022-03-27T13:46:11.634Z"
   },
   {
    "duration": 46,
    "start_time": "2022-03-27T13:46:11.791Z"
   },
   {
    "duration": 80,
    "start_time": "2022-03-27T13:46:11.838Z"
   },
   {
    "duration": 11,
    "start_time": "2022-03-27T13:46:17.029Z"
   },
   {
    "duration": 20,
    "start_time": "2022-03-27T13:46:18.573Z"
   },
   {
    "duration": 11,
    "start_time": "2022-03-27T13:46:24.624Z"
   },
   {
    "duration": 5,
    "start_time": "2022-03-27T13:46:27.514Z"
   },
   {
    "duration": 544,
    "start_time": "2022-03-27T13:46:43.494Z"
   },
   {
    "duration": 17,
    "start_time": "2022-03-27T13:46:46.789Z"
   },
   {
    "duration": 4,
    "start_time": "2022-03-27T13:46:53.743Z"
   },
   {
    "duration": 547,
    "start_time": "2022-03-27T13:46:55.139Z"
   },
   {
    "duration": 9,
    "start_time": "2022-03-27T13:46:56.281Z"
   },
   {
    "duration": 4,
    "start_time": "2022-03-27T13:46:57.933Z"
   },
   {
    "duration": 14,
    "start_time": "2022-03-27T13:49:34.136Z"
   },
   {
    "duration": 15,
    "start_time": "2022-03-27T13:50:00.971Z"
   },
   {
    "duration": 7,
    "start_time": "2022-03-27T13:50:27.592Z"
   },
   {
    "duration": 8,
    "start_time": "2022-03-27T13:51:46.061Z"
   },
   {
    "duration": 7,
    "start_time": "2022-03-27T13:51:55.997Z"
   },
   {
    "duration": 118,
    "start_time": "2022-03-27T13:52:34.329Z"
   },
   {
    "duration": 228,
    "start_time": "2022-03-27T13:52:37.324Z"
   },
   {
    "duration": 15,
    "start_time": "2022-03-27T13:54:36.688Z"
   },
   {
    "duration": 41,
    "start_time": "2022-03-27T13:54:45.245Z"
   },
   {
    "duration": 19,
    "start_time": "2022-03-27T13:54:48.517Z"
   },
   {
    "duration": 18,
    "start_time": "2022-03-27T13:54:55.274Z"
   },
   {
    "duration": 105655,
    "start_time": "2022-03-27T13:58:41.130Z"
   },
   {
    "duration": 138734,
    "start_time": "2022-03-27T14:01:23.679Z"
   },
   {
    "duration": 89934,
    "start_time": "2022-03-27T14:05:01.947Z"
   },
   {
    "duration": 43018,
    "start_time": "2022-03-27T14:07:00.946Z"
   },
   {
    "duration": 123338,
    "start_time": "2022-03-27T14:09:02.174Z"
   },
   {
    "duration": 344143,
    "start_time": "2022-03-27T14:11:38.696Z"
   },
   {
    "duration": 1795,
    "start_time": "2022-03-27T14:29:39.888Z"
   },
   {
    "duration": 227,
    "start_time": "2022-03-27T14:29:41.685Z"
   },
   {
    "duration": 37,
    "start_time": "2022-03-27T14:29:41.914Z"
   },
   {
    "duration": 34,
    "start_time": "2022-03-27T14:29:41.953Z"
   },
   {
    "duration": 81,
    "start_time": "2022-03-27T14:29:43.343Z"
   },
   {
    "duration": 130,
    "start_time": "2022-03-27T14:29:43.598Z"
   },
   {
    "duration": 2614,
    "start_time": "2022-03-27T14:29:43.837Z"
   },
   {
    "duration": 120,
    "start_time": "2022-03-27T14:29:46.454Z"
   },
   {
    "duration": 178,
    "start_time": "2022-03-27T14:29:46.575Z"
   },
   {
    "duration": 148,
    "start_time": "2022-03-27T14:29:46.762Z"
   },
   {
    "duration": 57,
    "start_time": "2022-03-27T14:29:46.913Z"
   },
   {
    "duration": 92,
    "start_time": "2022-03-27T14:29:47.578Z"
   },
   {
    "duration": 16,
    "start_time": "2022-03-27T14:29:48.312Z"
   },
   {
    "duration": 18,
    "start_time": "2022-03-27T14:29:48.555Z"
   },
   {
    "duration": 11,
    "start_time": "2022-03-27T14:29:48.811Z"
   },
   {
    "duration": 6,
    "start_time": "2022-03-27T14:29:49.066Z"
   },
   {
    "duration": 552,
    "start_time": "2022-03-27T14:29:49.381Z"
   },
   {
    "duration": 14,
    "start_time": "2022-03-27T14:29:49.935Z"
   },
   {
    "duration": 3,
    "start_time": "2022-03-27T14:29:50.187Z"
   },
   {
    "duration": 556,
    "start_time": "2022-03-27T14:29:50.407Z"
   },
   {
    "duration": 10,
    "start_time": "2022-03-27T14:29:50.965Z"
   },
   {
    "duration": 5,
    "start_time": "2022-03-27T14:29:50.977Z"
   },
   {
    "duration": 16,
    "start_time": "2022-03-27T14:29:54.240Z"
   },
   {
    "duration": 7,
    "start_time": "2022-03-27T14:29:55.114Z"
   },
   {
    "duration": 6,
    "start_time": "2022-03-27T14:29:55.433Z"
   },
   {
    "duration": 127,
    "start_time": "2022-03-27T14:29:56.659Z"
   },
   {
    "duration": 237,
    "start_time": "2022-03-27T14:29:56.951Z"
   },
   {
    "duration": 15,
    "start_time": "2022-03-27T14:29:57.548Z"
   },
   {
    "duration": 48,
    "start_time": "2022-03-27T14:29:57.796Z"
   },
   {
    "duration": 20,
    "start_time": "2022-03-27T14:29:58.090Z"
   },
   {
    "duration": 18,
    "start_time": "2022-03-27T14:29:58.894Z"
   },
   {
    "duration": 414,
    "start_time": "2022-03-27T14:31:17.298Z"
   },
   {
    "duration": 1660,
    "start_time": "2022-03-27T14:31:39.181Z"
   },
   {
    "duration": 5453,
    "start_time": "2022-03-27T14:32:03.589Z"
   },
   {
    "duration": 10833,
    "start_time": "2022-03-27T14:32:29.333Z"
   },
   {
    "duration": 5474,
    "start_time": "2022-03-27T14:32:56.666Z"
   },
   {
    "duration": 2418,
    "start_time": "2022-03-27T14:38:13.179Z"
   },
   {
    "duration": 589,
    "start_time": "2022-03-27T14:38:15.600Z"
   },
   {
    "duration": 55,
    "start_time": "2022-03-27T14:38:16.191Z"
   },
   {
    "duration": 56,
    "start_time": "2022-03-27T14:38:16.249Z"
   },
   {
    "duration": 135,
    "start_time": "2022-03-27T14:38:16.308Z"
   },
   {
    "duration": 218,
    "start_time": "2022-03-27T14:38:16.445Z"
   },
   {
    "duration": 3366,
    "start_time": "2022-03-27T14:38:16.665Z"
   },
   {
    "duration": 170,
    "start_time": "2022-03-27T14:38:20.033Z"
   },
   {
    "duration": 325,
    "start_time": "2022-03-27T14:38:20.205Z"
   },
   {
    "duration": 276,
    "start_time": "2022-03-27T14:38:20.534Z"
   },
   {
    "duration": 82,
    "start_time": "2022-03-27T14:38:20.813Z"
   },
   {
    "duration": 105,
    "start_time": "2022-03-27T14:38:20.898Z"
   },
   {
    "duration": 20,
    "start_time": "2022-03-27T14:38:21.005Z"
   },
   {
    "duration": 31,
    "start_time": "2022-03-27T14:38:21.027Z"
   },
   {
    "duration": 37,
    "start_time": "2022-03-27T14:38:21.060Z"
   },
   {
    "duration": 9,
    "start_time": "2022-03-27T14:38:21.101Z"
   },
   {
    "duration": 970,
    "start_time": "2022-03-27T14:38:21.113Z"
   },
   {
    "duration": 22,
    "start_time": "2022-03-27T14:38:22.086Z"
   },
   {
    "duration": 6,
    "start_time": "2022-03-27T14:38:22.110Z"
   },
   {
    "duration": 1056,
    "start_time": "2022-03-27T14:38:22.118Z"
   },
   {
    "duration": 17,
    "start_time": "2022-03-27T14:38:23.176Z"
   },
   {
    "duration": 7,
    "start_time": "2022-03-27T14:38:23.195Z"
   },
   {
    "duration": 21,
    "start_time": "2022-03-27T14:38:23.204Z"
   },
   {
    "duration": 11,
    "start_time": "2022-03-27T14:38:23.227Z"
   },
   {
    "duration": 44,
    "start_time": "2022-03-27T14:38:23.240Z"
   },
   {
    "duration": 208,
    "start_time": "2022-03-27T14:38:23.286Z"
   },
   {
    "duration": 382,
    "start_time": "2022-03-27T14:38:23.496Z"
   },
   {
    "duration": 19,
    "start_time": "2022-03-27T14:38:23.882Z"
   },
   {
    "duration": 47,
    "start_time": "2022-03-27T14:38:23.903Z"
   },
   {
    "duration": 54,
    "start_time": "2022-03-27T14:38:23.952Z"
   },
   {
    "duration": 34,
    "start_time": "2022-03-27T14:38:24.008Z"
   },
   {
    "duration": 9447,
    "start_time": "2022-03-27T14:38:25.074Z"
   },
   {
    "duration": 1912,
    "start_time": "2022-03-27T14:40:46.774Z"
   },
   {
    "duration": 299,
    "start_time": "2022-03-27T14:40:48.689Z"
   },
   {
    "duration": 54,
    "start_time": "2022-03-27T14:40:48.990Z"
   },
   {
    "duration": 60,
    "start_time": "2022-03-27T14:40:49.048Z"
   },
   {
    "duration": 135,
    "start_time": "2022-03-27T14:40:49.110Z"
   },
   {
    "duration": 211,
    "start_time": "2022-03-27T14:40:49.247Z"
   },
   {
    "duration": 3319,
    "start_time": "2022-03-27T14:40:49.460Z"
   },
   {
    "duration": 178,
    "start_time": "2022-03-27T14:40:52.781Z"
   },
   {
    "duration": 305,
    "start_time": "2022-03-27T14:40:52.962Z"
   },
   {
    "duration": 260,
    "start_time": "2022-03-27T14:40:53.271Z"
   },
   {
    "duration": 76,
    "start_time": "2022-03-27T14:40:53.533Z"
   },
   {
    "duration": 90,
    "start_time": "2022-03-27T14:40:53.612Z"
   },
   {
    "duration": 21,
    "start_time": "2022-03-27T14:40:53.704Z"
   },
   {
    "duration": 47,
    "start_time": "2022-03-27T14:40:53.727Z"
   },
   {
    "duration": 24,
    "start_time": "2022-03-27T14:40:53.776Z"
   },
   {
    "duration": 9,
    "start_time": "2022-03-27T14:40:53.802Z"
   },
   {
    "duration": 983,
    "start_time": "2022-03-27T14:40:53.814Z"
   },
   {
    "duration": 25,
    "start_time": "2022-03-27T14:40:54.800Z"
   },
   {
    "duration": 7,
    "start_time": "2022-03-27T14:40:54.827Z"
   },
   {
    "duration": 1072,
    "start_time": "2022-03-27T14:40:54.836Z"
   },
   {
    "duration": 16,
    "start_time": "2022-03-27T14:40:55.910Z"
   },
   {
    "duration": 7,
    "start_time": "2022-03-27T14:40:55.929Z"
   },
   {
    "duration": 46,
    "start_time": "2022-03-27T14:40:55.938Z"
   },
   {
    "duration": 10,
    "start_time": "2022-03-27T14:40:55.987Z"
   },
   {
    "duration": 9,
    "start_time": "2022-03-27T14:40:55.999Z"
   },
   {
    "duration": 217,
    "start_time": "2022-03-27T14:40:56.010Z"
   },
   {
    "duration": 327,
    "start_time": "2022-03-27T14:40:56.230Z"
   },
   {
    "duration": 27,
    "start_time": "2022-03-27T14:40:56.563Z"
   },
   {
    "duration": 47,
    "start_time": "2022-03-27T14:40:56.593Z"
   },
   {
    "duration": 56,
    "start_time": "2022-03-27T14:40:56.643Z"
   },
   {
    "duration": 30,
    "start_time": "2022-03-27T14:40:56.701Z"
   },
   {
    "duration": 3727,
    "start_time": "2022-03-27T14:40:56.733Z"
   },
   {
    "duration": 34835,
    "start_time": "2022-03-27T14:41:10.854Z"
   },
   {
    "duration": 2716,
    "start_time": "2022-03-27T14:50:41.079Z"
   },
   {
    "duration": 457,
    "start_time": "2022-03-27T14:50:43.799Z"
   },
   {
    "duration": 98,
    "start_time": "2022-03-27T14:50:44.259Z"
   },
   {
    "duration": 58,
    "start_time": "2022-03-27T14:50:44.360Z"
   },
   {
    "duration": 139,
    "start_time": "2022-03-27T14:50:44.420Z"
   },
   {
    "duration": 238,
    "start_time": "2022-03-27T14:50:44.562Z"
   },
   {
    "duration": 3399,
    "start_time": "2022-03-27T14:50:44.804Z"
   },
   {
    "duration": 179,
    "start_time": "2022-03-27T14:50:48.205Z"
   },
   {
    "duration": 331,
    "start_time": "2022-03-27T14:50:48.387Z"
   },
   {
    "duration": 263,
    "start_time": "2022-03-27T14:50:48.722Z"
   },
   {
    "duration": 68,
    "start_time": "2022-03-27T14:50:48.988Z"
   },
   {
    "duration": 105,
    "start_time": "2022-03-27T14:50:49.058Z"
   },
   {
    "duration": 29,
    "start_time": "2022-03-27T14:50:49.165Z"
   },
   {
    "duration": 31,
    "start_time": "2022-03-27T14:50:49.196Z"
   },
   {
    "duration": 17,
    "start_time": "2022-03-27T14:50:49.229Z"
   },
   {
    "duration": 38,
    "start_time": "2022-03-27T14:50:49.248Z"
   },
   {
    "duration": 1837,
    "start_time": "2022-03-27T14:50:49.289Z"
   },
   {
    "duration": 32,
    "start_time": "2022-03-27T14:50:51.129Z"
   },
   {
    "duration": 6,
    "start_time": "2022-03-27T14:50:51.182Z"
   },
   {
    "duration": 970,
    "start_time": "2022-03-27T14:50:51.190Z"
   },
   {
    "duration": 21,
    "start_time": "2022-03-27T14:50:52.162Z"
   },
   {
    "duration": 8,
    "start_time": "2022-03-27T14:50:52.185Z"
   },
   {
    "duration": 21,
    "start_time": "2022-03-27T14:50:52.195Z"
   },
   {
    "duration": 13,
    "start_time": "2022-03-27T14:50:52.219Z"
   },
   {
    "duration": 50,
    "start_time": "2022-03-27T14:50:52.234Z"
   },
   {
    "duration": 205,
    "start_time": "2022-03-27T14:50:52.286Z"
   },
   {
    "duration": 366,
    "start_time": "2022-03-27T14:50:52.493Z"
   },
   {
    "duration": 30,
    "start_time": "2022-03-27T14:50:52.863Z"
   },
   {
    "duration": 46,
    "start_time": "2022-03-27T14:50:52.895Z"
   },
   {
    "duration": 51,
    "start_time": "2022-03-27T14:50:52.943Z"
   },
   {
    "duration": 36,
    "start_time": "2022-03-27T14:50:52.996Z"
   },
   {
    "duration": 3443,
    "start_time": "2022-03-27T14:50:53.034Z"
   },
   {
    "duration": 248727,
    "start_time": "2022-03-27T14:51:09.356Z"
   },
   {
    "duration": 139267,
    "start_time": "2022-03-27T14:56:07.936Z"
   },
   {
    "duration": 4338,
    "start_time": "2022-03-27T14:59:05.588Z"
   },
   {
    "duration": 118,
    "start_time": "2022-03-27T15:00:08.103Z"
   },
   {
    "duration": 239,
    "start_time": "2022-03-27T15:01:36.890Z"
   },
   {
    "duration": 256,
    "start_time": "2022-03-27T15:04:07.943Z"
   },
   {
    "duration": 18,
    "start_time": "2022-03-27T15:07:13.849Z"
   },
   {
    "duration": 10,
    "start_time": "2022-03-27T15:07:37.429Z"
   },
   {
    "duration": 11,
    "start_time": "2022-03-27T15:09:01.283Z"
   },
   {
    "duration": 1453,
    "start_time": "2022-03-27T15:09:07.431Z"
   },
   {
    "duration": 9,
    "start_time": "2022-03-27T15:10:45.873Z"
   },
   {
    "duration": 1325,
    "start_time": "2022-03-27T15:10:50.391Z"
   },
   {
    "duration": 11,
    "start_time": "2022-03-27T15:12:31.291Z"
   },
   {
    "duration": 16,
    "start_time": "2022-03-27T15:12:35.039Z"
   },
   {
    "duration": 168,
    "start_time": "2022-03-27T15:13:26.220Z"
   },
   {
    "duration": 22,
    "start_time": "2022-03-27T15:15:12.296Z"
   },
   {
    "duration": 21,
    "start_time": "2022-03-27T15:15:30.417Z"
   },
   {
    "duration": 22,
    "start_time": "2022-03-27T15:15:36.109Z"
   },
   {
    "duration": 15,
    "start_time": "2022-03-27T15:18:13.230Z"
   },
   {
    "duration": 16,
    "start_time": "2022-03-27T15:19:57.464Z"
   },
   {
    "duration": 37,
    "start_time": "2022-03-27T15:20:17.684Z"
   },
   {
    "duration": 16,
    "start_time": "2022-03-27T15:20:30.312Z"
   },
   {
    "duration": 20,
    "start_time": "2022-03-27T15:21:28.440Z"
   },
   {
    "duration": 16,
    "start_time": "2022-03-27T15:21:50.255Z"
   },
   {
    "duration": 15,
    "start_time": "2022-03-27T15:22:04.206Z"
   },
   {
    "duration": 14,
    "start_time": "2022-03-27T15:22:17.221Z"
   },
   {
    "duration": 16,
    "start_time": "2022-03-27T15:22:19.504Z"
   },
   {
    "duration": 13,
    "start_time": "2022-03-27T15:22:48.346Z"
   },
   {
    "duration": 14,
    "start_time": "2022-03-27T15:22:49.885Z"
   },
   {
    "duration": 20,
    "start_time": "2022-03-27T15:23:29.804Z"
   },
   {
    "duration": 15,
    "start_time": "2022-03-27T15:23:40.297Z"
   },
   {
    "duration": 24,
    "start_time": "2022-03-27T15:24:14.392Z"
   },
   {
    "duration": 22,
    "start_time": "2022-03-27T15:24:29.966Z"
   },
   {
    "duration": 25,
    "start_time": "2022-03-27T15:24:47.471Z"
   },
   {
    "duration": 26,
    "start_time": "2022-03-27T15:25:23.759Z"
   },
   {
    "duration": 24,
    "start_time": "2022-03-27T15:25:25.936Z"
   },
   {
    "duration": 10,
    "start_time": "2022-03-27T15:25:39.003Z"
   },
   {
    "duration": 14,
    "start_time": "2022-03-27T15:27:24.511Z"
   },
   {
    "duration": 334,
    "start_time": "2022-03-27T15:28:18.595Z"
   },
   {
    "duration": 26,
    "start_time": "2022-03-27T15:30:00.682Z"
   },
   {
    "duration": 20,
    "start_time": "2022-03-27T15:30:46.303Z"
   },
   {
    "duration": 35,
    "start_time": "2022-03-27T15:30:59.942Z"
   },
   {
    "duration": 5,
    "start_time": "2022-03-27T15:42:34.299Z"
   },
   {
    "duration": 5,
    "start_time": "2022-03-27T15:42:41.745Z"
   },
   {
    "duration": 1914,
    "start_time": "2022-03-27T15:42:52.994Z"
   },
   {
    "duration": 308,
    "start_time": "2022-03-27T15:42:57.416Z"
   },
   {
    "duration": 55,
    "start_time": "2022-03-27T15:42:58.614Z"
   },
   {
    "duration": 38,
    "start_time": "2022-03-27T15:42:59.400Z"
   },
   {
    "duration": 120,
    "start_time": "2022-03-27T15:43:00.054Z"
   },
   {
    "duration": 202,
    "start_time": "2022-03-27T15:43:00.502Z"
   },
   {
    "duration": 3485,
    "start_time": "2022-03-27T15:43:01.222Z"
   },
   {
    "duration": 184,
    "start_time": "2022-03-27T15:43:04.710Z"
   },
   {
    "duration": 394,
    "start_time": "2022-03-27T15:43:06.184Z"
   },
   {
    "duration": 282,
    "start_time": "2022-03-27T15:43:06.736Z"
   },
   {
    "duration": 67,
    "start_time": "2022-03-27T15:43:08.948Z"
   },
   {
    "duration": 85,
    "start_time": "2022-03-27T15:43:10.825Z"
   },
   {
    "duration": 21,
    "start_time": "2022-03-27T15:43:13.152Z"
   },
   {
    "duration": 33,
    "start_time": "2022-03-27T15:43:13.803Z"
   },
   {
    "duration": 17,
    "start_time": "2022-03-27T15:43:14.323Z"
   },
   {
    "duration": 8,
    "start_time": "2022-03-27T15:43:15.158Z"
   },
   {
    "duration": 980,
    "start_time": "2022-03-27T15:43:15.959Z"
   },
   {
    "duration": 44,
    "start_time": "2022-03-27T15:43:16.942Z"
   },
   {
    "duration": 6,
    "start_time": "2022-03-27T15:43:17.905Z"
   },
   {
    "duration": 937,
    "start_time": "2022-03-27T15:43:18.403Z"
   },
   {
    "duration": 15,
    "start_time": "2022-03-27T15:43:19.342Z"
   },
   {
    "duration": 5,
    "start_time": "2022-03-27T15:43:32.035Z"
   },
   {
    "duration": 19,
    "start_time": "2022-03-27T15:43:35.132Z"
   },
   {
    "duration": 11,
    "start_time": "2022-03-27T15:43:38.721Z"
   },
   {
    "duration": 8,
    "start_time": "2022-03-27T15:43:41.712Z"
   },
   {
    "duration": 187,
    "start_time": "2022-03-27T15:43:45.313Z"
   },
   {
    "duration": 320,
    "start_time": "2022-03-27T15:43:46.145Z"
   },
   {
    "duration": 21,
    "start_time": "2022-03-27T15:43:47.462Z"
   },
   {
    "duration": 46,
    "start_time": "2022-03-27T15:43:48.463Z"
   },
   {
    "duration": 46,
    "start_time": "2022-03-27T15:43:49.991Z"
   },
   {
    "duration": 44,
    "start_time": "2022-03-27T15:43:51.668Z"
   },
   {
    "duration": 3968,
    "start_time": "2022-03-27T15:43:56.426Z"
   },
   {
    "duration": 5145,
    "start_time": "2022-03-27T15:44:11.023Z"
   },
   {
    "duration": 133,
    "start_time": "2022-03-27T15:44:24.023Z"
   },
   {
    "duration": 280,
    "start_time": "2022-03-27T15:44:26.523Z"
   },
   {
    "duration": 26,
    "start_time": "2022-03-27T15:44:33.461Z"
   },
   {
    "duration": 11,
    "start_time": "2022-03-27T15:44:39.730Z"
   },
   {
    "duration": 11,
    "start_time": "2022-03-27T15:44:42.316Z"
   },
   {
    "duration": 2189,
    "start_time": "2022-03-27T15:44:43.148Z"
   },
   {
    "duration": 10,
    "start_time": "2022-03-27T15:45:09.113Z"
   },
   {
    "duration": 1109,
    "start_time": "2022-03-27T15:45:11.814Z"
   },
   {
    "duration": 1140,
    "start_time": "2022-03-27T15:45:30.996Z"
   },
   {
    "duration": 8,
    "start_time": "2022-03-27T15:45:33.995Z"
   },
   {
    "duration": 21,
    "start_time": "2022-03-27T15:45:34.517Z"
   },
   {
    "duration": 22,
    "start_time": "2022-03-27T15:45:36.869Z"
   },
   {
    "duration": 11,
    "start_time": "2022-03-27T15:45:46.925Z"
   },
   {
    "duration": 17,
    "start_time": "2022-03-27T15:46:24.237Z"
   },
   {
    "duration": 38,
    "start_time": "2022-03-27T15:46:26.981Z"
   },
   {
    "duration": 6,
    "start_time": "2022-03-27T15:46:39.885Z"
   },
   {
    "duration": 431,
    "start_time": "2022-03-27T15:46:39.894Z"
   },
   {
    "duration": 100,
    "start_time": "2022-03-27T15:46:40.327Z"
   },
   {
    "duration": 71,
    "start_time": "2022-03-27T15:46:40.431Z"
   },
   {
    "duration": 164,
    "start_time": "2022-03-27T15:46:40.505Z"
   },
   {
    "duration": 287,
    "start_time": "2022-03-27T15:46:40.672Z"
   },
   {
    "duration": 4859,
    "start_time": "2022-03-27T15:46:40.963Z"
   },
   {
    "duration": 238,
    "start_time": "2022-03-27T15:46:45.825Z"
   },
   {
    "duration": 440,
    "start_time": "2022-03-27T15:46:46.066Z"
   },
   {
    "duration": 488,
    "start_time": "2022-03-27T15:46:46.513Z"
   },
   {
    "duration": 78,
    "start_time": "2022-03-27T15:46:47.004Z"
   },
   {
    "duration": 98,
    "start_time": "2022-03-27T15:46:47.084Z"
   },
   {
    "duration": 14,
    "start_time": "2022-03-27T15:46:47.185Z"
   },
   {
    "duration": 45,
    "start_time": "2022-03-27T15:46:47.202Z"
   },
   {
    "duration": 51,
    "start_time": "2022-03-27T15:46:47.249Z"
   },
   {
    "duration": 12,
    "start_time": "2022-03-27T15:46:47.303Z"
   },
   {
    "duration": 1035,
    "start_time": "2022-03-27T15:46:47.318Z"
   },
   {
    "duration": 38,
    "start_time": "2022-03-27T15:46:48.356Z"
   },
   {
    "duration": 7,
    "start_time": "2022-03-27T15:46:48.396Z"
   },
   {
    "duration": 1581,
    "start_time": "2022-03-27T15:46:48.406Z"
   },
   {
    "duration": 19,
    "start_time": "2022-03-27T15:46:49.990Z"
   },
   {
    "duration": 15,
    "start_time": "2022-03-27T15:46:50.012Z"
   },
   {
    "duration": 25,
    "start_time": "2022-03-27T15:46:50.029Z"
   },
   {
    "duration": 38,
    "start_time": "2022-03-27T15:46:50.056Z"
   },
   {
    "duration": 23,
    "start_time": "2022-03-27T15:46:50.098Z"
   },
   {
    "duration": 316,
    "start_time": "2022-03-27T15:46:50.125Z"
   },
   {
    "duration": 524,
    "start_time": "2022-03-27T15:46:50.443Z"
   },
   {
    "duration": 20,
    "start_time": "2022-03-27T15:46:50.983Z"
   },
   {
    "duration": 46,
    "start_time": "2022-03-27T15:46:51.006Z"
   },
   {
    "duration": 56,
    "start_time": "2022-03-27T15:46:51.054Z"
   },
   {
    "duration": 33,
    "start_time": "2022-03-27T15:46:51.113Z"
   },
   {
    "duration": 5164,
    "start_time": "2022-03-27T15:46:51.150Z"
   },
   {
    "duration": 6513,
    "start_time": "2022-03-27T15:46:56.317Z"
   },
   {
    "duration": 183,
    "start_time": "2022-03-27T15:47:02.833Z"
   },
   {
    "duration": 384,
    "start_time": "2022-03-27T15:47:03.019Z"
   },
   {
    "duration": 21,
    "start_time": "2022-03-27T15:47:03.406Z"
   },
   {
    "duration": 13,
    "start_time": "2022-03-27T15:47:03.429Z"
   },
   {
    "duration": 38,
    "start_time": "2022-03-27T15:47:03.444Z"
   },
   {
    "duration": 1375,
    "start_time": "2022-03-27T15:47:03.484Z"
   },
   {
    "duration": 10,
    "start_time": "2022-03-27T15:47:04.861Z"
   },
   {
    "duration": 1099,
    "start_time": "2022-03-27T15:47:04.883Z"
   },
   {
    "duration": 8,
    "start_time": "2022-03-27T15:47:05.984Z"
   },
   {
    "duration": 39,
    "start_time": "2022-03-27T15:47:05.995Z"
   },
   {
    "duration": 14,
    "start_time": "2022-03-27T15:47:06.037Z"
   },
   {
    "duration": 11,
    "start_time": "2022-03-27T15:47:06.054Z"
   },
   {
    "duration": 30,
    "start_time": "2022-03-27T15:47:06.067Z"
   },
   {
    "duration": 39,
    "start_time": "2022-03-27T15:47:06.100Z"
   },
   {
    "duration": 48,
    "start_time": "2022-03-28T09:26:26.915Z"
   },
   {
    "duration": 1722,
    "start_time": "2022-03-28T09:26:38.707Z"
   },
   {
    "duration": 224,
    "start_time": "2022-03-28T09:26:40.432Z"
   },
   {
    "duration": 41,
    "start_time": "2022-03-28T09:26:40.658Z"
   },
   {
    "duration": 45,
    "start_time": "2022-03-28T09:26:40.701Z"
   },
   {
    "duration": 85,
    "start_time": "2022-03-28T09:26:40.748Z"
   },
   {
    "duration": 152,
    "start_time": "2022-03-28T09:26:40.834Z"
   },
   {
    "duration": 2317,
    "start_time": "2022-03-28T09:26:40.988Z"
   },
   {
    "duration": 97,
    "start_time": "2022-03-28T09:26:43.307Z"
   },
   {
    "duration": 186,
    "start_time": "2022-03-28T09:26:43.405Z"
   },
   {
    "duration": 158,
    "start_time": "2022-03-28T09:26:43.594Z"
   },
   {
    "duration": 50,
    "start_time": "2022-03-28T09:26:43.753Z"
   },
   {
    "duration": 78,
    "start_time": "2022-03-28T09:26:43.804Z"
   },
   {
    "duration": 15,
    "start_time": "2022-03-28T09:26:43.883Z"
   },
   {
    "duration": 33,
    "start_time": "2022-03-28T09:26:43.900Z"
   },
   {
    "duration": 11,
    "start_time": "2022-03-28T09:26:43.935Z"
   },
   {
    "duration": 5,
    "start_time": "2022-03-28T09:26:43.948Z"
   },
   {
    "duration": 537,
    "start_time": "2022-03-28T09:26:43.955Z"
   },
   {
    "duration": 14,
    "start_time": "2022-03-28T09:26:44.494Z"
   },
   {
    "duration": 4,
    "start_time": "2022-03-28T09:26:44.509Z"
   },
   {
    "duration": 523,
    "start_time": "2022-03-28T09:26:44.533Z"
   },
   {
    "duration": 10,
    "start_time": "2022-03-28T09:26:45.058Z"
   },
   {
    "duration": 20,
    "start_time": "2022-03-28T09:26:45.069Z"
   },
   {
    "duration": 22,
    "start_time": "2022-03-28T09:26:45.091Z"
   },
   {
    "duration": 14,
    "start_time": "2022-03-28T09:26:45.115Z"
   },
   {
    "duration": 8,
    "start_time": "2022-03-28T09:26:45.132Z"
   },
   {
    "duration": 140,
    "start_time": "2022-03-28T09:26:45.141Z"
   },
   {
    "duration": 257,
    "start_time": "2022-03-28T09:26:45.283Z"
   },
   {
    "duration": 14,
    "start_time": "2022-03-28T09:26:45.544Z"
   },
   {
    "duration": 47,
    "start_time": "2022-03-28T09:26:45.560Z"
   },
   {
    "duration": 36,
    "start_time": "2022-03-28T09:26:45.608Z"
   },
   {
    "duration": 20,
    "start_time": "2022-03-28T09:26:45.646Z"
   },
   {
    "duration": 2546,
    "start_time": "2022-03-28T09:26:45.667Z"
   },
   {
    "duration": 3429,
    "start_time": "2022-03-28T09:26:48.215Z"
   },
   {
    "duration": 109,
    "start_time": "2022-03-28T09:26:51.645Z"
   },
   {
    "duration": 198,
    "start_time": "2022-03-28T09:26:51.755Z"
   },
   {
    "duration": 10,
    "start_time": "2022-03-28T09:26:51.955Z"
   },
   {
    "duration": 10,
    "start_time": "2022-03-28T09:26:51.967Z"
   },
   {
    "duration": 13,
    "start_time": "2022-03-28T09:26:51.978Z"
   },
   {
    "duration": 755,
    "start_time": "2022-03-28T09:26:51.993Z"
   },
   {
    "duration": 7,
    "start_time": "2022-03-28T09:26:52.750Z"
   },
   {
    "duration": 593,
    "start_time": "2022-03-28T09:26:52.758Z"
   },
   {
    "duration": 6,
    "start_time": "2022-03-28T09:26:53.353Z"
   },
   {
    "duration": 16,
    "start_time": "2022-03-28T09:26:53.361Z"
   },
   {
    "duration": 12,
    "start_time": "2022-03-28T09:26:53.379Z"
   },
   {
    "duration": 9,
    "start_time": "2022-03-28T09:26:53.392Z"
   },
   {
    "duration": 32,
    "start_time": "2022-03-28T09:26:53.402Z"
   },
   {
    "duration": 24,
    "start_time": "2022-03-28T09:26:53.435Z"
   },
   {
    "duration": 1614,
    "start_time": "2022-03-28T09:27:29.731Z"
   },
   {
    "duration": 232,
    "start_time": "2022-03-28T09:27:31.347Z"
   },
   {
    "duration": 54,
    "start_time": "2022-03-28T09:27:31.581Z"
   },
   {
    "duration": 31,
    "start_time": "2022-03-28T09:27:31.637Z"
   },
   {
    "duration": 96,
    "start_time": "2022-03-28T09:27:31.669Z"
   },
   {
    "duration": 139,
    "start_time": "2022-03-28T09:27:31.767Z"
   },
   {
    "duration": 2229,
    "start_time": "2022-03-28T09:27:31.908Z"
   },
   {
    "duration": 115,
    "start_time": "2022-03-28T09:27:34.140Z"
   },
   {
    "duration": 198,
    "start_time": "2022-03-28T09:27:34.257Z"
   },
   {
    "duration": 166,
    "start_time": "2022-03-28T09:27:34.459Z"
   },
   {
    "duration": 55,
    "start_time": "2022-03-28T09:27:34.627Z"
   },
   {
    "duration": 73,
    "start_time": "2022-03-28T09:27:34.684Z"
   },
   {
    "duration": 16,
    "start_time": "2022-03-28T09:27:34.759Z"
   },
   {
    "duration": 21,
    "start_time": "2022-03-28T09:27:34.776Z"
   },
   {
    "duration": 12,
    "start_time": "2022-03-28T09:27:34.798Z"
   },
   {
    "duration": 5,
    "start_time": "2022-03-28T09:27:34.832Z"
   },
   {
    "duration": 584,
    "start_time": "2022-03-28T09:27:34.839Z"
   },
   {
    "duration": 19,
    "start_time": "2022-03-28T09:27:35.425Z"
   },
   {
    "duration": 4,
    "start_time": "2022-03-28T09:27:35.445Z"
   },
   {
    "duration": 557,
    "start_time": "2022-03-28T09:27:35.450Z"
   },
   {
    "duration": 11,
    "start_time": "2022-03-28T09:27:36.009Z"
   },
   {
    "duration": 11,
    "start_time": "2022-03-28T09:27:36.022Z"
   },
   {
    "duration": 24,
    "start_time": "2022-03-28T09:27:36.034Z"
   },
   {
    "duration": 15,
    "start_time": "2022-03-28T09:27:36.060Z"
   },
   {
    "duration": 5,
    "start_time": "2022-03-28T09:27:36.077Z"
   },
   {
    "duration": 154,
    "start_time": "2022-03-28T09:27:36.084Z"
   },
   {
    "duration": 257,
    "start_time": "2022-03-28T09:27:36.240Z"
   },
   {
    "duration": 15,
    "start_time": "2022-03-28T09:27:36.501Z"
   },
   {
    "duration": 64,
    "start_time": "2022-03-28T09:27:36.518Z"
   },
   {
    "duration": 18,
    "start_time": "2022-03-28T09:27:36.584Z"
   },
   {
    "duration": 19,
    "start_time": "2022-03-28T09:27:36.604Z"
   },
   {
    "duration": 1540,
    "start_time": "2022-03-28T09:38:50.106Z"
   },
   {
    "duration": 229,
    "start_time": "2022-03-28T09:38:51.648Z"
   },
   {
    "duration": 40,
    "start_time": "2022-03-28T09:38:51.878Z"
   },
   {
    "duration": 30,
    "start_time": "2022-03-28T09:38:51.933Z"
   },
   {
    "duration": 92,
    "start_time": "2022-03-28T09:38:51.964Z"
   },
   {
    "duration": 139,
    "start_time": "2022-03-28T09:38:52.058Z"
   },
   {
    "duration": 2220,
    "start_time": "2022-03-28T09:38:52.198Z"
   },
   {
    "duration": 97,
    "start_time": "2022-03-28T09:38:54.419Z"
   },
   {
    "duration": 192,
    "start_time": "2022-03-28T09:38:54.517Z"
   },
   {
    "duration": 157,
    "start_time": "2022-03-28T09:38:54.711Z"
   },
   {
    "duration": 50,
    "start_time": "2022-03-28T09:38:54.870Z"
   },
   {
    "duration": 70,
    "start_time": "2022-03-28T09:38:54.922Z"
   },
   {
    "duration": 18,
    "start_time": "2022-03-28T09:38:54.994Z"
   },
   {
    "duration": 38,
    "start_time": "2022-03-28T09:38:55.013Z"
   },
   {
    "duration": 13,
    "start_time": "2022-03-28T09:38:55.053Z"
   },
   {
    "duration": 7,
    "start_time": "2022-03-28T09:38:55.068Z"
   },
   {
    "duration": 566,
    "start_time": "2022-03-28T09:38:55.077Z"
   },
   {
    "duration": 15,
    "start_time": "2022-03-28T09:38:55.644Z"
   },
   {
    "duration": 4,
    "start_time": "2022-03-28T09:38:55.661Z"
   },
   {
    "duration": 554,
    "start_time": "2022-03-28T09:38:55.666Z"
   },
   {
    "duration": 13,
    "start_time": "2022-03-28T09:38:56.222Z"
   },
   {
    "duration": 7,
    "start_time": "2022-03-28T09:38:56.236Z"
   },
   {
    "duration": 20,
    "start_time": "2022-03-28T09:38:56.245Z"
   },
   {
    "duration": 18,
    "start_time": "2022-03-28T09:38:56.267Z"
   },
   {
    "duration": 7,
    "start_time": "2022-03-28T09:38:56.286Z"
   },
   {
    "duration": 154,
    "start_time": "2022-03-28T09:38:56.295Z"
   },
   {
    "duration": 252,
    "start_time": "2022-03-28T09:38:56.451Z"
   },
   {
    "duration": 15,
    "start_time": "2022-03-28T09:38:56.707Z"
   },
   {
    "duration": 51,
    "start_time": "2022-03-28T09:38:56.723Z"
   },
   {
    "duration": 20,
    "start_time": "2022-03-28T09:38:56.775Z"
   },
   {
    "duration": 43,
    "start_time": "2022-03-28T09:38:56.796Z"
   },
   {
    "duration": 2576,
    "start_time": "2022-03-28T09:38:56.841Z"
   },
   {
    "duration": 3465,
    "start_time": "2022-03-28T09:38:59.418Z"
   },
   {
    "duration": 109,
    "start_time": "2022-03-28T09:39:02.884Z"
   },
   {
    "duration": 197,
    "start_time": "2022-03-28T09:39:02.995Z"
   },
   {
    "duration": 12,
    "start_time": "2022-03-28T09:39:03.194Z"
   },
   {
    "duration": 7,
    "start_time": "2022-03-28T09:39:03.208Z"
   },
   {
    "duration": 7,
    "start_time": "2022-03-28T09:39:03.233Z"
   },
   {
    "duration": 750,
    "start_time": "2022-03-28T09:39:03.242Z"
   },
   {
    "duration": 10,
    "start_time": "2022-03-28T09:39:03.994Z"
   },
   {
    "duration": 591,
    "start_time": "2022-03-28T09:39:04.006Z"
   },
   {
    "duration": 7,
    "start_time": "2022-03-28T09:39:04.599Z"
   },
   {
    "duration": 31,
    "start_time": "2022-03-28T09:39:04.607Z"
   },
   {
    "duration": 10,
    "start_time": "2022-03-28T09:39:04.639Z"
   },
   {
    "duration": 7,
    "start_time": "2022-03-28T09:39:04.650Z"
   },
   {
    "duration": 15,
    "start_time": "2022-03-28T09:39:04.658Z"
   },
   {
    "duration": 24,
    "start_time": "2022-03-28T09:39:04.674Z"
   },
   {
    "duration": 53,
    "start_time": "2022-07-22T12:49:55.499Z"
   },
   {
    "duration": 1490,
    "start_time": "2022-11-28T08:48:23.049Z"
   },
   {
    "duration": 115,
    "start_time": "2022-11-28T08:48:24.541Z"
   },
   {
    "duration": 0,
    "start_time": "2022-11-28T08:48:24.659Z"
   },
   {
    "duration": 0,
    "start_time": "2022-11-28T08:48:24.660Z"
   },
   {
    "duration": 0,
    "start_time": "2022-11-28T08:48:24.661Z"
   },
   {
    "duration": 0,
    "start_time": "2022-11-28T08:48:24.662Z"
   },
   {
    "duration": 0,
    "start_time": "2022-11-28T08:48:24.663Z"
   },
   {
    "duration": 0,
    "start_time": "2022-11-28T08:48:24.664Z"
   },
   {
    "duration": 0,
    "start_time": "2022-11-28T08:48:24.665Z"
   },
   {
    "duration": 0,
    "start_time": "2022-11-28T08:48:24.666Z"
   },
   {
    "duration": 0,
    "start_time": "2022-11-28T08:48:24.667Z"
   },
   {
    "duration": 0,
    "start_time": "2022-11-28T08:48:24.668Z"
   },
   {
    "duration": 0,
    "start_time": "2022-11-28T08:48:24.669Z"
   },
   {
    "duration": 0,
    "start_time": "2022-11-28T08:48:24.670Z"
   },
   {
    "duration": 0,
    "start_time": "2022-11-28T08:48:24.672Z"
   },
   {
    "duration": 0,
    "start_time": "2022-11-28T08:48:24.672Z"
   },
   {
    "duration": 0,
    "start_time": "2022-11-28T08:48:24.697Z"
   },
   {
    "duration": 0,
    "start_time": "2022-11-28T08:48:24.699Z"
   },
   {
    "duration": 0,
    "start_time": "2022-11-28T08:48:24.700Z"
   },
   {
    "duration": 0,
    "start_time": "2022-11-28T08:48:24.702Z"
   },
   {
    "duration": 0,
    "start_time": "2022-11-28T08:48:24.704Z"
   },
   {
    "duration": 0,
    "start_time": "2022-11-28T08:48:24.705Z"
   },
   {
    "duration": 0,
    "start_time": "2022-11-28T08:48:24.706Z"
   },
   {
    "duration": 0,
    "start_time": "2022-11-28T08:48:24.708Z"
   },
   {
    "duration": 0,
    "start_time": "2022-11-28T08:48:24.709Z"
   },
   {
    "duration": 0,
    "start_time": "2022-11-28T08:48:24.710Z"
   },
   {
    "duration": 0,
    "start_time": "2022-11-28T08:48:24.712Z"
   },
   {
    "duration": 0,
    "start_time": "2022-11-28T08:48:24.713Z"
   },
   {
    "duration": 0,
    "start_time": "2022-11-28T08:48:24.715Z"
   },
   {
    "duration": 0,
    "start_time": "2022-11-28T08:48:24.716Z"
   },
   {
    "duration": 0,
    "start_time": "2022-11-28T08:48:24.717Z"
   },
   {
    "duration": 0,
    "start_time": "2022-11-28T08:48:24.718Z"
   },
   {
    "duration": 0,
    "start_time": "2022-11-28T08:48:24.720Z"
   },
   {
    "duration": 0,
    "start_time": "2022-11-28T08:48:24.721Z"
   },
   {
    "duration": 0,
    "start_time": "2022-11-28T08:48:24.722Z"
   },
   {
    "duration": 0,
    "start_time": "2022-11-28T08:48:24.724Z"
   },
   {
    "duration": 0,
    "start_time": "2022-11-28T08:48:24.725Z"
   },
   {
    "duration": 0,
    "start_time": "2022-11-28T08:48:24.726Z"
   },
   {
    "duration": 0,
    "start_time": "2022-11-28T08:48:24.727Z"
   },
   {
    "duration": 0,
    "start_time": "2022-11-28T08:48:24.728Z"
   },
   {
    "duration": 0,
    "start_time": "2022-11-28T08:48:24.729Z"
   },
   {
    "duration": 0,
    "start_time": "2022-11-28T08:48:24.729Z"
   },
   {
    "duration": 0,
    "start_time": "2022-11-28T08:48:24.730Z"
   },
   {
    "duration": 0,
    "start_time": "2022-11-28T08:48:24.731Z"
   },
   {
    "duration": 0,
    "start_time": "2022-11-28T08:48:24.734Z"
   },
   {
    "duration": 0,
    "start_time": "2022-11-28T08:48:24.796Z"
   },
   {
    "duration": 0,
    "start_time": "2022-11-28T08:48:24.798Z"
   },
   {
    "duration": 0,
    "start_time": "2022-11-28T08:48:24.800Z"
   },
   {
    "duration": 0,
    "start_time": "2022-11-28T08:48:24.801Z"
   },
   {
    "duration": 0,
    "start_time": "2022-11-28T08:48:24.803Z"
   },
   {
    "duration": 42,
    "start_time": "2022-11-28T08:50:39.648Z"
   },
   {
    "duration": 50,
    "start_time": "2022-11-28T08:51:22.755Z"
   },
   {
    "duration": 33,
    "start_time": "2022-11-28T08:54:28.882Z"
   },
   {
    "duration": 5,
    "start_time": "2022-11-28T08:55:08.064Z"
   },
   {
    "duration": 40,
    "start_time": "2022-11-28T08:55:08.576Z"
   },
   {
    "duration": 38,
    "start_time": "2022-11-28T08:55:24.924Z"
   },
   {
    "duration": 35,
    "start_time": "2022-11-28T08:55:56.084Z"
   }
  ],
  "kernelspec": {
   "display_name": "Python 3 (ipykernel)",
   "language": "python",
   "name": "python3"
  },
  "language_info": {
   "codemirror_mode": {
    "name": "ipython",
    "version": 3
   },
   "file_extension": ".py",
   "mimetype": "text/x-python",
   "name": "python",
   "nbconvert_exporter": "python",
   "pygments_lexer": "ipython3",
   "version": "3.9.7"
  },
  "toc": {
   "base_numbering": 1,
   "nav_menu": {},
   "number_sections": true,
   "sideBar": true,
   "skip_h1_title": true,
   "title_cell": "Table of Contents",
   "title_sidebar": "Contents",
   "toc_cell": false,
   "toc_position": {},
   "toc_section_display": true,
   "toc_window_display": true
  }
 },
 "nbformat": 4,
 "nbformat_minor": 2
}
